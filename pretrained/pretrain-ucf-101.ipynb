{
 "cells": [
  {
   "cell_type": "code",
   "execution_count": null,
   "id": "split-disaster",
   "metadata": {},
   "outputs": [],
   "source": [
    "import sys\n",
    "sys.path.append('/data/users/bressekk/work/faimed3d')\n",
    "sys.path.append('..')"
   ]
  },
  {
   "cell_type": "markdown",
   "id": "sharing-movement",
   "metadata": {},
   "source": [
    "# Pretrain Models on UCF-101\n",
    "\n",
    "3-CV with UCF-101. Train/Test splits are provided in txt files, so at first the txt files are converted to `pd.DataFrame` for easier use."
   ]
  },
  {
   "cell_type": "code",
   "execution_count": null,
   "id": "optional-stuart",
   "metadata": {},
   "outputs": [],
   "source": [
    "from faimed3d.all import *\n",
    "from fastai.callback.all import *\n",
    "from fastai.distributed import *\n",
    "import faimed3d"
   ]
  },
  {
   "cell_type": "code",
   "execution_count": null,
   "id": "altered-twins",
   "metadata": {},
   "outputs": [],
   "source": [
    "BASE_DIR = Path('/data/users/bressekk/scratch/')\n",
    "if not BASE_DIR.exists(): \n",
    "    BASE_DIR = Path('/media/ScaleOut/vahldiek/Vids')\n",
    "DATA_DIR = BASE_DIR/'UCF-101'\n",
    "\n",
    "MODEL_DIR = Path('/data/users/bressekk/work/pretrain_3d/')\n",
    "if not MODEL_DIR.exists(): \n",
    "    MODEL_DIR = Path(os.getcwd())\n",
    "\n",
    "MODELS = ['resnet18_3d', 'resnet50_3d', 'resnet101_3d', 'efficientnet_b0', 'efficientnet_b1']"
   ]
  },
  {
   "cell_type": "code",
   "execution_count": null,
   "id": "pleased-concert",
   "metadata": {},
   "outputs": [],
   "source": [
    "def txt_to_df(fn):\n",
    "    file_dict = {'video_name':[], \n",
    "                 'action_type':[]\n",
    "            } \n",
    "\n",
    "    with open(fn, 'r') as f: \n",
    "        for l in f.readlines():\n",
    "            action_type, file_name = l.split('/')\n",
    "            file_name = file_name.split(' ')[0]\n",
    "            file_dict['video_name'].append(DATA_DIR/action_type/file_name.strip()) \n",
    "            file_dict['action_type'].append(action_type)\n",
    "\n",
    "    return pd.DataFrame.from_dict(file_dict)"
   ]
  },
  {
   "cell_type": "code",
   "execution_count": null,
   "id": "adaptive-piano",
   "metadata": {},
   "outputs": [],
   "source": [
    "train1 = BASE_DIR/'UCF101TrainTestSplits-RecognitionTask'/'ucfTrainTestlist'/'trainlist01.txt'\n",
    "train2 = BASE_DIR/'UCF101TrainTestSplits-RecognitionTask'/'ucfTrainTestlist'/'trainlist02.txt'\n",
    "train3 = BASE_DIR/'UCF101TrainTestSplits-RecognitionTask'/'ucfTrainTestlist'/'trainlist03.txt'\n",
    "\n",
    "test1 = BASE_DIR/'UCF101TrainTestSplits-RecognitionTask'/'ucfTrainTestlist'/'testlist01.txt'\n",
    "test2 = BASE_DIR/'UCF101TrainTestSplits-RecognitionTask'/'ucfTrainTestlist'/'testlist02.txt'\n",
    "test3 = BASE_DIR/'UCF101TrainTestSplits-RecognitionTask'/'ucfTrainTestlist'/'testlist03.txt'"
   ]
  },
  {
   "cell_type": "code",
   "execution_count": null,
   "id": "imported-relation",
   "metadata": {},
   "outputs": [],
   "source": [
    "def get_learner(dls, model_name, model_dir, image_size, split_idx):\n",
    "    model_func = getattr(faimed3d.all, model_name)\n",
    "    learn = Learner(dls, \n",
    "                    model_func(num_classes = dls.c), \n",
    "                    cbs = [SaveModelCallback(monitor = 'accuracy', \n",
    "                                             fname = f'{model_name}_{image_size}px_split_{split_idx}', \n",
    "                                             with_opt = True), \n",
    "                          MixUp(), \n",
    "                          EarlyStoppingCallback(patience = 25), \n",
    "                          CSVLogger(fname=model_dir/f'{model_name}_{image_size}px_split_{split_idx}.csv')], \n",
    "                   model_dir = model_dir, \n",
    "                   metrics = accuracy)\n",
    "    return learn"
   ]
  },
  {
   "cell_type": "code",
   "execution_count": null,
   "id": "worst-reply",
   "metadata": {},
   "outputs": [],
   "source": [
    "def train_one_split(model_name, train_source, split_idx):\n",
    "    \n",
    "    test_source = Path(str(train_source).replace('train', 'test'))\n",
    "    \n",
    "    train = txt_to_df(train_source)\n",
    "    train['is_valid'] = 0\n",
    "    test = txt_to_df(test_source)\n",
    "    test['is_valid'] = 1\n",
    "    df = pd.concat((train, test))\n",
    "        \n",
    "    # start small size\n",
    "    dls = ImageDataLoaders3D.from_df(df, path = '/', \n",
    "                                 bs = 32, \n",
    "                                 splitter = ColSplitter('is_valid'),\n",
    "                                 item_tfms = Resize3D((20, 112, 112)))   \n",
    "    learn = get_learner(dls, model_name=model_name, model_dir=MODEL_DIR, image_size=112, split_idx=split_idx)\n",
    "    \n",
    "    with learn.parallel_ctx(): learn.fit_one_cycle(150, wd = 1e-4)\n",
    "    \n",
    "    #prog resizing\n",
    "    new_size = 240 if model_name == 'efficientnet_b1' else 224\n",
    "    \n",
    "    dls = ImageDataLoaders3D.from_df(df, path = '/', \n",
    "                                 bs = 16, \n",
    "                                 splitter = ColSplitter('is_valid'), \n",
    "                                 item_tfms = Resize3D((20, new_size, new_size)))\n",
    "    learn = get_learner(dls, model_name=model_name, model_dir=MODEL_DIR, image_size=new_size, split_idx=split_idx)\n",
    "    learn = learn.load(f'{model_name}_{112}px_split_{split_idx}')\n",
    "    \n",
    "    with learn.parallel_ctx(): learn.fit_one_cycle(200, wd = 1e-4)"
   ]
  },
  {
   "cell_type": "markdown",
   "id": "weekly-maria",
   "metadata": {},
   "source": [
    "Run the training"
   ]
  },
  {
   "cell_type": "code",
   "execution_count": null,
   "id": "chinese-butter",
   "metadata": {},
   "outputs": [],
   "source": [
    "for model in MODELS:\n",
    "    for split, data in zip([1,2,3], [train1, train2, train3]):\n",
    "        print(f'{model}, split: {split}')\n",
    "        train_one_split(model, data, split)"
   ]
  },
  {
   "cell_type": "code",
   "execution_count": null,
   "id": "racial-anderson",
   "metadata": {},
   "outputs": [],
   "source": []
  }
 ],
 "metadata": {
  "kernelspec": {
   "display_name": "fastai-v2",
   "language": "python",
   "name": "fastai-v2"
  },
  "language_info": {
   "codemirror_mode": {
    "name": "ipython",
    "version": 3
   },
   "file_extension": ".py",
   "mimetype": "text/x-python",
   "name": "python",
   "nbconvert_exporter": "python",
   "pygments_lexer": "ipython3",
   "version": "3.8.5"
  }
 },
 "nbformat": 4,
 "nbformat_minor": 5
}
