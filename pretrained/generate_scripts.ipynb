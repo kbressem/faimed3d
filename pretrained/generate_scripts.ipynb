{
 "cells": [
  {
   "cell_type": "code",
   "execution_count": 5,
   "metadata": {},
   "outputs": [],
   "source": [
    "NAMES = [\"r18_3d\", \"r34_3d\", \"r50_3d\", \"r101_3d\", \"eb0_3d\", \"eb1_3d\", \"eb2_3d\", \"eb3_3d\", \"eb4_3d\"]"
   ]
  },
  {
   "cell_type": "code",
   "execution_count": 6,
   "metadata": {},
   "outputs": [],
   "source": [
    "for NAME in NAMES: \n",
    "    with open(NAME+\"_scheduler.sh\", \"w+\") as f: \n",
    "        f.write(\"#!/bin/bash\\n\")\n",
    "        f.write(f\"#SBATCH --job-name={NAME}\\n\")\n",
    "        f.write(f\"#SBATCH --output={NAME}.txt\\n\")\n",
    "        f.write(f\"#SBATCH --cpus-per-gpu=15\\n\")\n",
    "        f.write(f\"#SBATCH --gres=gpu:tesla:1\\n\")\n",
    "        f.write(f\"#SBATCH --mem-per-cpu=2000M\\n\")\n",
    "        f.write(f\"#SBATCH --nodes=1\\n\")\n",
    "        f.write(f\"source /data/users/bressekk/work/conda/etc/profile.d/conda.sh\\n\")\n",
    "        f.write(f\"conda activate fastai-v2\\n\")\n",
    "        f.write(f\"python -m fastai.launch /data/users/bressekk/work/faimed3d/pretrained/{NAME}.py\\n\")"
   ]
  },
  {
   "cell_type": "code",
   "execution_count": null,
   "metadata": {},
   "outputs": [],
   "source": []
  }
 ],
 "metadata": {
  "kernelspec": {
   "display_name": "fastai-v2",
   "language": "python",
   "name": "fastai-v2"
  },
  "language_info": {
   "codemirror_mode": {
    "name": "ipython",
    "version": 3
   },
   "file_extension": ".py",
   "mimetype": "text/x-python",
   "name": "python",
   "nbconvert_exporter": "python",
   "pygments_lexer": "ipython3",
   "version": "3.8.5"
  }
 },
 "nbformat": 4,
 "nbformat_minor": 4
}
