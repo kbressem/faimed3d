{
 "cells": [
  {
   "cell_type": "markdown",
   "metadata": {},
   "source": [
    "# Grad Cam"
   ]
  },
  {
   "cell_type": "code",
   "execution_count": 1,
   "metadata": {},
   "outputs": [],
   "source": [
    "# hide\n",
    "import sys\n",
    "sys.path.append(\"..\")"
   ]
  },
  {
   "cell_type": "code",
   "execution_count": 2,
   "metadata": {},
   "outputs": [],
   "source": [
    "# export\n",
    "# default_exp widgets.cam\n",
    "from faimed3d.all import *\n",
    "from fastai.basics import *"
   ]
  },
  {
   "cell_type": "code",
   "execution_count": 3,
   "metadata": {},
   "outputs": [],
   "source": [
    "# export\n",
    "class HookActivation():\n",
    "    def __init__(self, target_layer):\n",
    "        \"Initialize a Pytorch hook using `hook_activation` function.\"\n",
    "        self.hook = target_layer.register_forward_hook(self.hook_activation) \n",
    "        \n",
    "    def hook_activation(self, target_layer, activ_in, activ_out): \n",
    "        \"Create a copy of the layer output activations and save in `self.stored`.\"\n",
    "        self.stored = activ_out.detach().clone()\n",
    "        \n",
    "    def __enter__(self, *args): \n",
    "        return self\n",
    "    \n",
    "    def __exit__(self, *args): \n",
    "        self.hook.remove()\n",
    "\n",
    "        \n",
    "class HookGradient():\n",
    "    def __init__(self, target_layer):\n",
    "        \"Initialize a Pytorch hook using `hook_gradient` function.\"\n",
    "        self.hook = target_layer.register_backward_hook(self.hook_gradient)   \n",
    "        \n",
    "    def hook_gradient(self, target_layer, gradient_in, gradient_out): \n",
    "        \"Create a copy of the layer output gradients and save in `self.stored`.\"\n",
    "        self.stored = gradient_out[0].detach().clone()\n",
    "        \n",
    "    def __enter__(self, *args): \n",
    "        return self\n",
    "\n",
    "    def __exit__(self, *args): \n",
    "        self.hook.remove()"
   ]
  },
  {
   "cell_type": "code",
   "execution_count": 4,
   "metadata": {},
   "outputs": [],
   "source": [
    "# hide \n",
    "from torchvision.models.video import r3d_18\n",
    "\n",
    "#hide\n",
    "mrnet_data = pd.read_csv('../../mri-spa/data/train_knee.csv')\n",
    "std = tensor([173.06963,184.85706,197.57706,210.63336,225.09673,241.43134,260.64816,285.0106,320.0079,386.4354,562.08795])\n",
    "percs = tensor([1,10,20,30,40,50,60,70,80,90,99,])\n",
    "\n",
    "\n",
    "dls = ImageDataLoaders3D.from_df(mrnet_data, '/media/..',\n",
    "                                 item_tfms = ResizeCrop3D(crop_by = (0., 0.1, 0.1), resize_to = (16, 112, 112), perc_crop = True),\n",
    "                                 batch_tfms = [*aug_transforms_3d(), RandomPerspective3D(112, p=0.1)],\n",
    "                                 valid_col = 'is_valid',\n",
    "                                 bs = 64, val_bs = 64)\n",
    "\n",
    "learn = cnn_learner_3d(dls, \n",
    "                       resnet18_3d,  \n",
    "                       model_dir='/home/bressekk/Documents/faimed3d/trashbin/', \n",
    "                       metrics = [accuracy, RocAucBinary()])\n",
    "learn = learn.to_fp16()"
   ]
  },
  {
   "cell_type": "code",
   "execution_count": null,
   "metadata": {},
   "outputs": [
    {
     "data": {
      "text/html": [
       "\n",
       "    <div>\n",
       "        <style>\n",
       "            /* Turns off some styling */\n",
       "            progress {\n",
       "                /* gets rid of default border in Firefox and Opera. */\n",
       "                border: none;\n",
       "                /* Needs to be in here for Safari polyfill so background images work as expected. */\n",
       "                background-size: auto;\n",
       "            }\n",
       "            .progress-bar-interrupted, .progress-bar-interrupted::-webkit-progress-bar {\n",
       "                background: #F44336;\n",
       "            }\n",
       "        </style>\n",
       "      <progress value='4' class='' max='5' style='width:300px; height:20px; vertical-align: middle;'></progress>\n",
       "      80.00% [4/5 01:33<00:23]\n",
       "    </div>\n",
       "    \n",
       "<table border=\"1\" class=\"dataframe\">\n",
       "  <thead>\n",
       "    <tr style=\"text-align: left;\">\n",
       "      <th>epoch</th>\n",
       "      <th>train_loss</th>\n",
       "      <th>valid_loss</th>\n",
       "      <th>accuracy</th>\n",
       "      <th>roc_auc_score</th>\n",
       "      <th>time</th>\n",
       "    </tr>\n",
       "  </thead>\n",
       "  <tbody>\n",
       "    <tr>\n",
       "      <td>0</td>\n",
       "      <td>1.269152</td>\n",
       "      <td>0.575304</td>\n",
       "      <td>0.766667</td>\n",
       "      <td>0.549895</td>\n",
       "      <td>00:43</td>\n",
       "    </tr>\n",
       "    <tr>\n",
       "      <td>1</td>\n",
       "      <td>1.134585</td>\n",
       "      <td>0.727970</td>\n",
       "      <td>0.583333</td>\n",
       "      <td>0.622737</td>\n",
       "      <td>00:16</td>\n",
       "    </tr>\n",
       "    <tr>\n",
       "      <td>2</td>\n",
       "      <td>1.024576</td>\n",
       "      <td>0.737660</td>\n",
       "      <td>0.616667</td>\n",
       "      <td>0.576842</td>\n",
       "      <td>00:16</td>\n",
       "    </tr>\n",
       "    <tr>\n",
       "      <td>3</td>\n",
       "      <td>0.910839</td>\n",
       "      <td>0.612966</td>\n",
       "      <td>0.708333</td>\n",
       "      <td>0.650105</td>\n",
       "      <td>00:16</td>\n",
       "    </tr>\n",
       "  </tbody>\n",
       "</table><p>\n",
       "\n",
       "    <div>\n",
       "        <style>\n",
       "            /* Turns off some styling */\n",
       "            progress {\n",
       "                /* gets rid of default border in Firefox and Opera. */\n",
       "                border: none;\n",
       "                /* Needs to be in here for Safari polyfill so background images work as expected. */\n",
       "                background-size: auto;\n",
       "            }\n",
       "            .progress-bar-interrupted, .progress-bar-interrupted::-webkit-progress-bar {\n",
       "                background: #F44336;\n",
       "            }\n",
       "        </style>\n",
       "      <progress value='12' class='' max='17' style='width:300px; height:20px; vertical-align: middle;'></progress>\n",
       "      70.59% [12/17 00:11<00:04 0.8507]\n",
       "    </div>\n",
       "    "
      ],
      "text/plain": [
       "<IPython.core.display.HTML object>"
      ]
     },
     "metadata": {},
     "output_type": "display_data"
    }
   ],
   "source": [
    "learn.fit_one_cycle(5)"
   ]
  },
  {
   "cell_type": "code",
   "execution_count": null,
   "metadata": {},
   "outputs": [],
   "source": [
    "from fastai.learner import Learner # for compatibility with show_docs"
   ]
  },
  {
   "cell_type": "code",
   "execution_count": null,
   "metadata": {},
   "outputs": [],
   "source": [
    "#export\n",
    "@patch\n",
    "def grad_cam(learn:Learner, img, target_class=None, target_layer=None, *args, **kwargs):\n",
    "    \n",
    "    \n",
    "    if target_layer is None: target_layer = learn.model[-2][4]\n",
    "    pred = learn.predict(img)\n",
    "    print('actual:',pred[0], '\\t predicted:', pred[1].numpy(), '\\t class probabilities:', *pred[2].numpy())\n",
    "    if target_class is None: target_class = pred[1].numpy()\n",
    "    # get images    \n",
    "    x,  = first(learn.dls.test_dl([img]))\n",
    "    if x.ndim == 4: \n",
    "        x = torch.stack((x, )*3, 1)\n",
    "    x_img = TensorDicom3D(learn.dls.train.decode((x,))[0][0])\n",
    "    # create cam\n",
    "    with HookGradient(target_layer) as hookg:\n",
    "        with HookActivation(target_layer) as hook:\n",
    "            output = learn.model.eval()(x.cuda())\n",
    "            act = hook.stored\n",
    "        output[0, target_class].backward()\n",
    "        grad = hookg.stored\n",
    "        p0, p1 = output.cpu().detach()[0]\n",
    "        \n",
    "    w = grad[0].mean(dim=(1,2,3), keepdim=True)\n",
    "    global gradcam_map\n",
    "\n",
    "    gradcam_map = (w * act[0]).sum(0).detach().cpu()\n",
    "    gradcam_map = Resize3D(x_img[0].shape)(TensorDicom3D(gradcam_map))\n",
    "    # plot\n",
    "    x_img[0].show(*args, **kwargs)\n",
    "    gradcam_map.clamp(min=0).show(cmap='inferno', alpha = 0.5, add_to_existing = True,*args, **kwargs)\n",
    "    plt.axis('off')"
   ]
  },
  {
   "cell_type": "code",
   "execution_count": null,
   "metadata": {},
   "outputs": [],
   "source": [
    "# hide\n",
    "img = TensorDicom3D.create(mrnet_data.file_names[3])\n",
    "learn.grad_cam(img, nrow = 5)"
   ]
  },
  {
   "cell_type": "code",
   "execution_count": null,
   "metadata": {},
   "outputs": [],
   "source": [
    "gradcam_map.shape"
   ]
  },
  {
   "cell_type": "code",
   "execution_count": null,
   "metadata": {},
   "outputs": [],
   "source": []
  }
 ],
 "metadata": {
  "kernelspec": {
   "display_name": "fastai",
   "language": "python",
   "name": "fastai"
  },
  "language_info": {
   "codemirror_mode": {
    "name": "ipython",
    "version": 3
   },
   "file_extension": ".py",
   "mimetype": "text/x-python",
   "name": "python",
   "nbconvert_exporter": "python",
   "pygments_lexer": "ipython3",
   "version": "3.8.8"
  }
 },
 "nbformat": 4,
 "nbformat_minor": 4
}
