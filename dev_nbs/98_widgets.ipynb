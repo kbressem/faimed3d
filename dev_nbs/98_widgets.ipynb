{
 "cells": [
  {
   "cell_type": "markdown",
   "metadata": {},
   "source": [
    "# DICOM Viewer"
   ]
  },
  {
   "cell_type": "code",
   "execution_count": 1,
   "metadata": {},
   "outputs": [],
   "source": [
    "import sys\n",
    "sys.path.append('..')"
   ]
  },
  {
   "cell_type": "code",
   "execution_count": 2,
   "metadata": {},
   "outputs": [],
   "source": [
    "# export\n",
    "# default_exp widgets.viewer\n",
    "from faimed3d.basics import *\n",
    "from faimed3d.data import *\n",
    "from faimed3d.augment import *\n",
    "from fastai.basics import *"
   ]
  },
  {
   "cell_type": "code",
   "execution_count": 3,
   "metadata": {},
   "outputs": [],
   "source": [
    "# export\n",
    "from ipywidgets import interactive, widgets\n",
    "from IPython.display import display\n",
    "import matplotlib.pyplot as plt\n",
    "from itertools import chain, islice"
   ]
  },
  {
   "cell_type": "markdown",
   "metadata": {},
   "source": [
    "# Example Data"
   ]
  },
  {
   "cell_type": "code",
   "execution_count": 32,
   "metadata": {},
   "outputs": [],
   "source": [
    "## generate example data ##\n",
    "\n",
    "# two single images\n",
    "image1 = TensorDicom3D.create('../data/series/radiopaedia_10_85902_1.nii.gz')\n",
    "mask1 = TensorMask3D.create('../data/masks/radiopaedia_10_85902_1.nii.gz')\n",
    "image2 = TensorDicom3D.create('../data/series/radiopaedia_10_85902_3.nii.gz')\n",
    "mask2 = TensorMask3D.create('../data/masks/radiopaedia_10_85902_3.nii.gz')\n",
    "image3 = TensorDicom3D.create('../data/series/radiopaedia_14_85914_0.nii.gz')\n",
    "mask3 = TensorMask3D.create('../data/masks/radiopaedia_14_85914_0.nii.gz')\n",
    "image4 = TensorDicom3D.create('../data/series/radiopaedia_27_86410_0.nii.gz')\n",
    "mask4 = TensorMask3D.create('../data/masks/radiopaedia_27_86410_0.nii.gz')\n",
    "\n",
    "\n",
    "# a list of several images\n",
    "image_list = [image1, image2, image3, image4]\n",
    "mask_list = [mask1, mask2, mask3, mask4]"
   ]
  },
  {
   "cell_type": "markdown",
   "metadata": {},
   "source": [
    "## Helper functions"
   ]
  },
  {
   "cell_type": "code",
   "execution_count": 33,
   "metadata": {},
   "outputs": [],
   "source": [
    "def _create_label(text):\n",
    "    \"Generate generic widget label\"\n",
    "    label = widgets.Label(\n",
    "            text,\n",
    "            layout=widgets.Layout(\n",
    "            width='100%', \n",
    "            display='flex', \n",
    "            justify_content=\"center\"\n",
    "            )\n",
    "        )\n",
    "    return label\n",
    "        \n",
    "def _create_slider(slider_min, slider_max, value, step=1, description='',continuous_update=True, readout=False, slider_type='IntSlider', **kwargs):\n",
    "    \"Generate generic slider\"\n",
    "    slider = getattr(widgets, slider_type)(\n",
    "        min=slider_min, \n",
    "        max=slider_max, \n",
    "        step=step, \n",
    "        value=value,\n",
    "        description=description, \n",
    "        continuous_update=continuous_update,\n",
    "        readout = readout,\n",
    "        layout=widgets.Layout(width='99%', min_width='200px'),\n",
    "        style={'description_width': 'initial'}, \n",
    "        **kwargs\n",
    "    )   \n",
    "    return slider\n",
    "    \n",
    "def _create_button(description):\n",
    "    button = widgets.Button(\n",
    "            description=description,\n",
    "            layout=widgets.Layout(\n",
    "                width='95%',\n",
    "                margin='5px 5px'\n",
    "            )\n",
    "        )\n",
    "    return button\n",
    "\n",
    "\n",
    "def _create_togglebutton(description, value, **kwargs):\n",
    "    button = widgets.ToggleButton(\n",
    "            description=description,\n",
    "            value = value,\n",
    "            layout=widgets.Layout(\n",
    "                width='95%',\n",
    "                margin='5px 5px'\n",
    "            ), **kwargs\n",
    "        )\n",
    "    return button\n",
    "\n",
    "def _create_box(items, boxtype:str):\n",
    "    boxtype = getattr(widgets, boxtype+'Box')\n",
    "    box = boxtype(\n",
    "            items,\n",
    "            layout=widgets.Layout(\n",
    "                margin = '10px 5px 5px 5px', \n",
    "                padding =  '5px',\n",
    "                display='flex',\n",
    "                flex_flow='column',\n",
    "                align_items='center',\n",
    "            )\n",
    "         )\n",
    "    return box"
   ]
  },
  {
   "cell_type": "markdown",
   "metadata": {},
   "source": [
    "# Basic Viewer"
   ]
  },
  {
   "cell_type": "code",
   "execution_count": 34,
   "metadata": {},
   "outputs": [],
   "source": [
    "class BasicViewer():\n",
    "\n",
    "    def __init__(self, x:TensorDicom3D, y=None, prediction:str=None, description: str=None, figsize=(3, 3), cmap:str='bone'):\n",
    "        store_attr()\n",
    "        self.with_mask = True\n",
    "        self.slice_range = (1, len(x))      \n",
    "                    \n",
    "    def _plot_slice(self, im_slice, with_mask, px_range):\n",
    "        \"Plot slice of image\"\n",
    "        fig, ax = plt.subplots(1, 1, figsize=self.figsize) \n",
    "        ax.imshow(self.x[im_slice-1, :, :].clip(*px_range), cmap=self.cmap)\n",
    "        if isinstance(self.y, (TensorMask3D)) and with_mask:\n",
    "            ax.imshow(self.y[im_slice-1, :, :], cmap='jet', alpha = 0.25)\n",
    "        plt.axis('off')\n",
    "        ax.set_xticks([])\n",
    "        ax.set_yticks([])\n",
    "        plt.show()\n",
    "    \n",
    "    def _create_image_box(self, figsize):\n",
    "        \"Create widget items, order them in item_box and generate view box\"\n",
    "        items = []\n",
    "        \n",
    "        if self.description: plot_description = _create_label(self.description)\n",
    "        \n",
    "        if isinstance(self.y, str):\n",
    "            label = f'{self.y} | {self.prediction}' if self.prediction else self.y\n",
    "            if self.prediction: \n",
    "                font_color = 'green' if self.y == self.prediction else 'red'\n",
    "                y_label = _create_label(r'\\(\\color{' + font_color + '} {' + label  + '}\\)') \n",
    "            else: \n",
    "                y_label = _create_label(label)\n",
    "        else: y_label = _create_label(' ')\n",
    "            \n",
    "        slice_slider = _create_slider(min(self.slice_range), \n",
    "                                      max(self.slice_range), \n",
    "                                      max(self.slice_range)//2, \n",
    "                                      readout=True)\n",
    "\n",
    "        toggle_mask_button = _create_togglebutton('Show Mask', True)\n",
    "        \n",
    "        \n",
    "        range_slider = _create_slider(self.x.min().numpy(), \n",
    "                                      self.x.max().numpy(),  \n",
    "                                      [self.x.min().numpy(), self.x.max().numpy()], \n",
    "                                      slider_type = 'FloatRangeSlider' if torch.is_floating_point(self.x) else 'IntRandSlider', \n",
    "                                      step = 0.01 if torch.is_floating_point(self.x) else 1, \n",
    "                                      readout=True)\n",
    "        \n",
    "        image_output = widgets.interactive_output(\n",
    "                                self._plot_slice,\n",
    "                                {'im_slice': slice_slider, \n",
    "                                 'with_mask': toggle_mask_button, \n",
    "                                 'px_range': range_slider}\n",
    "        )\n",
    "                        \n",
    "        image_output.layout.height = f'{self.figsize[0]/1.2}in' # suppress flickering\n",
    "        image_output.layout.width = f'{self.figsize[1]/1.2}in' # suppress flickering\n",
    "        \n",
    "        \n",
    "        if self.description: items.append(plot_description)\n",
    "        items.append(y_label)\n",
    "        items.append(range_slider)        \n",
    "        items.append(image_output)\n",
    "        if isinstance(self.y, TensorMask3D): \n",
    "            slice_slider = widgets.HBox([slice_slider, toggle_mask_button])     \n",
    "        items.append(slice_slider)        \n",
    "                    \n",
    "        image_box=widgets.VBox(\n",
    "            items,\n",
    "            layout=widgets.Layout(\n",
    "                border = 'none', \n",
    "                margin = '10px 5px 0px 0px', \n",
    "                padding =  '5px'\n",
    "            )\n",
    "        )\n",
    "        \n",
    "        return image_box\n",
    "    \n",
    "    def _generate_views(self):\n",
    "        image_box = self._create_image_box(self.figsize)\n",
    "        self.box = widgets.HBox(children=[image_box])\n",
    "\n",
    "    @property\n",
    "    def image_box(self):\n",
    "        return self._create_image_box(self.figsize)\n",
    "    \n",
    "    def show(self):\n",
    "        self._generate_views()\n",
    "        plt.style.use('default')\n",
    "        display(self.box)"
   ]
  },
  {
   "cell_type": "code",
   "execution_count": 35,
   "metadata": {},
   "outputs": [
    {
     "data": {
      "application/vnd.jupyter.widget-view+json": {
       "model_id": "a49778f43580438b89c6f706a085ec98",
       "version_major": 2,
       "version_minor": 0
      },
      "text/plain": [
       "HBox(children=(VBox(children=(Label(value=' ', layout=Layout(display='flex', justify_content='center', width='…"
      ]
     },
     "metadata": {},
     "output_type": "display_data"
    }
   ],
   "source": [
    "plot = BasicViewer(image1, y=mask1, prediction='Covid', figsize = (5,5))\n",
    "plot.show()"
   ]
  },
  {
   "cell_type": "markdown",
   "metadata": {},
   "source": [
    "# Dicom Explorer"
   ]
  },
  {
   "cell_type": "code",
   "execution_count": 36,
   "metadata": {
    "tags": []
   },
   "outputs": [],
   "source": [
    "class DicomExplorer(BasicViewer):\n",
    "    vbox_layout = widgets.Layout(\n",
    "                      margin = '10px 5px 5px 5px', \n",
    "                      padding =  '5px',\n",
    "                      display='flex',\n",
    "                      flex_flow='column',\n",
    "                      align_items='center', \n",
    "                      min_width = '250px')\n",
    "            \n",
    "    def _plot_hist(self, px_range):\n",
    "        x = self.x.numpy().flatten()\n",
    "        fig, ax = plt.subplots(figsize=self.figsize)    \n",
    "        \n",
    "        N, bins, patches = plt.hist(x, 100, color='grey')\n",
    "        \n",
    "        lwr = int(px_range[0] * 100/max(x))\n",
    "        upr = int(np.ceil(px_range[1] * 100/max(x)))\n",
    "        \n",
    "        for i in range(0,lwr):\n",
    "            patches[i].set_facecolor('grey' if lwr > 0 else 'darkblue')\n",
    "        for i in range(lwr, upr):\n",
    "            patches[i].set_facecolor('darkblue')\n",
    "        for i in range(upr,100):\n",
    "            patches[i].set_facecolor('grey' if upr < 100 else 'darkblue')\n",
    "        \n",
    "        plt.show()\n",
    "        \n",
    "    def _image_summary(self, px_range):\n",
    "        x = self.x.clip(*px_range)\n",
    "\n",
    "        diffs = x - x.mean()\n",
    "        var = torch.mean(torch.pow(diffs, 2.0))\n",
    "        std = torch.pow(var, 0.5)\n",
    "        zscores = diffs / std\n",
    "        skews = torch.mean(torch.pow(zscores, 3.0))\n",
    "        kurt = torch.mean(torch.pow(zscores, 4.0)) - 3.0\n",
    "        entropy = torch.distributions.Categorical(x).entropy()\n",
    "\n",
    "        table = f'Statistics:\\n' + \\\n",
    "                f'  Mean px value:     {x.mean()} \\n' + \\\n",
    "                f'  Std of px values:  {x.std()} \\n' + \\\n",
    "                f'  Min px value:      {x.min()} \\n' + \\\n",
    "                f'  Max px value:      {x.max()} \\n' + \\\n",
    "                f'  Median px value:   {x.median()} \\n' + \\\n",
    "                f'  Skewness:          {skews} \\n' + \\\n",
    "                f'  Kurtosis:          {kurt} \\n\\n' + \\\n",
    "                f'Tensor properties \\n' + \\\n",
    "                f'  Tensor shape:      {tuple(x.shape)}\\n' + \\\n",
    "                f'  Tensor dtype:      {x.dtype}'\n",
    "        \n",
    "        print(table)\n",
    "        \n",
    "   \n",
    "        \n",
    "    def _generate_views(self):   \n",
    "        \n",
    "        slice_slider = _create_slider(\n",
    "                           min(self.slice_range), \n",
    "                           max(self.slice_range), \n",
    "                           max(self.slice_range)//2, \n",
    "                           readout=True)\n",
    "\n",
    "        toggle_mask_button = _create_togglebutton('Show Mask', True)\n",
    "        \n",
    "        range_slider = _create_slider(\n",
    "                            self.x.min().numpy(), \n",
    "                            self.x.max().numpy(),  \n",
    "                            [self.x.min().numpy(), self.x.max().numpy()], \n",
    "                            slider_type = 'FloatRangeSlider' if torch.is_floating_point(self.x) else 'IntRandSlider', \n",
    "                            step = 0.01 if torch.is_floating_point(self.x) else 1)\n",
    "        \n",
    "        image_output = widgets.interactive_output(\n",
    "                           self._plot_slice,\n",
    "                           {'im_slice': slice_slider, \n",
    "                            'with_mask': toggle_mask_button, \n",
    "                            'px_range': range_slider})\n",
    "                        \n",
    "        image_output.layout.height = f'{self.figsize[0]/1.2}in' # suppress flickering\n",
    "        image_output.layout.width = f'{self.figsize[1]/1.2}in' # suppress flickering\n",
    "        \n",
    "        if isinstance(self.y, TensorMask3D): \n",
    "            slice_slider = widgets.HBox([slice_slider, toggle_mask_button])     \n",
    "        \n",
    "        hist_output = widgets.interactive_output(\n",
    "                                self._plot_hist,\n",
    "                                {'px_range': range_slider}\n",
    "            )\n",
    "        \n",
    "        hist_output.layout.height = f'{self.figsize[0]/1.2}in' # suppress flickering\n",
    "        hist_output.layout.width = f'{self.figsize[1]/1.2}in' # suppress flickering\n",
    "\n",
    "        toggle_mask_button = _create_togglebutton('Show Mask', True)\n",
    "        \n",
    "        table_output = widgets.interactive_output(\n",
    "                                self._image_summary, \n",
    "                                {'px_range': range_slider})\n",
    "        \n",
    "        table_box = widgets.VBox([table_output], layout=self.vbox_layout)\n",
    "        \n",
    "        hist_box = widgets.VBox(\n",
    "                [hist_output, range_slider],\n",
    "                layout=self.vbox_layout)\n",
    "        \n",
    "        image_box = widgets.VBox(\n",
    "                [image_output, slice_slider],\n",
    "                layout=self.vbox_layout)\n",
    "        \n",
    "        self.box = widgets.HBox(\n",
    "                    [image_box, hist_box, table_box], \n",
    "                    layout=widgets.Layout(\n",
    "                        border = 'solid 1px lightgrey', \n",
    "                        margin = '10px 5px 0px 0px', \n",
    "                        padding =  '5px', \n",
    "                        width = f'{self.figsize[1]*2 + 3}in'))\n",
    "        "
   ]
  },
  {
   "cell_type": "code",
   "execution_count": 39,
   "metadata": {},
   "outputs": [
    {
     "data": {
      "application/vnd.jupyter.widget-view+json": {
       "model_id": "89f0efe016d8408d8fa3cc11fa120d43",
       "version_major": 2,
       "version_minor": 0
      },
      "text/plain": [
       "HBox(children=(VBox(children=(Output(layout=Layout(height='4.166666666666667in', width='4.166666666666667in'))…"
      ]
     },
     "metadata": {},
     "output_type": "display_data"
    }
   ],
   "source": [
    "plot = DicomExplorer(image4, y=mask4, figsize = (5,5))\n",
    "plot.show()"
   ]
  },
  {
   "cell_type": "markdown",
   "metadata": {},
   "source": [
    "# List Viewer Class"
   ]
  },
  {
   "cell_type": "code",
   "execution_count": 65,
   "metadata": {},
   "outputs": [],
   "source": [
    "class ListViewer(object):\n",
    "    \n",
    "    def __init__(self, x:list, y=None, prediction:str=None, description: str=None, figsize=(4, 4), cmap:str='bone', max_n = 16):\n",
    "        self.slice_range = (1, len(x))      \n",
    "        x = x[0:max_n]\n",
    "        if y: y = y[0:max_n]\n",
    "        store_attr()\n",
    "    \n",
    "    def _generate_views(self):\n",
    "        n_im = len(self.x)\n",
    "        image_grid = []\n",
    "        image_list = []\n",
    "        for i in range(0, n_im):\n",
    "            im = self.x[i]\n",
    "            ma = self.y[i] if isinstance(self.y, list) else None\n",
    "            pred = self.prediction[i] if self.prediction else None\n",
    "            image_list.append(BasicViewer(im, ma, pred, figsize=self.figsize, cmap=self.cmap).image_box)\n",
    "            if (i+1) % np.ceil(np.sqrt(n_im)) == 0 or i == n_im - 1: \n",
    "                image_grid.append(widgets.HBox(image_list))\n",
    "                image_list = []\n",
    "        \n",
    "        self.box = widgets.VBox(children=image_grid) \n",
    "    def show(self):\n",
    "        self._generate_views()\n",
    "        plt.style.use('default')\n",
    "        display(self.box)"
   ]
  },
  {
   "cell_type": "code",
   "execution_count": 67,
   "metadata": {},
   "outputs": [
    {
     "data": {
      "application/vnd.jupyter.widget-view+json": {
       "model_id": "801032ba81934ab6b6e362c535c62a25",
       "version_major": 2,
       "version_minor": 0
      },
      "text/plain": [
       "VBox(children=(HBox(children=(VBox(children=(Label(value='\\\\(\\\\color{green} {Covid | Covid}\\\\)', layout=Layout…"
      ]
     },
     "metadata": {},
     "output_type": "display_data"
    }
   ],
   "source": [
    "plot = ListViewer(image_list, y=['Covid', 'Covid', 'Covid', 'Covid'], prediction=['Covid', 'Covid', 'Covid', 'No Covid'])\n",
    "plot.show()"
   ]
  },
  {
   "cell_type": "code",
   "execution_count": null,
   "metadata": {},
   "outputs": [],
   "source": []
  }
 ],
 "metadata": {
  "kernelspec": {
   "display_name": "Python 3",
   "language": "python",
   "name": "python3"
  },
  "language_info": {
   "codemirror_mode": {
    "name": "ipython",
    "version": 3
   },
   "file_extension": ".py",
   "mimetype": "text/x-python",
   "name": "python",
   "nbconvert_exporter": "python",
   "pygments_lexer": "ipython3",
   "version": "3.7.10"
  }
 },
 "nbformat": 4,
 "nbformat_minor": 4
}
