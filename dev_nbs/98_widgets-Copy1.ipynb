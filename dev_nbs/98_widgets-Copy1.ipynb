{
 "cells": [
  {
   "cell_type": "markdown",
   "metadata": {},
   "source": [
    "# DICOM Viewer"
   ]
  },
  {
   "cell_type": "code",
   "execution_count": 16,
   "metadata": {},
   "outputs": [],
   "source": [
    "import sys\n",
    "sys.path.append('..')"
   ]
  },
  {
   "cell_type": "code",
   "execution_count": 17,
   "metadata": {},
   "outputs": [],
   "source": [
    "# export\n",
    "# default_exp widgets.viewer\n",
    "from faimed3d.basics import *\n",
    "from faimed3d.data import *\n",
    "from faimed3d.augment import *\n",
    "from fastai.basics import *"
   ]
  },
  {
   "cell_type": "code",
   "execution_count": 18,
   "metadata": {},
   "outputs": [],
   "source": [
    "# export\n",
    "from ipywidgets import interactive, widgets\n",
    "from IPython.display import display\n",
    "import matplotlib.pyplot as plt\n",
    "from itertools import chain, islice"
   ]
  },
  {
   "cell_type": "code",
   "execution_count": 19,
   "metadata": {},
   "outputs": [
    {
     "name": "stderr",
     "output_type": "stream",
     "text": [
      "<ipython-input-19-c56a35f889da>:10: UserWarning: The faimed3d image viewer requires Jupyter Notebook to work properly\n",
      "  warn('The faimed3d image viewer requires Jupyter Notebook to work properly')\n"
     ]
    }
   ],
   "source": [
    "# export\n",
    "from warnings import warn\n",
    "def is_lab():\n",
    "        import re\n",
    "        import psutil\n",
    "        \n",
    "        return any(re.search('jupyter-lab', x)\n",
    "                   for x in psutil.Process().parent().cmdline())\n",
    "if is_lab():\n",
    "    warn('The faimed3d image viewer requires Jupyter Notebook to work properly')"
   ]
  },
  {
   "cell_type": "markdown",
   "metadata": {},
   "source": [
    "# Example Data"
   ]
  },
  {
   "cell_type": "code",
   "execution_count": 20,
   "metadata": {},
   "outputs": [],
   "source": [
    "## generate example data ##\n",
    "\n",
    "# two single images\n",
    "image = TensorDicom3D.create('/media/ScaleOut/vahldiek/MRI/SIJ/TRAINING_FINAL/01001/T1')\n",
    "image2 = TensorDicom3D.create('/media/ScaleOut/vahldiek/MRI/SIJ/TRAINING_FINAL/01004/T1')\n",
    "image3 = TensorDicom3D.create('/media/ScaleOut/vahldiek/MRI/SIJ/TRAINING_FINAL/01004/TIRM')\n",
    "\n",
    "# a list of several images\n",
    "image_list = [image, image2, image3, image]\n",
    "\n",
    "# a dataloader from CSV\n",
    "d =  pd.read_csv('../../mri-spa/data/train_knee.csv')\n",
    "dls = ImageDataLoaders3D.from_df(d, path='/media/..', \n",
    "                                 item_tfms = ResizeCrop3D(crop_by = (0., 0.1, 0.1), resize_to = (20, 150, 150), perc_crop = True),\n",
    "                                 bs = 2, \n",
    "                                 val_bs = 2)"
   ]
  },
  {
   "cell_type": "markdown",
   "metadata": {},
   "source": [
    "# Basic View Class"
   ]
  },
  {
   "cell_type": "code",
   "execution_count": 21,
   "metadata": {},
   "outputs": [],
   "source": [
    "class DatasetExplorerBasicView():\n",
    "    \n",
    "    def __init__(self, x:TensorDicom3D, y:str=None, prediction:str=None, description: str=None, figsize=(5, 5), cmap:str='bone', show_hist=False, from_list=False):\n",
    "        store_attr()\n",
    "        self.slice_range = (1, len(x))       \n",
    "        self._generate_views(figsize, show_hist)\n",
    "        plt.style.use('default')\n",
    "    \n",
    "    def _plot_slice(self, im_slice):\n",
    "        fig, ax = plt.subplots(1, 1, figsize=self.figsize)\n",
    "        ax.imshow(self.x[im_slice-1, :, :], cmap=self.cmap)\n",
    "        #plt.axis('off')\n",
    "        ax.set_xticks([])\n",
    "        ax.set_yticks([])\n",
    "        plt.show()\n",
    "        \n",
    "    def _plot_hist(self, upper_bound):\n",
    "        fig, ax = plt.subplots(figsize=self.figsize)\n",
    "        plt.hist(self.x.numpy().flatten(), 50)\n",
    "        plt.show()\n",
    "        \n",
    "    def _generate_views(self, figsize, show_hist):\n",
    "        \n",
    "        self.figsize = figsize\n",
    "        \n",
    "        items_in_box = []\n",
    "        \n",
    "        description_text = None\n",
    "        if self.description:\n",
    "            description_text = self.description\n",
    "        elif self.from_list and self.show_hist:\n",
    "            description_text = '3D Image'\n",
    "            \n",
    "        if description_text:\n",
    "            description_label = widgets.Label(\n",
    "                description_text, \n",
    "                layout=widgets.Layout(\n",
    "                    width='100%', \n",
    "                    display='flex', \n",
    "                    justify_content=\"center\"\n",
    "                )\n",
    "            )\n",
    "            items_in_box.append(description_label)\n",
    "            \n",
    "            \n",
    "        label_text = ''\n",
    "        if self.y:\n",
    "            label_text = 'Class: '+self.y\n",
    "            if self.prediction:\n",
    "                label_text = label_text + '  |  Prediction: ' + self.prediction    \n",
    "        elif self.from_list and self.show_hist:\n",
    "            label_text = ' '\n",
    "            \n",
    "        if label_text:\n",
    "            y_label =  widgets.Label(\n",
    "                label_text, \n",
    "                layout=widgets.Layout(\n",
    "                    width='100%', \n",
    "                    display='flex', \n",
    "                    justify_content=\"center\"\n",
    "                )\n",
    "            )\n",
    "            items_in_box.append(y_label)\n",
    "        \n",
    "        slice_slider = widgets.IntSlider(\n",
    "            min=min(self.slice_range), \n",
    "            max=max(self.slice_range), \n",
    "            step=1, \n",
    "            value=max(self.slice_range)//2, \n",
    "            description='', \n",
    "            continuous_update=True,\n",
    "            readout = False,\n",
    "            layout=widgets.Layout(width='99%', min_width='200px'),\n",
    "            style={'description_width': 'initial'}\n",
    "        )\n",
    "        \n",
    "        image_output = widgets.interactive_output(\n",
    "                                self._plot_slice,\n",
    "                                {'im_slice': slice_slider}\n",
    "        )\n",
    "        \n",
    "        items_in_box.append(image_output)\n",
    "        items_in_box.append(slice_slider)\n",
    "        \n",
    "        border_style_vbox = 'none' if show_hist else 'solid 1px lightgrey'\n",
    "            \n",
    "        self.vbox=widgets.VBox(\n",
    "            items_in_box,\n",
    "            layout=widgets.Layout(\n",
    "                border = border_style_vbox, \n",
    "                margin = '10px 5px 0px 0px', \n",
    "                padding =  '5px'\n",
    "            )\n",
    "        )\n",
    "        \n",
    "        self.box = widgets.HBox(children=[self.vbox])\n",
    "        \n",
    "        if show_hist:\n",
    "            hist_slider = widgets.IntSlider(\n",
    "                min=-1000, \n",
    "                max=+1000, \n",
    "                step=1, \n",
    "                value=0, \n",
    "                description='Upper Bound', \n",
    "                continuous_update=True,\n",
    "                readout = True,\n",
    "                layout=widgets.Layout(width='100%', min_width='200px'),\n",
    "                style={'description_width': 'initial'}\n",
    "            )\n",
    "            hist_slider2 = widgets.IntSlider(\n",
    "                min=-1000, \n",
    "                max=+1000, \n",
    "                step=1, \n",
    "                value=0, \n",
    "                description='Lower Bound', \n",
    "                continuous_update=True,\n",
    "                readout = True,\n",
    "                layout=widgets.Layout(width='100%', min_width='200px'),\n",
    "                style={'description_width': 'initial'}\n",
    "            )\n",
    "            hist_button = widgets.Button(\n",
    "                description = 'Apply to Image',\n",
    "            )\n",
    "            hist_output = widgets.interactive_output(\n",
    "                                self._plot_hist,\n",
    "                                {'upper_bound': hist_slider}\n",
    "            )\n",
    "            title_label = widgets.Label(\n",
    "                '3D Histogram', \n",
    "                layout=widgets.Layout(\n",
    "                    width='100%', \n",
    "                    display='flex', \n",
    "                    justify_content=\"center\"\n",
    "                )\n",
    "            )\n",
    "            values_label = widgets.Label(\n",
    "                'Min: ' + '{:5.1f}'.format(torch.min(self.x).item()) + ' | Max: ' + '{:5.1f}'.format(torch.max(self.x).item()) + ' | Mean: ' + '{:5.1f}'.format(torch.mean(self.x).item()), \n",
    "                layout=widgets.Layout(\n",
    "                    width='100%', \n",
    "                    display='flex', \n",
    "                    justify_content=\"center\"\n",
    "                )\n",
    "            )\n",
    "            self.hist_box = widgets.VBox(\n",
    "                [title_label, values_label, hist_output, hist_slider, hist_slider2, hist_button],\n",
    "                layout=widgets.Layout(\n",
    "                    margin = '10px 5px 5px 5px', \n",
    "                    padding =  '5px',\n",
    "                    display='flex',\n",
    "                    flex_flow='column',\n",
    "                    align_items='center',\n",
    "                )\n",
    "            )\n",
    "            self.box = widgets.HBox(\n",
    "                [self.vbox, self.hist_box],\n",
    "                layout=widgets.Layout(\n",
    "                    border = 'solid 1px lightgrey', \n",
    "                    margin = '10px 5px 0px 0px', \n",
    "                    padding =  '5px', \n",
    "                    width = '70%'\n",
    "                )\n",
    "            )\n",
    "\n",
    "    def show(self):\n",
    "        display(self.box)"
   ]
  },
  {
   "cell_type": "code",
   "execution_count": 22,
   "metadata": {},
   "outputs": [
    {
     "data": {
      "application/vnd.jupyter.widget-view+json": {
       "model_id": "40c6603d8b6048dfb3de7623d3aaab0c",
       "version_major": 2,
       "version_minor": 0
      },
      "text/plain": [
       "HBox(children=(VBox(children=(Label(value='/media/images/t2.nii.gz', layout=Layout(display='flex', justify_con…"
      ]
     },
     "metadata": {},
     "output_type": "display_data"
    }
   ],
   "source": [
    "plot = DatasetExplorerBasicView(image, y='1', prediction='0', description='/media/images/t2.nii.gz')\n",
    "plot.show()"
   ]
  },
  {
   "cell_type": "markdown",
   "metadata": {},
   "source": [
    "### With Histogram"
   ]
  },
  {
   "cell_type": "code",
   "execution_count": 8,
   "metadata": {},
   "outputs": [
    {
     "data": {
      "application/vnd.jupyter.widget-view+json": {
       "model_id": "e9d2fb4bd6174a3d96c2fca5b6d76412",
       "version_major": 2,
       "version_minor": 0
      },
      "text/plain": [
       "HBox(children=(VBox(children=(Label(value='/media/images/t2.nii.gz', layout=Layout(display='flex', justify_con…"
      ]
     },
     "metadata": {},
     "output_type": "display_data"
    }
   ],
   "source": [
    "plot = DatasetExplorerBasicView(image, y='1', prediction='0', description='/media/images/t2.nii.gz', show_hist=True)\n",
    "plot.show()"
   ]
  },
  {
   "cell_type": "markdown",
   "metadata": {},
   "source": [
    "# List Viewer Class"
   ]
  },
  {
   "cell_type": "code",
   "execution_count": 9,
   "metadata": {},
   "outputs": [],
   "source": [
    "class DatasetExplorerListViewer():\n",
    "    \n",
    "    def __init__(self, images:(list, DataLoaders), num:int=3, figsize=(5, 5), cmap:str='bone', show_hist=False):\n",
    "        \n",
    "        # images = list of TensorDicom3D objects or DataLoader of TensorDicom3D objects\n",
    "        \n",
    "        self.images = []\n",
    "        \n",
    "        if isinstance(images, DataLoaders):\n",
    "            self.dls = images\n",
    "            self.activate_batch()\n",
    "            \n",
    "        elif isinstance(images, list):\n",
    "            self.images = images\n",
    "        else:\n",
    "            return\n",
    "        \n",
    "        self.cmap = cmap\n",
    "        self.num = num\n",
    "        self.show_hist = show_hist\n",
    "        self.figsize = figsize\n",
    "        \n",
    "    def chunk(self, seq, chunksize, process=iter):\n",
    "        \"\"\" Yields items from an iterator in iterable chunks.\"\"\"\n",
    "        it = iter(seq)\n",
    "        while True:\n",
    "            try:\n",
    "                yield process(chain([next(it)], islice(it, chunksize - 1)))\n",
    "            except StopIteration:\n",
    "                return\n",
    "            \n",
    "    def activate_batch(self):\n",
    "        self.images = []\n",
    "        \n",
    "        xb, yb = next(iter(self.dls)).one_batch()\n",
    "        \n",
    "        for t in xb:\n",
    "            ima = t[0]\n",
    "            if t.is_cuda:\n",
    "                ima = ima.cpu()\n",
    "            self.images.append(ima)\n",
    "\n",
    "        if yb.is_cuda:\n",
    "            yb = yb.cpu()\n",
    "        self.yb = yb.numpy()\n",
    "            \n",
    "    def next_batch_clicked(self, button):\n",
    "        self.activate_batch()\n",
    "        button.disabled=True\n",
    "        self.show()\n",
    "        \n",
    "    def show(self):\n",
    "        all_boxes = []\n",
    "        \n",
    "        for index, image in enumerate(self.images):\n",
    "            y = None\n",
    "            if hasattr(self, 'dls'):\n",
    "                y = str(self.yb[index])\n",
    "            basic_view = DatasetExplorerBasicView(image, y=y, description=None, figsize=self.figsize, cmap='bone', show_hist=self.show_hist, from_list=True)\n",
    "                        \n",
    "            if self.show_hist:\n",
    "                basic_view.vbox.layout = widgets.Layout(\n",
    "                    border = 'none', \n",
    "                    margin = '5px', \n",
    "                    padding =  '5px',\n",
    "                    width = '50%'\n",
    "                )\n",
    "            \n",
    "                basic_view.hist_box.layout = widgets.Layout(\n",
    "                    margin = '10px 5px 5px 5px', \n",
    "                    padding =  '5px',\n",
    "                    display='flex',\n",
    "                    flex_flow='column',\n",
    "                    align_items='center',\n",
    "                    width='50%'\n",
    "                )\n",
    "                all_boxes.append(basic_view.box)\n",
    "            else:\n",
    "                basic_view.vbox.layout = widgets.Layout(\n",
    "                    border = 'solid 1px lightgray', \n",
    "                    margin = '5px', \n",
    "                    padding =  '5px',\n",
    "                    width = '30%'\n",
    "                )\n",
    "                all_boxes.append(basic_view.vbox)\n",
    "        \n",
    "        if hasattr(self, 'dls'):\n",
    "            next_batch_button = widgets.Button(\n",
    "                description='Show Next Batch >',\n",
    "                layout=widgets.Layout(\n",
    "                    width='100%',\n",
    "                    margin='40px 0px'\n",
    "                )\n",
    "            )\n",
    "            next_batch_button.on_click(self.next_batch_clicked)\n",
    "            all_boxes.append(next_batch_button)\n",
    "        \n",
    "        viewbox = widgets.HBox(\n",
    "            children=all_boxes,\n",
    "            layout=widgets.Layout(\n",
    "                display = 'flex',\n",
    "                flex_flow ='row wrap'\n",
    "            )\n",
    "        )\n",
    "        \n",
    "        display(viewbox)\n",
    "    \n",
    "    # deprecated\n",
    "    def _show(self):\n",
    "    \n",
    "        all_boxes = []\n",
    "        for image in self.images:\n",
    "            basic_view = DatasetExplorerBasicView(image, figsize=(5, 5), cmap='bone')\n",
    "            all_boxes.append(basic_view.vbox)\n",
    "            \n",
    "        vboxes = []\n",
    "        \n",
    "        for chunked_boxes in self.chunk(all_boxes, self.num, list):\n",
    "            vboxes.append(widgets.HBox(children=chunked_boxes))\n",
    "            \n",
    "        display(widgets.VBox(children=vboxes))"
   ]
  },
  {
   "cell_type": "code",
   "execution_count": 10,
   "metadata": {},
   "outputs": [
    {
     "data": {
      "application/vnd.jupyter.widget-view+json": {
       "model_id": "58719f14ce6b439daea959d8c6401ef1",
       "version_major": 2,
       "version_minor": 0
      },
      "text/plain": [
       "HBox(children=(VBox(children=(Output(), IntSlider(value=12, layout=Layout(min_width='200px', width='99%'), max…"
      ]
     },
     "metadata": {},
     "output_type": "display_data"
    }
   ],
   "source": [
    "DatasetExplorerListViewer(image_list).show()"
   ]
  },
  {
   "cell_type": "markdown",
   "metadata": {},
   "source": [
    "### With Histogram"
   ]
  },
  {
   "cell_type": "code",
   "execution_count": 11,
   "metadata": {},
   "outputs": [
    {
     "data": {
      "application/vnd.jupyter.widget-view+json": {
       "model_id": "26d62678236d4a1a922a007771a37e9c",
       "version_major": 2,
       "version_minor": 0
      },
      "text/plain": [
       "HBox(children=(HBox(children=(VBox(children=(Label(value='3D Image', layout=Layout(display='flex', justify_con…"
      ]
     },
     "metadata": {},
     "output_type": "display_data"
    }
   ],
   "source": [
    "DatasetExplorerListViewer(image_list, show_hist=True).show()"
   ]
  },
  {
   "cell_type": "markdown",
   "metadata": {},
   "source": [
    "### From DataLoaders"
   ]
  },
  {
   "cell_type": "code",
   "execution_count": 12,
   "metadata": {},
   "outputs": [
    {
     "data": {
      "application/vnd.jupyter.widget-view+json": {
       "model_id": "4e5fb1d097884c0da6c0a2e766c355a0",
       "version_major": 2,
       "version_minor": 0
      },
      "text/plain": [
       "HBox(children=(VBox(children=(Label(value='Class: 1', layout=Layout(display='flex', justify_content='center', …"
      ]
     },
     "metadata": {},
     "output_type": "display_data"
    }
   ],
   "source": [
    "DatasetExplorerListViewer(dls).show()"
   ]
  },
  {
   "cell_type": "markdown",
   "metadata": {},
   "source": [
    "### From DataLoaders With Histogram"
   ]
  },
  {
   "cell_type": "code",
   "execution_count": null,
   "metadata": {},
   "outputs": [],
   "source": [
    "DatasetExplorerListViewer(dls, show_hist=True).show()"
   ]
  },
  {
   "cell_type": "code",
   "execution_count": null,
   "metadata": {},
   "outputs": [],
   "source": [
    "# collabieren des outputs ausstellen"
   ]
  }
 ],
 "metadata": {
  "kernelspec": {
   "display_name": "fastai",
   "language": "python",
   "name": "fastai"
  },
  "language_info": {
   "codemirror_mode": {
    "name": "ipython",
    "version": 3
   },
   "file_extension": ".py",
   "mimetype": "text/x-python",
   "name": "python",
   "nbconvert_exporter": "python",
   "pygments_lexer": "ipython3",
   "version": "3.8.8"
  }
 },
 "nbformat": 4,
 "nbformat_minor": 4
}
