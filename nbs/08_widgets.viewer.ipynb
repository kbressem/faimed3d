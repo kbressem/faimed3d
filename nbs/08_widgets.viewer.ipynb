{
 "cells": [
  {
   "cell_type": "markdown",
   "metadata": {},
   "source": [
    "# DICOM Viewer"
   ]
  },
  {
   "cell_type": "code",
   "execution_count": 41,
   "metadata": {},
   "outputs": [],
   "source": [
    "# hide\n",
    "import sys\n",
    "sys.path.append(\"..\")\n",
    "from nbdev.showdoc import *"
   ]
  },
  {
   "cell_type": "code",
   "execution_count": 42,
   "metadata": {},
   "outputs": [],
   "source": [
    "# export\n",
    "# default_exp widgets.viewer\n",
    "from faimed3d.basics import *\n",
    "from fastai.basics import *"
   ]
  },
  {
   "cell_type": "code",
   "execution_count": 43,
   "metadata": {},
   "outputs": [],
   "source": [
    "# export\n",
    "from ipywidgets import interactive, widgets\n",
    "from IPython.display import display\n",
    "import matplotlib.pyplot as plt\n",
    "from itertools import chain, islice"
   ]
  },
  {
   "cell_type": "markdown",
   "metadata": {},
   "source": [
    "## Example Data"
   ]
  },
  {
   "cell_type": "code",
   "execution_count": 44,
   "metadata": {},
   "outputs": [],
   "source": [
    "image_list = [TensorDicom3D.create(fn) for fn in Path('../data/series/').ls()]\n",
    "mask_list = [TensorMask3D.create(fn) for fn in Path('../data/masks/').ls()]"
   ]
  },
  {
   "cell_type": "markdown",
   "metadata": {},
   "source": [
    "## Helper functions"
   ]
  },
  {
   "cell_type": "code",
   "execution_count": 45,
   "metadata": {},
   "outputs": [],
   "source": [
    "# export\n",
    "def _create_label(text):\n",
    "    \"Create label widget\"\n",
    "    label = widgets.Label(\n",
    "            text,\n",
    "            layout=widgets.Layout(\n",
    "            width='100%', \n",
    "            display='flex', \n",
    "            justify_content=\"center\"\n",
    "            )\n",
    "        )\n",
    "    return label\n",
    "        \n",
    "def _create_slider(slider_min, slider_max, value, step=1, description='',continuous_update=True, readout=False, slider_type='IntSlider', **kwargs):\n",
    "    \"Create slider widget\"\n",
    "    slider = getattr(widgets, slider_type)(\n",
    "        min=slider_min, \n",
    "        max=slider_max, \n",
    "        step=step, \n",
    "        value=value,\n",
    "        description=description, \n",
    "        continuous_update=continuous_update,\n",
    "        readout = readout,\n",
    "        layout=widgets.Layout(width='99%', min_width='200px'),\n",
    "        style={'description_width': 'initial'}, \n",
    "        **kwargs\n",
    "    )   \n",
    "    return slider\n",
    "    \n",
    "def _create_button(description):\n",
    "    \"Create button widget\"\n",
    "    button = widgets.Button(\n",
    "            description=description,\n",
    "            layout=widgets.Layout(\n",
    "                width='95%',\n",
    "                margin='5px 5px'\n",
    "            )\n",
    "        )\n",
    "    return button\n",
    "\n",
    "def _create_togglebutton(description, value, **kwargs):\n",
    "    \"Create toggle button widget\"\n",
    "    button = widgets.ToggleButton(\n",
    "            description=description,\n",
    "            value = value,\n",
    "            layout=widgets.Layout(\n",
    "                width='95%',\n",
    "                margin='5px 5px'\n",
    "            ), **kwargs\n",
    "        )\n",
    "    return button"
   ]
  },
  {
   "cell_type": "markdown",
   "metadata": {},
   "source": [
    "## Basic Viewer"
   ]
  },
  {
   "cell_type": "code",
   "execution_count": 46,
   "metadata": {},
   "outputs": [],
   "source": [
    "# export\n",
    "class BasicViewer():\n",
    "    \"\"\" Base class for viewing TensorDicom3D objects. \n",
    "    Arguments: \n",
    "        x (TensorDicom3D): an TensorDicom3D object to view\n",
    "        y (TensorMask3D, str): either a segmentations mask as TensorMask3D or a label as str. \n",
    "        prediction: a class predicton as str\n",
    "    \"\"\"\n",
    "    \n",
    "    def __init__(self, x:TensorDicom3D, y=None, prediction:str=None, description: str=None, \n",
    "                 figsize=(3, 3), cmap:str='bone'):\n",
    "        store_attr()\n",
    "        self.with_mask = True\n",
    "        self.slice_range = (1, len(x))      \n",
    "                    \n",
    "    def _plot_slice(self, im_slice, with_mask, px_range):\n",
    "        \"Plot slice of image\"\n",
    "        fig, ax = plt.subplots(1, 1, figsize=self.figsize) \n",
    "        ax.imshow(self.x[im_slice-1, :, :].clip(*px_range), cmap=self.cmap)\n",
    "        if isinstance(self.y, (TensorMask3D)) and with_mask:\n",
    "            ax.imshow(self.y[im_slice-1, :, :], cmap='jet', alpha = 0.25)\n",
    "        plt.axis('off')\n",
    "        ax.set_xticks([])\n",
    "        ax.set_yticks([])\n",
    "        plt.show()\n",
    "    \n",
    "    def _create_image_box(self, figsize):\n",
    "        \"Create widget items, order them in item_box and generate view box\"\n",
    "        items = []\n",
    "        \n",
    "        if self.description: plot_description = _create_label(self.description)\n",
    "        \n",
    "        if isinstance(self.y, str):\n",
    "            label = f'{self.y} | {self.prediction}' if self.prediction else self.y\n",
    "            if self.prediction: \n",
    "                font_color = 'green' if self.y == self.prediction else 'red'\n",
    "                y_label = _create_label(r'\\(\\color{' + font_color + '} {' + label  + '}\\)') \n",
    "            else: \n",
    "                y_label = _create_label(label)\n",
    "        else: y_label = _create_label(' ')\n",
    "            \n",
    "        slice_slider = _create_slider(\n",
    "            slider_min = min(self.slice_range), \n",
    "            slider_max = max(self.slice_range), \n",
    "            value = max(self.slice_range)//2, \n",
    "            readout = True)\n",
    "\n",
    "        toggle_mask_button = _create_togglebutton('Show Mask', True)\n",
    "        \n",
    "        \n",
    "        range_slider = _create_slider(\n",
    "            slider_min = self.x.min().numpy(), \n",
    "            slider_max = self.x.max().numpy(),  \n",
    "            value = [self.x.min().numpy(), self.x.max().numpy()], \n",
    "            slider_type = 'FloatRangeSlider' if torch.is_floating_point(self.x) else 'IntRandSlider', \n",
    "            step = 0.01 if torch.is_floating_point(self.x) else 1, \n",
    "            readout=True)\n",
    "        \n",
    "        image_output = widgets.interactive_output(\n",
    "            f = self._plot_slice,\n",
    "            controls = {'im_slice': slice_slider, \n",
    "                'with_mask': toggle_mask_button, \n",
    "                'px_range': range_slider})\n",
    "\n",
    "        image_output.layout.height = f'{self.figsize[0]/1.2}in' # suppress flickering\n",
    "        image_output.layout.width = f'{self.figsize[1]/1.2}in' # suppress flickering\n",
    "        \n",
    "        if self.description: items.append(plot_description)\n",
    "        items.append(y_label)\n",
    "        items.append(range_slider)        \n",
    "        items.append(image_output)\n",
    "        if isinstance(self.y, TensorMask3D): \n",
    "            slice_slider = widgets.HBox([slice_slider, toggle_mask_button])     \n",
    "        items.append(slice_slider)        \n",
    "                    \n",
    "        image_box=widgets.VBox(\n",
    "            items,\n",
    "            layout = widgets.Layout(\n",
    "                border = 'none', \n",
    "                margin = '10px 5px 0px 0px', \n",
    "                padding =  '5px'))\n",
    "        \n",
    "        return image_box\n",
    "    \n",
    "    def _generate_views(self):\n",
    "        image_box = self._create_image_box(self.figsize)\n",
    "        self.box = widgets.HBox(children=[image_box])\n",
    "\n",
    "    @property\n",
    "    def image_box(self):\n",
    "        return self._create_image_box(self.figsize)\n",
    "    \n",
    "    def show(self):\n",
    "        self._generate_views()\n",
    "        plt.style.use('default')\n",
    "        display(self.box)"
   ]
  },
  {
   "cell_type": "code",
   "execution_count": 47,
   "metadata": {},
   "outputs": [
    {
     "data": {
      "application/vnd.jupyter.widget-view+json": {
       "model_id": "1eeeb2e6996e4fb3a574373b6d7ebe68",
       "version_major": 2,
       "version_minor": 0
      },
      "text/plain": [
       "HBox(children=(VBox(children=(Label(value=' ', layout=Layout(display='flex', justify_content='center', width='…"
      ]
     },
     "metadata": {},
     "output_type": "display_data"
    }
   ],
   "source": [
    "plot = BasicViewer(image_list[0], y=mask_list[0], prediction='Covid', figsize = (5,5))\n",
    "plot.show()"
   ]
  },
  {
   "cell_type": "markdown",
   "metadata": {},
   "source": [
    "## Dicom Explorer"
   ]
  },
  {
   "cell_type": "code",
   "execution_count": 48,
   "metadata": {},
   "outputs": [],
   "source": [
    "# export\n",
    "class DicomExplorer(BasicViewer):\n",
    "    \"\"\" DICOM viewer for basic image analysis inside iPython notebooks. \n",
    "    Can display a single 3D volume together with a segmentation mask, a histogram \n",
    "    of voxel/pixel values and some summary statistics. \n",
    "    Allows simple windowing by clipping the pixel/voxel values to a region, which \n",
    "    can be manually specified.    \n",
    "    \n",
    "    \"\"\"\n",
    "    \n",
    "    vbox_layout = widgets.Layout(\n",
    "        margin = '10px 5px 5px 5px', \n",
    "        padding =  '5px',\n",
    "        display='flex',\n",
    "        flex_flow='column',\n",
    "        align_items='center', \n",
    "        min_width = '250px')\n",
    "            \n",
    "    def _plot_hist(self, px_range):\n",
    "        x = self.x.numpy().flatten()\n",
    "        fig, ax = plt.subplots(figsize=self.figsize)\n",
    "        N, bins, patches = plt.hist(x, 100, color='grey')\n",
    "        lwr = int(px_range[0] * 100/max(x))\n",
    "        upr = int(np.ceil(px_range[1] * 100/max(x)))\n",
    "        \n",
    "        for i in range(0,lwr):\n",
    "            patches[i].set_facecolor('grey' if lwr > 0 else 'darkblue')\n",
    "        for i in range(lwr, upr):\n",
    "            patches[i].set_facecolor('darkblue')\n",
    "        for i in range(upr,100):\n",
    "            patches[i].set_facecolor('grey' if upr < 100 else 'darkblue')\n",
    "        \n",
    "        plt.show()\n",
    "        \n",
    "    def _image_summary(self, px_range):\n",
    "        x = self.x.clip(*px_range)\n",
    "\n",
    "        diffs = x - x.mean()\n",
    "        var = torch.mean(torch.pow(diffs, 2.0))\n",
    "        std = torch.pow(var, 0.5)\n",
    "        zscores = diffs / std\n",
    "        skews = torch.mean(torch.pow(zscores, 3.0))\n",
    "        kurt = torch.mean(torch.pow(zscores, 4.0)) - 3.0\n",
    "        entropy = torch.distributions.Categorical(x).entropy()\n",
    "\n",
    "        table = f'Statistics:\\n' + \\\n",
    "                f'  Mean px value:     {x.mean()} \\n' + \\\n",
    "                f'  Std of px values:  {x.std()} \\n' + \\\n",
    "                f'  Min px value:      {x.min()} \\n' + \\\n",
    "                f'  Max px value:      {x.max()} \\n' + \\\n",
    "                f'  Median px value:   {x.median()} \\n' + \\\n",
    "                f'  Skewness:          {skews} \\n' + \\\n",
    "                f'  Kurtosis:          {kurt} \\n\\n' + \\\n",
    "                f'Tensor properties \\n' + \\\n",
    "                f'  Tensor shape:      {tuple(x.shape)}\\n' + \\\n",
    "                f'  Tensor dtype:      {x.dtype}'\n",
    "        print(table)\n",
    "        \n",
    "    def _generate_views(self):   \n",
    "        \n",
    "        slice_slider = _create_slider(\n",
    "            slider_min = min(self.slice_range), \n",
    "            slider_max = max(self.slice_range), \n",
    "            value = max(self.slice_range)//2, \n",
    "            readout = True)\n",
    "\n",
    "        toggle_mask_button = _create_togglebutton('Show Mask', True)\n",
    "        \n",
    "        range_slider = _create_slider(\n",
    "            slider_min = self.x.min().numpy(), \n",
    "            slider_max = self.x.max().numpy(),  \n",
    "            value = [self.x.min().numpy(), self.x.max().numpy()], \n",
    "            slider_type = 'FloatRangeSlider' if torch.is_floating_point(self.x) else 'IntRandSlider', \n",
    "            step = 0.01 if torch.is_floating_point(self.x) else 1)\n",
    "        \n",
    "        image_output = widgets.interactive_output(\n",
    "            f = self._plot_slice,\n",
    "            controls = {'im_slice': slice_slider, \n",
    "                'with_mask': toggle_mask_button, \n",
    "                'px_range': range_slider})\n",
    "                        \n",
    "        image_output.layout.height = f'{self.figsize[0]/1.2}in' # suppress flickering\n",
    "        image_output.layout.width = f'{self.figsize[1]/1.2}in' # suppress flickering\n",
    "        \n",
    "        if isinstance(self.y, TensorMask3D): \n",
    "            slice_slider = widgets.HBox([slice_slider, toggle_mask_button])     \n",
    "        \n",
    "        hist_output = widgets.interactive_output(\n",
    "            f = self._plot_hist,\n",
    "            controls = {'px_range': range_slider})\n",
    "        \n",
    "        hist_output.layout.height = f'{self.figsize[0]/1.2}in' # suppress flickering\n",
    "        hist_output.layout.width = f'{self.figsize[1]/1.2}in' # suppress flickering\n",
    "\n",
    "        toggle_mask_button = _create_togglebutton('Show Mask', True)\n",
    "        \n",
    "        table_output = widgets.interactive_output(\n",
    "            f = self._image_summary, \n",
    "            controls = {'px_range': range_slider})\n",
    "        \n",
    "        table_box = widgets.VBox([table_output], layout=self.vbox_layout)\n",
    "        \n",
    "        hist_box = widgets.VBox(\n",
    "            [hist_output, range_slider],\n",
    "            layout=self.vbox_layout)\n",
    "        \n",
    "        image_box = widgets.VBox(\n",
    "            [image_output, slice_slider],\n",
    "            layout=self.vbox_layout)\n",
    "        \n",
    "        self.box = widgets.HBox(\n",
    "            [image_box, hist_box, table_box], \n",
    "            layout = widgets.Layout(\n",
    "                border = 'solid 1px lightgrey', \n",
    "                margin = '10px 5px 0px 0px', \n",
    "                padding =  '5px', \n",
    "                width = f'{self.figsize[1]*2 + 3}in'))\n",
    "        "
   ]
  },
  {
   "cell_type": "code",
   "execution_count": 49,
   "metadata": {},
   "outputs": [
    {
     "data": {
      "application/vnd.jupyter.widget-view+json": {
       "model_id": "757b87fea17f48eea34ee1a55503b9bf",
       "version_major": 2,
       "version_minor": 0
      },
      "text/plain": [
       "HBox(children=(VBox(children=(Output(layout=Layout(height='4.166666666666667in', width='4.166666666666667in'))…"
      ]
     },
     "metadata": {},
     "output_type": "display_data"
    }
   ],
   "source": [
    "plot = DicomExplorer(image_list[4], y=mask_list[4], figsize = (5,5))\n",
    "plot.show()"
   ]
  },
  {
   "cell_type": "markdown",
   "metadata": {},
   "source": [
    "## List Viewer Class"
   ]
  },
  {
   "cell_type": "code",
   "execution_count": 50,
   "metadata": {},
   "outputs": [],
   "source": [
    "# export\n",
    "class ListViewer(object):\n",
    "    \"\"\" Display multipple Images with their masks or labels/predictions.\n",
    "    Arguments: \n",
    "        x (tuple, list): TensorDicom3D objects to view\n",
    "        y (tuple, list): TensorMask3D objects (in case of segmentation task) or class labels as string. \n",
    "        predictions (str): Class predictions \n",
    "        cmap: colormap for display of `x`\n",
    "        max_n: maximum number of items to display\n",
    "    \"\"\"\n",
    "    \n",
    "    def __init__(self, x:(list, tuple), y=None, prediction:str=None, description: str=None, \n",
    "                 figsize=(4, 4), cmap:str='bone', max_n = 9):\n",
    "        self.slice_range = (1, len(x))      \n",
    "        x = x[0:max_n]\n",
    "        if y: y = y[0:max_n]\n",
    "        store_attr()\n",
    "    \n",
    "    def _generate_views(self):\n",
    "        n_images = len(self.x)\n",
    "        image_grid, image_list = [], []\n",
    "        \n",
    "        for i in range(0, n_images):\n",
    "            image = self.x[i]\n",
    "            mask = self.y[i] if isinstance(self.y, list) else None\n",
    "            pred = self.prediction[i] if self.prediction else None\n",
    "            \n",
    "            image_list.append(\n",
    "                BasicViewer(\n",
    "                    x = image, \n",
    "                    y = mask, \n",
    "                    prediction = pred, \n",
    "                    figsize = self.figsize, \n",
    "                    cmap = self.cmap)\n",
    "                .image_box)\n",
    "            \n",
    "            if (i+1) % np.ceil(np.sqrt(n_images)) == 0 or i == n_images - 1: \n",
    "                image_grid.append(widgets.HBox(image_list))\n",
    "                image_list = []\n",
    "        \n",
    "        self.box = widgets.VBox(children=image_grid) \n",
    "        \n",
    "    def show(self):\n",
    "        self._generate_views()\n",
    "        plt.style.use('default')\n",
    "        display(self.box)"
   ]
  },
  {
   "cell_type": "code",
   "execution_count": null,
   "metadata": {},
   "outputs": [
    {
     "data": {
      "application/vnd.jupyter.widget-view+json": {
       "model_id": "5397e81e2a2b4c68bbfcec95706e5c7f",
       "version_major": 2,
       "version_minor": 0
      },
      "text/plain": [
       "VBox(children=(HBox(children=(VBox(children=(Label(value='\\\\(\\\\color{green} {Covid | Covid}\\\\)', layout=Layout…"
      ]
     },
     "metadata": {},
     "output_type": "display_data"
    }
   ],
   "source": [
    "plot = ListViewer(image_list, y=['Covid', 'Covid', 'Covid', 'Covid', 'Covid'], prediction=['Covid', 'Covid', 'Covid', 'No Covid', 'No Covid'])\n",
    "plot.show()"
   ]
  },
  {
   "cell_type": "code",
   "execution_count": null,
   "metadata": {},
   "outputs": [],
   "source": []
  }
 ],
 "metadata": {
  "kernelspec": {
   "display_name": "Python 3",
   "language": "python",
   "name": "python3"
  },
  "language_info": {
   "codemirror_mode": {
    "name": "ipython",
    "version": 3
   },
   "file_extension": ".py",
   "mimetype": "text/x-python",
   "name": "python",
   "nbconvert_exporter": "python",
   "pygments_lexer": "ipython3",
   "version": "3.7.10"
  }
 },
 "nbformat": 4,
 "nbformat_minor": 4
}
