{
 "cells": [
  {
   "cell_type": "code",
   "execution_count": null,
   "metadata": {},
   "outputs": [],
   "source": [
    "import sys\n",
    "sys.path.append(\"/media/janis/Storage1/development/faimed3d/\")"
   ]
  },
  {
   "cell_type": "code",
   "execution_count": null,
   "metadata": {},
   "outputs": [],
   "source": [
    "from faimed3d.all import *"
   ]
  },
  {
   "cell_type": "code",
   "execution_count": null,
   "metadata": {},
   "outputs": [],
   "source": [
    "#import inspect\n",
    "#inspect.getmodule(TensorDicom3D)"
   ]
  },
  {
   "cell_type": "code",
   "execution_count": null,
   "metadata": {},
   "outputs": [],
   "source": [
    "from ipywidgets import interactive, widgets\n",
    "from IPython.display import display\n",
    "import matplotlib.pyplot as plt\n",
    "from itertools import chain, islice"
   ]
  },
  {
   "cell_type": "code",
   "execution_count": null,
   "metadata": {},
   "outputs": [],
   "source": [
    "image = TensorDicom3D.create('/media/scaleout/vahldiek/MRI/SIJ/TRAINING_FINAL/01001/T1')\n",
    "image2 = TensorDicom3D.create('/media/scaleout/vahldiek/MRI/SIJ/TRAINING_FINAL/01004/T1')"
   ]
  },
  {
   "cell_type": "code",
   "execution_count": null,
   "metadata": {},
   "outputs": [],
   "source": [
    "class DatasetExplorerBasicView():\n",
    "    \n",
    "    def __init__(self, x:TensorDicom3D, y:str=None, prediction:str=None, description: str=None, figsize=(5, 5), cmap:str='bone'):\n",
    "        \n",
    "        self.x = x\n",
    "        self.slice_range = (1, len(x))\n",
    "        self.cmap = cmap\n",
    "        self.y = y\n",
    "        self.prediction = prediction\n",
    "        self.description = description\n",
    "        \n",
    "        self.resize(figsize)\n",
    "    \n",
    "    def _plot_slice(self, im_slice):\n",
    "        fig, ax = plt.subplots(1, 1, figsize=self.figsize)\n",
    "        ax.imshow(self.x[im_slice-1, :, :], cmap=self.cmap)\n",
    "        plt.axis('off')\n",
    "        plt.show()\n",
    "        \n",
    "    def resize(self, figsize):\n",
    "        \n",
    "        self.figsize = figsize\n",
    "        \n",
    "        items_in_box = []\n",
    "        \n",
    "        if self.description:\n",
    "            description_label = widgets.Label(\n",
    "                self.description, \n",
    "                layout=widgets.Layout(\n",
    "                    width='100%', \n",
    "                    display='flex', \n",
    "                    justify_content=\"center\"\n",
    "                )\n",
    "            )\n",
    "            items_in_box.append(description_label)\n",
    "        \n",
    "        if self.y:\n",
    "            label_text = 'Class: '+self.y\n",
    "            if self.prediction:\n",
    "                label_text = label_text + '  |  Prediction: ' + self.prediction \n",
    "            y_label =  widgets.Label(\n",
    "                label_text, \n",
    "                layout=widgets.Layout(\n",
    "                    width='100%', \n",
    "                    display='flex', \n",
    "                    justify_content=\"center\"\n",
    "                )\n",
    "            )\n",
    "            items_in_box.append(y_label)\n",
    "        \n",
    "        slice_slider = widgets.IntSlider(\n",
    "            min=min(self.slice_range), \n",
    "            max=max(self.slice_range), \n",
    "            step=1, \n",
    "            value=max(self.slice_range)//2, \n",
    "            description='', \n",
    "            continuous_update=True,\n",
    "            readout = False,\n",
    "            layout=widgets.Layout(width='99%', min_width='200px'),\n",
    "            style={'description_width': 'initial'}\n",
    "        )\n",
    "        \n",
    "        image_output = widgets.interactive_output(\n",
    "                                self._plot_slice,\n",
    "                                {'im_slice': slice_slider}\n",
    "        )\n",
    "        \n",
    "        items_in_box.append(image_output)\n",
    "        items_in_box.append(slice_slider)\n",
    "            \n",
    "        self.vbox=widgets.VBox(\n",
    "            items_in_box,\n",
    "            layout=widgets.Layout(\n",
    "                border = 'solid 1px lightgrey', \n",
    "                margin = '10px 5px 0px 0px', \n",
    "                padding =  '5px'\n",
    "            )\n",
    "        )\n",
    "        \n",
    "        self.box = widgets.HBox(children=[self.vbox])\n",
    "\n",
    "    def show(self):\n",
    "        display(self.box)"
   ]
  },
  {
   "cell_type": "code",
   "execution_count": null,
   "metadata": {},
   "outputs": [
    {
     "data": {
      "application/vnd.jupyter.widget-view+json": {
       "model_id": "126f2d39a14048e296f8e441c11546f5",
       "version_major": 2,
       "version_minor": 0
      },
      "text/plain": [
       "HBox(children=(VBox(children=(Label(value='/media/images/t2.nii.gz', layout=Layout(display='flex', justify_con…"
      ]
     },
     "metadata": {},
     "output_type": "display_data"
    }
   ],
   "source": [
    "plot = DatasetExplorerBasicView(image, y='1', prediction='0', description='/media/images/t2.nii.gz')\n",
    "plot.show()"
   ]
  },
  {
   "cell_type": "code",
   "execution_count": null,
   "metadata": {},
   "outputs": [],
   "source": [
    "class DatasetExplorerListView():\n",
    "    \n",
    "    def __init__(self, images:list, num:int=3, figsize=(5, 5), cmap:str='bone'):\n",
    "        \n",
    "        # images = list of TensorDicom3D objects\n",
    "        \n",
    "        self.images = images\n",
    "        self.cmap = cmap\n",
    "        self.num = num\n",
    "        \n",
    "    def chunk(self, seq, chunksize, process=iter):\n",
    "        \"\"\" Yields items from an iterator in iterable chunks.\"\"\"\n",
    "        it = iter(seq)\n",
    "        while True:\n",
    "            try:\n",
    "                yield process(chain([next(it)], islice(it, chunksize - 1)))\n",
    "            except StopIteration:\n",
    "                return\n",
    "        \n",
    "    def show(self):\n",
    "        \n",
    "        all_boxes = []\n",
    "        for image in self.images:\n",
    "            basic_view = DatasetExplorerBasicView(image, figsize=(5, 5), cmap='bone')\n",
    "            all_boxes.append(basic_view.vbox)\n",
    "            \n",
    "        vboxes = []\n",
    "        \n",
    "        for chunked_boxes in self.chunk(all_boxes, self.num, list):\n",
    "            vboxes.append(widgets.HBox(children=chunked_boxes))\n",
    "        display(widgets.VBox(children=vboxes))"
   ]
  },
  {
   "cell_type": "code",
   "execution_count": null,
   "metadata": {},
   "outputs": [
    {
     "data": {
      "application/vnd.jupyter.widget-view+json": {
       "model_id": "fa6d90d28c244360b355f37f1f09f5bb",
       "version_major": 2,
       "version_minor": 0
      },
      "text/plain": [
       "VBox(children=(HBox(children=(VBox(children=(Output(), IntSlider(value=12, layout=Layout(min_width='200px', wi…"
      ]
     },
     "metadata": {},
     "output_type": "display_data"
    }
   ],
   "source": [
    "DatasetExplorerListView([image, image2, image2, image, image]).show()"
   ]
  },
  {
   "cell_type": "code",
   "execution_count": null,
   "metadata": {},
   "outputs": [],
   "source": []
  },
  {
   "cell_type": "code",
   "execution_count": null,
   "metadata": {},
   "outputs": [],
   "source": []
  },
  {
   "cell_type": "code",
   "execution_count": null,
   "metadata": {},
   "outputs": [
    {
     "data": {
      "text/plain": [
       "(array([5.12937e+05, 3.27910e+04, 3.97560e+04, 5.42040e+04, 7.24390e+04,\n",
       "        8.65610e+04, 8.99430e+04, 9.36040e+04, 8.99770e+04, 8.26200e+04,\n",
       "        8.12910e+04, 7.59130e+04, 7.35920e+04, 7.22010e+04, 7.82790e+04,\n",
       "        7.87530e+04, 6.90870e+04, 6.04970e+04, 4.86570e+04, 3.86070e+04,\n",
       "        3.39940e+04, 3.00080e+04, 2.72470e+04, 2.46450e+04, 2.43030e+04,\n",
       "        2.37180e+04, 2.14350e+04, 2.16050e+04, 1.96710e+04, 1.74680e+04,\n",
       "        1.66760e+04, 1.49380e+04, 1.40250e+04, 1.23440e+04, 1.26010e+04,\n",
       "        1.17800e+04, 1.09080e+04, 1.09200e+04, 1.05400e+04, 9.76500e+03,\n",
       "        9.86400e+03, 9.75700e+03, 9.65400e+03, 9.10300e+03, 9.95200e+03,\n",
       "        1.01140e+04, 9.71100e+03, 1.05790e+04, 1.06370e+04, 1.01740e+04,\n",
       "        1.12880e+04, 1.09990e+04, 1.09640e+04, 1.05500e+04, 1.11210e+04,\n",
       "        1.10580e+04, 1.04030e+04, 1.02620e+04, 9.45200e+03, 8.38400e+03,\n",
       "        7.76200e+03, 6.92200e+03, 5.94900e+03, 4.94100e+03, 4.47300e+03,\n",
       "        3.97100e+03, 3.21900e+03, 2.91900e+03, 2.29800e+03, 1.88000e+03,\n",
       "        1.57700e+03, 1.23700e+03, 1.08700e+03, 8.41000e+02, 8.20000e+02,\n",
       "        6.96000e+02, 6.18000e+02, 5.14000e+02, 3.93000e+02, 3.02000e+02,\n",
       "        2.55000e+02, 2.06000e+02, 1.43000e+02, 7.90000e+01, 7.70000e+01,\n",
       "        3.00000e+01, 1.70000e+01, 1.50000e+01, 1.30000e+01, 7.00000e+00,\n",
       "        5.00000e+00, 3.00000e+00, 3.00000e+00, 1.00000e+00, 0.00000e+00,\n",
       "        0.00000e+00, 0.00000e+00, 0.00000e+00, 0.00000e+00, 1.00000e+00]),\n",
       " array([   0. ,   21.7,   43.4,   65.1,   86.8,  108.5,  130.2,  151.9,\n",
       "         173.6,  195.3,  217. ,  238.7,  260.4,  282.1,  303.8,  325.5,\n",
       "         347.2,  368.9,  390.6,  412.3,  434. ,  455.7,  477.4,  499.1,\n",
       "         520.8,  542.5,  564.2,  585.9,  607.6,  629.3,  651. ,  672.7,\n",
       "         694.4,  716.1,  737.8,  759.5,  781.2,  802.9,  824.6,  846.3,\n",
       "         868. ,  889.7,  911.4,  933.1,  954.8,  976.5,  998.2, 1019.9,\n",
       "        1041.6, 1063.3, 1085. , 1106.7, 1128.4, 1150.1, 1171.8, 1193.5,\n",
       "        1215.2, 1236.9, 1258.6, 1280.3, 1302. , 1323.7, 1345.4, 1367.1,\n",
       "        1388.8, 1410.5, 1432.2, 1453.9, 1475.6, 1497.3, 1519. , 1540.7,\n",
       "        1562.4, 1584.1, 1605.8, 1627.5, 1649.2, 1670.9, 1692.6, 1714.3,\n",
       "        1736. , 1757.7, 1779.4, 1801.1, 1822.8, 1844.5, 1866.2, 1887.9,\n",
       "        1909.6, 1931.3, 1953. , 1974.7, 1996.4, 2018.1, 2039.8, 2061.5,\n",
       "        2083.2, 2104.9, 2126.6, 2148.3, 2170. ], dtype=float32),\n",
       " <BarContainer object of 100 artists>)"
      ]
     },
     "execution_count": null,
     "metadata": {},
     "output_type": "execute_result"
    },
    {
     "data": {
      "image/png": "[encoded data removed]",
      "text/plain": [
       "<Figure size 432x288 with 1 Axes>"
      ]
     },
     "metadata": {
      "needs_background": "light"
     },
     "output_type": "display_data"
    }
   ],
   "source": [
    "plt.hist(image.numpy().flatten(), 100)"
   ]
  }
 ],
 "metadata": {
  "kernelspec": {
   "display_name": "Python [conda env:fastai2]",
   "language": "python",
   "name": "conda-env-fastai2-py"
  }
 },
 "nbformat": 4,
 "nbformat_minor": 4
}
