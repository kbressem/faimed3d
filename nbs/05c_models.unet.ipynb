{
 "cells": [
  {
   "cell_type": "markdown",
   "metadata": {},
   "source": [
    "# 3D UNet\n"
   ]
  },
  {
   "cell_type": "code",
   "execution_count": null,
   "metadata": {},
   "outputs": [],
   "source": [
    "# hide\n",
    "import sys\n",
    "sys.path.append(\"..\")\n",
    "from nbdev.showdoc import *"
   ]
  },
  {
   "cell_type": "code",
   "execution_count": null,
   "metadata": {},
   "outputs": [],
   "source": [
    "# default_exp models.unet\n",
    "# export \n",
    "from fastai.basics import *\n",
    "from fastai.layers import *\n",
    "import torchvision, torch\n",
    "from warnings import warn\n",
    "from faimed3d.models.resnet import *\n",
    "from faimed3d.models.deeplabv3 import *"
   ]
  },
  {
   "cell_type": "markdown",
   "metadata": {},
   "source": [
    "## Building Blocks\n"
   ]
  },
  {
   "cell_type": "markdown",
   "metadata": {},
   "source": [
    "### Convolutional BlocKs\n",
    "#### DoubleConv\n",
    "Standard double Convulutional-Block for UNet adapted for 3D.\n"
   ]
  },
  {
   "cell_type": "code",
   "execution_count": null,
   "metadata": {},
   "outputs": [],
   "source": [
    "# export\n",
    "class DoubleConv(nn.Module):\n",
    "    \"\"\"(convolution => [BN] => ReLU) * 2\"\"\"\n",
    "\n",
    "    def __init__(self, in_channels, out_channels, mid_channels=None, norm_layer=nn.BatchNorm3d):\n",
    "        super().__init__()\n",
    "        if not mid_channels:\n",
    "            mid_channels = out_channels\n",
    "        self.double_conv = nn.Sequential(\n",
    "            nn.Conv3d(in_channels, mid_channels, kernel_size=3, padding=1),\n",
    "            norm_layer(mid_channels),\n",
    "            nn.ReLU(inplace=True),\n",
    "            nn.Conv3d(mid_channels, out_channels, kernel_size=3, padding=1),\n",
    "            norm_layer(out_channels),\n",
    "            nn.ReLU(inplace=True)\n",
    "        )\n",
    "\n",
    "    def forward(self, x):\n",
    "        return self.double_conv(x)\n"
   ]
  },
  {
   "cell_type": "code",
   "execution_count": null,
   "metadata": {},
   "outputs": [
    {
     "data": {
      "text/plain": [
       "torch.Size([2, 64, 10, 50, 50])"
      ]
     },
     "execution_count": null,
     "metadata": {},
     "output_type": "execute_result"
    }
   ],
   "source": [
    "DoubleConv(32, 64)(torch.randn(2, 32, 10, 50, 50)).size()"
   ]
  },
  {
   "cell_type": "code",
   "execution_count": null,
   "metadata": {},
   "outputs": [],
   "source": [
    "# export \n",
    "class DoubleResBlock(nn.Module):\n",
    "    \n",
    "    def __init__(self, in_channels, out_channels, mid_channels=None, norm_layer=nn.BatchNorm3d):\n",
    "        super().__init__()\n",
    "        \n",
    "        if not mid_channels: \n",
    "            mid_channels = in_channels//2\n",
    "        \n",
    "        self.res_block = nn.Sequential(\n",
    "            # 1st Block\n",
    "            nn.Conv3d(in_channels, mid_channels, kernel_size = 1, stride = 1, bias = False),\n",
    "            norm_layer(mid_channels, eps=1e-05, momentum=0.1, affine=True, track_running_stats=True),\n",
    "            nn.ReLU(inplace=True),\n",
    "\n",
    "            nn.Conv3d(mid_channels, mid_channels, kernel_size = 3, stride = 1, padding = 1, bias = False, groups = 4),\n",
    "            norm_layer(mid_channels, eps=1e-05, momentum=0.1, affine=True, track_running_stats=True),\n",
    "            nn.ReLU(inplace=True),\n",
    "\n",
    "            nn.Conv3d(mid_channels, mid_channels, kernel_size = 1, stride = 1, bias = False),\n",
    "            norm_layer(mid_channels, eps=1e-05, momentum=0.1, affine=True, track_running_stats=True),      \n",
    "            nn.ReLU(inplace=True),            \n",
    "            \n",
    "            \n",
    "            # 2nd Block\n",
    "            nn.Conv3d(mid_channels, out_channels, kernel_size = 1, stride = 1, bias = False, groups = 16),\n",
    "            norm_layer(out_channels, eps=1e-05, momentum=0.1, affine=True, track_running_stats=True),\n",
    "            nn.ReLU(inplace=True),\n",
    "\n",
    "            nn.Conv3d(out_channels, out_channels, kernel_size = 3, stride = 1, padding = 1, bias = False, groups = 16),\n",
    "            norm_layer(out_channels, eps=1e-05, momentum=0.1, affine=True, track_running_stats=True),\n",
    "            nn.ReLU(inplace=True),\n",
    "\n",
    "            nn.Conv3d(out_channels, out_channels, kernel_size = 1, stride = 1, bias = False),\n",
    "            norm_layer(out_channels, eps=1e-05, momentum=0.1, affine=True, track_running_stats=True)      \n",
    "        )\n",
    "    \n",
    "    def forward(self, x):\n",
    "        return self.res_block(x)"
   ]
  },
  {
   "cell_type": "code",
   "execution_count": null,
   "metadata": {},
   "outputs": [
    {
     "data": {
      "text/plain": [
       "torch.Size([2, 64, 10, 50, 50])"
      ]
     },
     "execution_count": null,
     "metadata": {},
     "output_type": "execute_result"
    }
   ],
   "source": [
    "DoubleResBlock(32, 64)(torch.randn(2, 32, 10, 50, 50)).size()"
   ]
  },
  {
   "cell_type": "markdown",
   "metadata": {},
   "source": [
    "## Down Block"
   ]
  },
  {
   "cell_type": "code",
   "execution_count": null,
   "metadata": {},
   "outputs": [],
   "source": [
    "# export\n",
    "class Down(nn.Module):\n",
    "    \"\"\"Downscaling with maxpool then resblock\"\"\"\n",
    "\n",
    "    def __init__(self, in_channels, out_channels, block=DoubleConv,norm_layer=nn.BatchNorm3d):\n",
    "        super().__init__()\n",
    "        self.maxpool_conv = nn.Sequential(\n",
    "            nn.MaxPool3d(kernel_size = (1, 2, 2)),\n",
    "            block(in_channels, out_channels,norm_layer=norm_layer)\n",
    "        )\n",
    "\n",
    "    def forward(self, x):\n",
    "        return self.maxpool_conv(x)"
   ]
  },
  {
   "cell_type": "code",
   "execution_count": null,
   "metadata": {},
   "outputs": [
    {
     "data": {
      "text/plain": [
       "torch.Size([2, 64, 10, 25, 25])"
      ]
     },
     "execution_count": null,
     "metadata": {},
     "output_type": "execute_result"
    }
   ],
   "source": [
    "Down(32,64,DoubleResBlock)(torch.randn(2, 32, 10, 50, 50)).size()"
   ]
  },
  {
   "cell_type": "markdown",
   "metadata": {},
   "source": [
    "### Upscaling Block"
   ]
  },
  {
   "cell_type": "raw",
   "metadata": {},
   "source": [
    "# export\n",
    "class Up(nn.Module):\n",
    "    \"\"\"Upscaling then double conv\"\"\"\n",
    "\n",
    "    def __init__(self, in_channels, out_channels, trilinear=True):\n",
    "        super().__init__()\n",
    "\n",
    "        # if trilinear, use the normal convolutions to reduce the number of channels\n",
    "        if trilinear:\n",
    "            self.up = nn.Sequential(\n",
    "                nn.Upsample(scale_factor=2, mode='trilinear', align_corners=True),\n",
    "                DoubleConv(in_channels, in_channels // 2)\n",
    "            )\n",
    "            self.conv = DoubleConv(in_channels, out_channels, in_channels // 2)\n",
    "        else:\n",
    "            self.up = nn.ConvTranspose3d(in_channels , in_channels // 2, kernel_size=2, stride=2)\n",
    "            self.conv = DoubleConv(in_channels, out_channels)\n",
    "\n",
    "\n",
    "    def forward(self, x1, x2):\n",
    "        \n",
    "        x1 = self.up(x1)\n",
    "        # input is CHW\n",
    "        diffZ = x2.size()[2] - x1.size()[2]\n",
    "        diffY = x2.size()[3] - x1.size()[3]\n",
    "        diffX = x2.size()[4] - x1.size()[4]\n",
    "\n",
    "        x1 = F.pad(x1, [diffX // 2, diffX - diffX // 2,\n",
    "                        diffY // 2, diffY - diffY // 2, \n",
    "                        diffZ // 2, diffZ - diffZ // 2])\n",
    "\n",
    "        x = torch.cat([x2, x1], dim=1)\n",
    "        return self.conv(x)\n",
    "    \n",
    "class ResUp(Up):\n",
    "    \"\"\"Upscaling then double conv\"\"\"\n",
    "\n",
    "    def __init__(self, in_channels, out_channels, trilinear=True):\n",
    "        super().__init__(in_channels, out_channels, trilinear)\n",
    "\n",
    "        # if trilinear, use the normal convolutions to reduce the number of channels\n",
    "        if trilinear:\n",
    "            self.up = nn.Upsample(scale_factor=2, mode='trilinear', align_corners=True)\n",
    "            self.conv = ResBlock(in_channels, out_channels, in_channels // 2)\n",
    "        else:\n",
    "            self.up = nn.ConvTranspose3d(in_channels , in_channels // 2, kernel_size=2, stride=2)\n",
    "            self.conv = ResBlock(in_channels, out_channels)\n",
    "    \n",
    "class DoubleResUp(Up):\n",
    "    \"\"\"Upscaling then double conv\"\"\"\n",
    "\n",
    "    def __init__(self, in_channels, out_channels, trilinear=True):\n",
    "        super().__init__(in_channels, out_channels, trilinear)\n",
    "\n",
    "        # if trilinear, use the normal convolutions to reduce the number of channels\n",
    "        if trilinear:\n",
    "            self.up = nn.Upsample(scale_factor=2, mode='trilinear', align_corners=True)\n",
    "            self.conv = DoubleResBlock(in_channels, out_channels, in_channels // 2)\n",
    "        else:\n",
    "            self.up = nn.ConvTranspose3d(in_channels , in_channels // 2, kernel_size=2, stride=2)\n",
    "            self.conv = DoubleResBlock(in_channels, out_channels)\n"
   ]
  },
  {
   "cell_type": "code",
   "execution_count": null,
   "metadata": {},
   "outputs": [],
   "source": [
    "# export\n",
    "class Up(nn.Module):\n",
    "    \"\"\"Upscaling then double conv\"\"\"\n",
    "\n",
    "    def __init__(self, in_channels_1, in_channels_2, out_channels = None, trilinear=True, block=DoubleConv, norm_layer=nn.BatchNorm3d):\n",
    "        super().__init__()    \n",
    "        \n",
    "        if out_channels is None: out_channels = in_channels_1 // 2\n",
    "        if trilinear:\n",
    "            self.up = nn.Upsample(scale_factor=2, mode='trilinear', align_corners=True)\n",
    "            self.conv = block(in_channels_1+in_channels_2, out_channels, norm_layer=norm_layer)\n",
    "        else:\n",
    "            self.up = nn.ConvTranspose3d(in_channels_1 , in_channels_1 // 2, kernel_size=2, stride=2)\n",
    "            self.conv = block(in_channels_2+in_channels_1//2, out_channels, norm_layer=norm_layer)\n",
    "\n",
    "    def forward(self, x1, x2):\n",
    "        \n",
    "        x1 = self.up(x1)\n",
    "        # input is CHW\n",
    "        diffZ = x2.size()[2] - x1.size()[2]\n",
    "        diffY = x2.size()[3] - x1.size()[3]\n",
    "        diffX = x2.size()[4] - x1.size()[4]\n",
    "\n",
    "        x1 = F.pad(x1, [diffX // 2, diffX - diffX // 2,\n",
    "                        diffY // 2, diffY - diffY // 2, \n",
    "                        diffZ // 2, diffZ - diffZ // 2])\n",
    "\n",
    "        x = torch.cat([x2, x1], dim=1)\n",
    "        return self.conv(x)"
   ]
  },
  {
   "cell_type": "code",
   "execution_count": null,
   "metadata": {},
   "outputs": [
    {
     "data": {
      "text/plain": [
       "torch.Size([10, 128, 2, 10, 10])"
      ]
     },
     "execution_count": null,
     "metadata": {},
     "output_type": "execute_result"
    }
   ],
   "source": [
    "Up(256, 128, 128, trilinear = True, block=DoubleResBlock)(torch.randn(10, 256, 1, 5, 5),torch.randn(10, 128, 2, 10, 10)).shape"
   ]
  },
  {
   "cell_type": "code",
   "execution_count": null,
   "metadata": {},
   "outputs": [
    {
     "data": {
      "text/plain": [
       "torch.Size([10, 128, 2, 10, 10])"
      ]
     },
     "execution_count": null,
     "metadata": {},
     "output_type": "execute_result"
    }
   ],
   "source": [
    "Up(128, 256, 128, trilinear = True, block=DoubleResBlock)(torch.randn(10, 128, 1, 5, 5),torch.randn(10, 256, 2, 10, 10)).shape"
   ]
  },
  {
   "cell_type": "code",
   "execution_count": null,
   "metadata": {},
   "outputs": [
    {
     "data": {
      "text/plain": [
       "torch.Size([10, 128, 2, 10, 10])"
      ]
     },
     "execution_count": null,
     "metadata": {},
     "output_type": "execute_result"
    }
   ],
   "source": [
    "Up(256, 128, 128, trilinear = False, block=DoubleResBlock)(torch.randn(10, 256, 1, 5, 5),torch.randn(10, 128, 2, 10, 10)).shape"
   ]
  },
  {
   "cell_type": "code",
   "execution_count": null,
   "metadata": {},
   "outputs": [
    {
     "data": {
      "text/plain": [
       "torch.Size([10, 128, 2, 10, 10])"
      ]
     },
     "execution_count": null,
     "metadata": {},
     "output_type": "execute_result"
    }
   ],
   "source": [
    "Up(128, 256, 128, trilinear = False, block=DoubleResBlock)(torch.randn(10, 128, 1, 5, 5),torch.randn(10, 256, 2, 10, 10)).shape"
   ]
  },
  {
   "cell_type": "markdown",
   "metadata": {},
   "source": [
    "### Out Layers"
   ]
  },
  {
   "cell_type": "code",
   "execution_count": null,
   "metadata": {},
   "outputs": [],
   "source": [
    "# export\n",
    "class OutConv(nn.Module):\n",
    "    def __init__(self, in_channels, out_channels):\n",
    "        super(OutConv, self).__init__()\n",
    "        self.conv = nn.Conv3d(in_channels, out_channels, kernel_size=1)\n",
    "        self.act = nn.Softmax(dim=1)    \n",
    "            \n",
    "    def forward(self, x):\n",
    "        x = self.conv(x)\n",
    "        return self.act(x)\n",
    "    \n",
    "class OutDuoubleRes(nn.Module):\n",
    "    def __init__(self, in_channels, out_channels, mid_channels=None, norm_layer=nn.BatchNorm3d):\n",
    "        super(OutDuoubleRes, self).__init__()\n",
    "        if mid_channels is None: mid_channels = in_channels // 4\n",
    "        self.conv =  nn.Sequential(\n",
    "            # 1st Block\n",
    "            nn.Conv3d(in_channels, mid_channels, kernel_size = 1, stride = 1, bias = False),\n",
    "            norm_layer(mid_channels, eps=1e-05, momentum=0.1, affine=True, track_running_stats=True),\n",
    "            nn.ReLU(inplace=True),\n",
    "\n",
    "            nn.Conv3d(mid_channels, mid_channels, kernel_size = 3, stride = 1, padding = 1, bias = False),\n",
    "            norm_layer(mid_channels, eps=1e-05, momentum=0.1, affine=True, track_running_stats=True),\n",
    "            nn.ReLU(inplace=True),\n",
    "\n",
    "            nn.Conv3d(mid_channels, mid_channels, kernel_size = 1, stride = 1, bias = False),\n",
    "            norm_layer(mid_channels, eps=1e-05, momentum=0.1, affine=True, track_running_stats=True),      \n",
    "            nn.ReLU(inplace=True),              \n",
    "            \n",
    "            # 2nd Block\n",
    "            nn.Conv3d(mid_channels, out_channels, kernel_size = 1, stride = 1, bias = False),\n",
    "            norm_layer(out_channels, eps=1e-05, momentum=0.1, affine=True, track_running_stats=True),\n",
    "            nn.ReLU(inplace=True),\n",
    "\n",
    "            nn.Conv3d(out_channels, out_channels, kernel_size = 3, stride = 1, padding = 1, bias = False),\n",
    "            norm_layer(out_channels, eps=1e-05, momentum=0.1, affine=True, track_running_stats=True),\n",
    "            nn.ReLU(inplace=True),\n",
    "\n",
    "            nn.Conv3d(out_channels, out_channels, kernel_size = 1, stride = 1, bias = False),\n",
    "            norm_layer(out_channels, eps=1e-05, momentum=0.1, affine=True, track_running_stats=True)      \n",
    "        )\n",
    "        self.act = nn.Softmax(dim=1)    \n",
    "            \n",
    "    def forward(self, x):\n",
    "        x = self.conv(x)\n",
    "        return self.act(x)"
   ]
  },
  {
   "cell_type": "markdown",
   "metadata": {},
   "source": [
    "## Models\n",
    "\n",
    "### Base Classes\n",
    "\n",
    "UNet architecture as initially described by [Ronneberger et al](https://arxiv.org/abs/1505.04597)."
   ]
  },
  {
   "cell_type": "code",
   "execution_count": null,
   "metadata": {},
   "outputs": [],
   "source": [
    "# export\n",
    "class AbstractUNet3D(nn.Module):\n",
    "    \"Abstract base class of UNet, should be subclassed by all UNets\"\n",
    "    def __init__(self):\n",
    "        super(AbstractUNet3D, self).__init__()\n",
    "    \n",
    "    def forward(self, input):\n",
    "        x1, x2, x3, x4, x5 = self.encoder(input)\n",
    "        x = self.up1(x5, x4)\n",
    "        x = self.up2(x, x3)\n",
    "        x = self.up3(x, x2)\n",
    "        x = self.up4(x, x1)\n",
    "        logits = self.outc(x)\n",
    "        return logits"
   ]
  },
  {
   "cell_type": "markdown",
   "metadata": {},
   "source": [
    "### 3D UResNet\n",
    "\n",
    "3D version of the original UNet with ResNet3D Encoder"
   ]
  },
  {
   "cell_type": "code",
   "execution_count": null,
   "metadata": {},
   "outputs": [],
   "source": [
    "# export\n",
    "class UResNet3D(AbstractUNet3D):\n",
    "    def __init__(self, backbone, n_channels, n_classes, trilinear=False, norm_layer=nn.BatchNorm3d):\n",
    "        super(UResNet3D, self).__init__()\n",
    "        self.encoder=build_backbone(backbone, n_channels=n_channels, output_stride=16, norm_layer=norm_layer)\n",
    "        \n",
    "        ## BasicBlock leads to smaller channelsize, how to correct this wisely??\n",
    "        in_channels = 512 if isinstance(self.encoder.layer1[0], BasicBlock3d) else 2048\n",
    "        \n",
    "        self.up1 = Up(in_channels, in_channels // 2, trilinear=trilinear, block=DoubleResBlock, norm_layer=norm_layer)\n",
    "        in_channels = in_channels // 2\n",
    "        self.up2 = Up(in_channels, in_channels // 2, trilinear=trilinear, block=DoubleResBlock, norm_layer=norm_layer)\n",
    "        in_channels = in_channels // 2\n",
    "        self.up3 =Up(in_channels, in_channels // 2, trilinear=trilinear, block=DoubleResBlock, norm_layer=norm_layer)\n",
    "        in_channels = in_channels // 2\n",
    "        self.up4 = Up(in_channels, in_channels // 2, trilinear=trilinear, block=DoubleResBlock, norm_layer=norm_layer)\n",
    "        self.outc = OutDuoubleRes(in_channels // 2, n_classes)\n",
    "        \n",
    "\n",
    "class UResNet3D_2(AbstractUNet3D):\n",
    "    def __init__(self, n_channels, n_classes, trilinear=True, block=DoubleResBlock, norm_layer=nn.BatchNorm3d):\n",
    "        super(UResNet3D_2, self).__init__()\n",
    "\n",
    "        self.inc = DoubleConv(n_channels, 64, norm_layer=norm_layer)\n",
    "        self.down1 = Down(64, 128, block=block, norm_layer=norm_layer)\n",
    "        self.down2 = Down(128, 256, block=block, norm_layer=norm_layer)\n",
    "        self.down3 = Down(256, 512, block=block, norm_layer=norm_layer)\n",
    "        self.down4 = Down(512, 1024, block=block, norm_layer=norm_layer)\n",
    "        self.up1 = Up(1024, 512, trilinear=trilinear, block=block, norm_layer=norm_layer)\n",
    "        self.up2 = Up(512, 256, trilinear=trilinear, block=block, norm_layer=norm_layer)\n",
    "        self.up3 = Up(256, 128, trilinear=trilinear, block=block, norm_layer=norm_layer)\n",
    "        self.up4 = Up(128, 64, trilinear=trilinear, block=block, norm_layer=norm_layer)\n",
    "        self.outc = OutDuoubleRes(64, n_classes)\n",
    "        \n",
    "    def encoder(self, x): \n",
    "        x1 = self.inc(x)\n",
    "        x2 = self.down1(x1)\n",
    "        x3 = self.down2(x2)\n",
    "        x4 = self.down3(x3)\n",
    "        x5 = self.down4(x4)\n",
    "        return x1, x2, x3, x4, x5"
   ]
  },
  {
   "cell_type": "code",
   "execution_count": null,
   "metadata": {},
   "outputs": [
    {
     "data": {
      "text/plain": [
       "torch.Size([5, 2, 5, 50, 50])"
      ]
     },
     "execution_count": null,
     "metadata": {},
     "output_type": "execute_result"
    }
   ],
   "source": [
    "UResNet3D_2(n_channels=5, n_classes=2, trilinear=True)(torch.randn(5, 5, 5, 50, 50)).size()"
   ]
  },
  {
   "cell_type": "markdown",
   "metadata": {},
   "source": [
    "### Double UNet \n",
    "as describet by [Debesh et al.](https://arxiv.org/pdf/2006.04868.pdf), adapted for 3D.   \n",
    "The original architecture as published: \n",
    "\n",
    "![Double UNet Architecture](https://raw.githubusercontent.com/DebeshJha/2020-CBMS-DoubleU-Net/master/img/DoubleU-Net.png)"
   ]
  },
  {
   "cell_type": "code",
   "execution_count": null,
   "metadata": {},
   "outputs": [],
   "source": [
    "# export\n",
    "class DoubleUNet3D(nn.Module):\n",
    "    def __init__(self, backbone, n_channels, n_classes, trilinear=False, norm_layer=nn.BatchNorm3d):\n",
    "        store_attr()\n",
    "        super(DoubleUNet3D, self).__init__()\n",
    "        self.encoder1=build_backbone(backbone, n_channels=self.n_channels, output_stride=16, norm_layer=norm_layer)\n",
    "        self.encoder2=build_backbone(backbone, n_channels=self.n_channels, output_stride=16, norm_layer=norm_layer)\n",
    "        \n",
    "        ## BasicBlock leads to smaller channelsize, how to correct this wisely??\n",
    "        in_channels = 512 if isinstance(self.encoder1.layer1[0], BasicBlock3d) else 2048\n",
    "        \n",
    "        self.aspp1 = ASPP(in_channels, [1,6,12,18], 256, norm_layer)\n",
    "        self.aspp2 = ASPP(in_channels, [1,6,12,18], 256, norm_layer)\n",
    "        \n",
    "        self.up1a = Up(256, in_channels // 2, trilinear=self.trilinear, norm_layer=norm_layer)\n",
    "        self.up1b = Up(256, in_channels, trilinear=self.trilinear, norm_layer=norm_layer)\n",
    "        \n",
    "        in_channels = in_channels // 2\n",
    "        self.up2a = Up(128, in_channels // 2, trilinear=self.trilinear, norm_layer=norm_layer)\n",
    "        self.up2b = Up(128, in_channels, trilinear=self.trilinear, norm_layer=norm_layer)\n",
    "        \n",
    "        in_channels = in_channels // 2\n",
    "        self.up3a = Up(64, in_channels // 2, trilinear=self.trilinear, norm_layer=norm_layer)\n",
    "        self.up3b = Up(64, in_channels, trilinear=self.trilinear, norm_layer=norm_layer)\n",
    "        \n",
    "        in_channels = in_channels // 2\n",
    "        self.up4a = Up(32, in_channels // 2, trilinear=self.trilinear, norm_layer=norm_layer)\n",
    "        self.up4b = Up(32, in_channels, trilinear=self.trilinear, norm_layer=norm_layer)\n",
    "        \n",
    "        self.outc1 = OutConv(16, self.n_classes)\n",
    "        self.outc2 = OutConv(16, self.n_classes)\n",
    "        self.outc3 = OutConv(self.n_classes * 2, self.n_classes)\n",
    "        \n",
    "    def forward(self, input):\n",
    "        x1a, x2a, x3a, x4a, x5a = self.encoder1(input)\n",
    "        x = self.aspp1(x5a)\n",
    "        x = self.up1a(x, x4a)\n",
    "        x = self.up2a(x, x3a)\n",
    "        x = self.up3a(x, x2a)\n",
    "        x = self.up4a(x, x1a)\n",
    "        out1 = self.outc1(x)\n",
    "\n",
    "        input = torch.stack((torch.mean(out1, 1), )*self.n_channels, 1) * input\n",
    "        x1b, x2b, x3b, x4b, x5b = self.encoder2(input)\n",
    "        x = self.aspp1(x5b)\n",
    "        x = self.up1b(x, torch.cat((x4a,x4b),1))\n",
    "        x = self.up2b(x, torch.cat((x3a,x3b),1))\n",
    "        x = self.up3b(x, torch.cat((x2a,x2b),1))\n",
    "        x = self.up4b(x, torch.cat((x1a,x1b),1))\n",
    "        out2 = self.outc2(x)\n",
    "        \n",
    "        return self.outc3(torch.cat((out1, out2), 1))"
   ]
  },
  {
   "cell_type": "code",
   "execution_count": null,
   "metadata": {},
   "outputs": [
    {
     "data": {
      "text/plain": [
       "torch.Size([5, 2, 3, 30, 30])"
      ]
     },
     "execution_count": null,
     "metadata": {},
     "output_type": "execute_result"
    }
   ],
   "source": [
    "DoubleUNet3D(resnet18_3d, n_channels=1, n_classes=2, trilinear=False, norm_layer=IdentityLayer)(torch.randn(5, 1, 3, 30, 30)).size()"
   ]
  },
  {
   "cell_type": "code",
   "execution_count": null,
   "metadata": {},
   "outputs": [
    {
     "data": {
      "text/plain": [
       "torch.Size([5, 2, 5, 30, 30])"
      ]
     },
     "execution_count": null,
     "metadata": {},
     "output_type": "execute_result"
    }
   ],
   "source": [
    "DoubleUNet3D(resnet18_3d, n_channels=1, n_classes=2, trilinear=True)(torch.randn(5, 1, 5, 30, 30)).size()"
   ]
  },
  {
   "cell_type": "code",
   "execution_count": null,
   "metadata": {},
   "outputs": [
    {
     "data": {
      "text/plain": [
       "torch.Size([5, 2, 3, 30, 30])"
      ]
     },
     "execution_count": null,
     "metadata": {},
     "output_type": "execute_result"
    }
   ],
   "source": [
    "DoubleUNet3D(resnet50_3d, n_channels=10, n_classes=2, trilinear=False)(torch.randn(5, 10, 3, 30, 30)).size()"
   ]
  },
  {
   "cell_type": "code",
   "execution_count": null,
   "metadata": {},
   "outputs": [
    {
     "data": {
      "text/plain": [
       "torch.Size([2, 2, 3, 30, 30])"
      ]
     },
     "execution_count": null,
     "metadata": {},
     "output_type": "execute_result"
    }
   ],
   "source": [
    "DoubleUNet3D(resnet50_3d, n_channels=1, n_classes=2, trilinear=True)(torch.randn(2, 1, 3, 30, 30)).size()"
   ]
  },
  {
   "cell_type": "markdown",
   "metadata": {},
   "source": [
    "## UneXt\n",
    "\n",
    "Inpired by a recent kaggle kernel https://www.kaggle.com/iafoss/hubmap-pytorch-fast-ai-starter"
   ]
  },
  {
   "cell_type": "code",
   "execution_count": null,
   "metadata": {},
   "outputs": [],
   "source": [
    "# export\n",
    "class FPN(nn.Module):\n",
    "    def __init__(self, input_channels:list, output_channels:list, norm_layer):\n",
    "        super().__init__()\n",
    "        self.convs = nn.ModuleList(\n",
    "            [nn.Sequential(nn.Conv3d(in_ch, out_ch*2, kernel_size=3, padding=1),\n",
    "             nn.ReLU(inplace=True), \n",
    "             norm_layer(out_ch*2),\n",
    "             nn.Conv3d(out_ch*2, out_ch, kernel_size=3, padding=1))\n",
    "            for in_ch, out_ch in zip(input_channels, output_channels)])\n",
    "        \n",
    "    def forward(self, xs:list, last_layer):\n",
    "        hcs = [F.interpolate(c(x),size=last_layer.shape[-3:],mode='trilinear') \n",
    "               for i,(c,x) in enumerate(zip(self.convs, xs))]\n",
    "        hcs.append(last_layer)\n",
    "        return torch.cat(hcs, dim=1)\n",
    "    \n",
    "\n",
    "class UneXt50(nn.Module):\n",
    "    def __init__(self, backbone, n_channels, n_classes, stride=1, norm_layer=nn.BatchNorm3d, **kwargs):\n",
    "        super().__init__()\n",
    "        self.encoder=build_backbone(backbone, n_channels=n_channels, norm_layer=norm_layer, output_stride=16)\n",
    "\n",
    "        factor = 4 if isinstance(self.encoder.layer1[0], BasicBlock3d) else 1\n",
    "        #aspp with customized dilatations\n",
    "        self.aspp = ASPP(in_channels=2048//factor, dilations=[stride*1,stride*2,stride*3,stride*4], out_channels=512, norm_layer=norm_layer)\n",
    "        self.drop_aspp = nn.Dropout3d(0.5)\n",
    "        #decoder\n",
    "        self.dec4 = Up(512,1024//factor,256, norm_layer=norm_layer)\n",
    "        self.dec3 = Up(256,512//factor,128, norm_layer=norm_layer)\n",
    "        self.dec2 = Up(128,256//factor,64, norm_layer=norm_layer)\n",
    "        self.dec1 = Up(64,128//factor,32, norm_layer=norm_layer)\n",
    "        self.fpn = FPN([512,256,128,64],[16]*4, norm_layer=norm_layer)\n",
    "        self.drop = nn.Dropout3d(0.1)\n",
    "        self.final_conv = OutConv(32+16*4, n_classes)\n",
    "        \n",
    "    def forward(self, x):\n",
    "        enc0, enc1, enc2, enc3, enc4 = self.encoder(x)\n",
    "    #    print(enc0.shape, enc1.shape, enc2.shape, enc3.shape, enc4.shape)\n",
    "    \n",
    "        enc5 = self.aspp(enc4)\n",
    "        dec3 = self.dec4(self.drop_aspp(enc5),enc3)\n",
    "        dec2 = self.dec3(dec3,enc2)\n",
    "        dec1 = self.dec2(dec2,enc1)\n",
    "        dec0 = self.dec1(dec1,enc0)\n",
    "\n",
    "        x = self.fpn([enc5, dec3, dec2, dec1], dec0)\n",
    "        x = self.drop(x)\n",
    "        x = self.final_conv(x)\n",
    "        return x"
   ]
  },
  {
   "cell_type": "code",
   "execution_count": null,
   "metadata": {},
   "outputs": [
    {
     "data": {
      "text/plain": [
       "torch.Size([5, 3, 20, 40, 40])"
      ]
     },
     "execution_count": null,
     "metadata": {},
     "output_type": "execute_result"
    }
   ],
   "source": [
    "UneXt50(resnet18_3d, n_channels = 3, n_classes = 3)(torch.randn(5,3,20,40,40)).size()"
   ]
  },
  {
   "cell_type": "code",
   "execution_count": null,
   "metadata": {},
   "outputs": [
    {
     "name": "stdout",
     "output_type": "stream",
     "text": [
      "Converted 01_basics.ipynb.\n",
      "Converted 02_transforms.ipynb.\n",
      "Converted 03_datablock.ipynb.\n",
      "Converted 04_datasets.ipynb.\n",
      "Converted 05a_models.modules.ipynb.\n",
      "Converted 05b_models.alexnet.ipynb.\n",
      "Converted 05b_models.deeplabv3.ipynb.\n",
      "Converted 05b_models.densenet.ipynb.\n",
      "Converted 05b_models.resnet.ipynb.\n",
      "Converted 05c_models.siamese.ipynb.\n",
      "Converted 05c_models.unet.ipynb.\n",
      "Converted 05d_models.losses.ipynb.\n",
      "Converted 06_callback.ipynb.\n",
      "Converted 99_tools.ipynb.\n",
      "Converted index.ipynb.\n"
     ]
    }
   ],
   "source": [
    "# hide\n",
    "from nbdev.export import *\n",
    "notebook2script()"
   ]
  },
  {
   "cell_type": "code",
   "execution_count": null,
   "metadata": {},
   "outputs": [],
   "source": []
  }
 ],
 "metadata": {
  "kernelspec": {
   "display_name": "Python 3 (fastai v2)",
   "language": "python",
   "name": "fastai-v2"
  }
 },
 "nbformat": 4,
 "nbformat_minor": 4
}
