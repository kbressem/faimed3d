{
 "cells": [
  {
   "cell_type": "markdown",
   "metadata": {},
   "source": [
    "# 3D UNet\n"
   ]
  },
  {
   "cell_type": "code",
   "execution_count": null,
   "metadata": {},
   "outputs": [],
   "source": [
    "# hide\n",
    "import sys\n",
    "sys.path.append(\"..\")\n",
    "from nbdev.showdoc import *"
   ]
  },
  {
   "cell_type": "code",
   "execution_count": null,
   "metadata": {},
   "outputs": [],
   "source": [
    "# default_exp models.unet\n",
    "# export \n",
    "from fastai.basics import *\n",
    "from fastai.layers import *\n",
    "import torchvision, torch\n",
    "from warnings import warn\n",
    "from faimed3d.models.resnet import *"
   ]
  },
  {
   "cell_type": "markdown",
   "metadata": {},
   "source": [
    "## Building Blocks\n"
   ]
  },
  {
   "cell_type": "markdown",
   "metadata": {},
   "source": [
    "### Convolutional BlocKs\n",
    "#### DoubleConv\n",
    "Standard double Convulutional-Block for UNet adapted for 3D.\n"
   ]
  },
  {
   "cell_type": "code",
   "execution_count": null,
   "metadata": {},
   "outputs": [],
   "source": [
    "# export\n",
    "class DoubleConv(nn.Module):\n",
    "    \"\"\"(convolution => [BN] => ReLU) * 2\"\"\"\n",
    "\n",
    "    def __init__(self, in_channels, out_channels, mid_channels=None):\n",
    "        super().__init__()\n",
    "        if not mid_channels:\n",
    "            mid_channels = out_channels\n",
    "        self.double_conv = nn.Sequential(\n",
    "            nn.Conv3d(in_channels, mid_channels, kernel_size=3, padding=1),\n",
    "            nn.BatchNorm3d(mid_channels),\n",
    "            nn.ReLU(inplace=True),\n",
    "            nn.Conv3d(mid_channels, out_channels, kernel_size=3, padding=1),\n",
    "            nn.BatchNorm3d(out_channels),\n",
    "            nn.ReLU(inplace=True)\n",
    "        )\n",
    "\n",
    "    def forward(self, x):\n",
    "        return self.double_conv(x)\n"
   ]
  },
  {
   "cell_type": "code",
   "execution_count": null,
   "metadata": {},
   "outputs": [
    {
     "data": {
      "text/plain": [
       "torch.Size([2, 64, 10, 50, 50])"
      ]
     },
     "execution_count": null,
     "metadata": {},
     "output_type": "execute_result"
    }
   ],
   "source": [
    "DoubleConv(32, 64)(torch.randn(2, 32, 10, 50, 50)).size()"
   ]
  },
  {
   "cell_type": "code",
   "execution_count": null,
   "metadata": {},
   "outputs": [],
   "source": [
    "# export \n",
    "class DoubleResBlock(nn.Module):\n",
    "    \n",
    "    def __init__(self, in_channels, out_channels, mid_channels=None):\n",
    "        super().__init__()\n",
    "        \n",
    "        if not mid_channels: \n",
    "            mid_channels = out_channels//2\n",
    "        \n",
    "        self.res_block = nn.Sequential(\n",
    "            # 1st Block\n",
    "            nn.Conv3d(in_channels, mid_channels, kernel_size = 1, stride = 1, bias = False),\n",
    "            nn.BatchNorm3d(mid_channels, eps=1e-05, momentum=0.1, affine=True, track_running_stats=True),\n",
    "            nn.ReLU(inplace=True),\n",
    "\n",
    "            nn.Conv3d(mid_channels, mid_channels, kernel_size = 3, stride = 1, padding = 1, bias = False, groups = 4),\n",
    "            nn.BatchNorm3d(mid_channels, eps=1e-05, momentum=0.1, affine=True, track_running_stats=True),\n",
    "            nn.ReLU(inplace=True),\n",
    "\n",
    "            nn.Conv3d(mid_channels, mid_channels, kernel_size = 1, stride = 1, bias = False),\n",
    "            nn.BatchNorm3d(mid_channels, eps=1e-05, momentum=0.1, affine=True, track_running_stats=True),      \n",
    "            nn.ReLU(inplace=True),            \n",
    "            \n",
    "            \n",
    "            # 2nd Block\n",
    "            nn.Conv3d(mid_channels, out_channels, kernel_size = 1, stride = 1, bias = False, groups = 16),\n",
    "            nn.BatchNorm3d(out_channels, eps=1e-05, momentum=0.1, affine=True, track_running_stats=True),\n",
    "            nn.ReLU(inplace=True),\n",
    "\n",
    "            nn.Conv3d(out_channels, out_channels, kernel_size = 3, stride = 1, padding = 1, bias = False, groups = 16),\n",
    "            nn.BatchNorm3d(out_channels, eps=1e-05, momentum=0.1, affine=True, track_running_stats=True),\n",
    "            nn.ReLU(inplace=True),\n",
    "\n",
    "            nn.Conv3d(out_channels, out_channels, kernel_size = 1, stride = 1, bias = False),\n",
    "            nn.BatchNorm3d(out_channels, eps=1e-05, momentum=0.1, affine=True, track_running_stats=True)      \n",
    "        )\n",
    "    \n",
    "    def forward(self, x):\n",
    "        return self.res_block(x)"
   ]
  },
  {
   "cell_type": "markdown",
   "metadata": {},
   "source": [
    "## Down Block"
   ]
  },
  {
   "cell_type": "code",
   "execution_count": null,
   "metadata": {},
   "outputs": [],
   "source": [
    "# export\n",
    "class ResDown(nn.Module):\n",
    "    \"\"\"Downscaling with maxpool then resblock\"\"\"\n",
    "\n",
    "    def __init__(self, in_channels, out_channels):\n",
    "        super().__init__()\n",
    "        self.maxpool_conv = nn.Sequential(\n",
    "            nn.MaxPool3d(kernel_size = (2, 2, 2)),\n",
    "            ResBlock(in_channels, out_channels)\n",
    "        )\n",
    "\n",
    "    def forward(self, x):\n",
    "        return self.maxpool_conv(x)\n",
    "    \n",
    "class DoubleResDown(nn.Module):\n",
    "    \"\"\"Downscaling with maxpool then double res block\"\"\"\n",
    "\n",
    "    def __init__(self, in_channels, out_channels):\n",
    "        super().__init__()\n",
    "        self.maxpool_conv = nn.Sequential(\n",
    "            nn.MaxPool3d(kernel_size = (1, 2, 2)),\n",
    "            DoubleResBlock(in_channels, out_channels)\n",
    "        )\n",
    "\n",
    "    def forward(self, x):\n",
    "        return self.maxpool_conv(x)"
   ]
  },
  {
   "cell_type": "markdown",
   "metadata": {},
   "source": [
    "### Upscaling Block"
   ]
  },
  {
   "cell_type": "code",
   "execution_count": null,
   "metadata": {},
   "outputs": [],
   "source": [
    "# export\n",
    "class Up(nn.Module):\n",
    "    \"\"\"Upscaling then double conv\"\"\"\n",
    "\n",
    "    def __init__(self, in_channels, out_channels, trilinear=True):\n",
    "        super().__init__()\n",
    "\n",
    "        # if trilinear, use the normal convolutions to reduce the number of channels\n",
    "        if trilinear:\n",
    "            self.up = nn.Sequential(\n",
    "                nn.Upsample(scale_factor=2, mode='trilinear', align_corners=True),\n",
    "                DoubleConv(in_channels, in_channels // 2)\n",
    "            )\n",
    "            self.conv = DoubleConv(in_channels, out_channels, in_channels // 2)\n",
    "        else:\n",
    "            self.up = nn.ConvTranspose3d(in_channels , in_channels // 2, kernel_size=2, stride=2)\n",
    "            self.conv = DoubleConv(in_channels, out_channels)\n",
    "\n",
    "\n",
    "    def forward(self, x1, x2):\n",
    "        \n",
    "        x1 = self.up(x1)\n",
    "        # input is CHW\n",
    "        diffZ = x2.size()[2] - x1.size()[2]\n",
    "        diffY = x2.size()[3] - x1.size()[3]\n",
    "        diffX = x2.size()[4] - x1.size()[4]\n",
    "\n",
    "        x1 = F.pad(x1, [diffX // 2, diffX - diffX // 2,\n",
    "                        diffY // 2, diffY - diffY // 2, \n",
    "                        diffZ // 2, diffZ - diffZ // 2])\n",
    "\n",
    "        x = torch.cat([x2, x1], dim=1)\n",
    "        return self.conv(x)\n",
    "    \n",
    "class ResUp(Up):\n",
    "    \"\"\"Upscaling then double conv\"\"\"\n",
    "\n",
    "    def __init__(self, in_channels, out_channels, trilinear=True):\n",
    "        super().__init__(in_channels, out_channels, trilinear)\n",
    "\n",
    "        # if trilinear, use the normal convolutions to reduce the number of channels\n",
    "        if trilinear:\n",
    "            self.up = nn.Upsample(scale_factor=2, mode='trilinear', align_corners=True)\n",
    "            self.conv = ResBlock(in_channels, out_channels, in_channels // 2)\n",
    "        else:\n",
    "            self.up = nn.ConvTranspose3d(in_channels , in_channels // 2, kernel_size=2, stride=2)\n",
    "            self.conv = ResBlock(in_channels, out_channels)\n",
    "    \n",
    "class DoubleResUp(Up):\n",
    "    \"\"\"Upscaling then double conv\"\"\"\n",
    "\n",
    "    def __init__(self, in_channels, out_channels, trilinear=True):\n",
    "        super().__init__(in_channels, out_channels, trilinear)\n",
    "\n",
    "        # if trilinear, use the normal convolutions to reduce the number of channels\n",
    "        if trilinear:\n",
    "            self.up = nn.Upsample(scale_factor=2, mode='trilinear', align_corners=True)\n",
    "            self.conv = DoubleResBlock(in_channels, out_channels, in_channels // 2)\n",
    "        else:\n",
    "            self.up = nn.ConvTranspose3d(in_channels , in_channels // 2, kernel_size=2, stride=2)\n",
    "            self.conv = DoubleResBlock(in_channels, out_channels)\n"
   ]
  },
  {
   "cell_type": "markdown",
   "metadata": {},
   "source": [
    "### Out Layers"
   ]
  },
  {
   "cell_type": "code",
   "execution_count": null,
   "metadata": {},
   "outputs": [],
   "source": [
    "# export\n",
    "class OutConv(nn.Module):\n",
    "    def __init__(self, in_channels, out_channels):\n",
    "        super(OutConv, self).__init__()\n",
    "        self.conv = nn.Conv3d(in_channels, out_channels, kernel_size=1)\n",
    "            \n",
    "    def forward(self, x):\n",
    "        return self.conv(x)\n",
    "    \n",
    "class OutDuoubleRes(nn.Module):\n",
    "    def __init__(self, in_channels, out_channels, mid_channels=None):\n",
    "        super(OutDuoubleRes, self).__init__()\n",
    "        if mid_channels is None: mid_channels = in_channels // 4\n",
    "        self.conv =  nn.Sequential(\n",
    "            # 1st Block\n",
    "            nn.Conv3d(in_channels, mid_channels, kernel_size = 1, stride = 1, bias = False),\n",
    "            nn.BatchNorm3d(mid_channels, eps=1e-05, momentum=0.1, affine=True, track_running_stats=True),\n",
    "            nn.ReLU(inplace=True),\n",
    "\n",
    "            nn.Conv3d(mid_channels, mid_channels, kernel_size = 3, stride = 1, padding = 1, bias = False),\n",
    "            nn.BatchNorm3d(mid_channels, eps=1e-05, momentum=0.1, affine=True, track_running_stats=True),\n",
    "            nn.ReLU(inplace=True),\n",
    "\n",
    "            nn.Conv3d(mid_channels, mid_channels, kernel_size = 1, stride = 1, bias = False),\n",
    "            nn.BatchNorm3d(mid_channels, eps=1e-05, momentum=0.1, affine=True, track_running_stats=True),      \n",
    "            nn.ReLU(inplace=True),            \n",
    "            \n",
    "            \n",
    "            # 2nd Block\n",
    "            nn.Conv3d(mid_channels, out_channels, kernel_size = 1, stride = 1, bias = False),\n",
    "            nn.BatchNorm3d(out_channels, eps=1e-05, momentum=0.1, affine=True, track_running_stats=True),\n",
    "            nn.ReLU(inplace=True),\n",
    "\n",
    "            nn.Conv3d(out_channels, out_channels, kernel_size = 3, stride = 1, padding = 1, bias = False),\n",
    "            nn.BatchNorm3d(out_channels, eps=1e-05, momentum=0.1, affine=True, track_running_stats=True),\n",
    "            nn.ReLU(inplace=True),\n",
    "\n",
    "            nn.Conv3d(out_channels, out_channels, kernel_size = 1, stride = 1, bias = False),\n",
    "            nn.BatchNorm3d(out_channels, eps=1e-05, momentum=0.1, affine=True, track_running_stats=True)      \n",
    "        )\n",
    "            \n",
    "    def forward(self, x):\n",
    "        return self.conv(x)"
   ]
  },
  {
   "cell_type": "markdown",
   "metadata": {},
   "source": [
    "## Models\n",
    "\n",
    "### Base Classes\n",
    "\n",
    "UNet architecture as initially described by [Ronneberger et al](https://arxiv.org/abs/1505.04597)."
   ]
  },
  {
   "cell_type": "code",
   "execution_count": null,
   "metadata": {},
   "outputs": [],
   "source": [
    "# export\n",
    "class AbstractUNet3D(nn.Module):\n",
    "    \"Abstract base class of UNet, should be subclassed by all UNets\"\n",
    "    def __init__(self):\n",
    "        super(AbstractUNet3D, self).__init__()\n",
    "    \n",
    "    def forward(self, input):\n",
    "        x1, x2, x3, x4, x5 = self.encoder(input)\n",
    "        x = self.up1(x5, x4)\n",
    "        x = self.up2(x, x3)\n",
    "        x = self.up3(x, x2)\n",
    "        x = self.up4(x, x1)\n",
    "        logits = self.outc(x)\n",
    "        return logits"
   ]
  },
  {
   "cell_type": "markdown",
   "metadata": {},
   "source": [
    "### 3D UResNet\n",
    "\n",
    "3D version of the original UNet with ResNet3D Encoder"
   ]
  },
  {
   "cell_type": "code",
   "execution_count": null,
   "metadata": {},
   "outputs": [],
   "source": [
    "# export\n",
    "class UResNet3D(AbstractUNet3D):\n",
    "    def __init__(self, backbone, n_channels, n_classes, trilinear=False):\n",
    "        super(UResNet3D, self).__init__()\n",
    "        self.encoder=build_backbone(backbone, n_channels=n_channels, output_stride=16, BatchNorm=nn.BatchNorm3d)\n",
    "        \n",
    "        ## BasicBlock leads to smaller channelsize, how to correct this wisely??\n",
    "        in_channels = 512 if isinstance(self.encoder.layer1[0], BasicBlock3d) else 2048\n",
    "        \n",
    "        self.up1 = DoubleResUp(in_channels, in_channels // 2, trilinear)\n",
    "        in_channels = in_channels // 2\n",
    "        self.up2 = DoubleResUp(in_channels, in_channels // 2, trilinear)\n",
    "        in_channels = in_channels // 2\n",
    "        self.up3 = DoubleResUp(in_channels, in_channels // 2, trilinear)\n",
    "        in_channels = in_channels // 2\n",
    "        self.up4 = DoubleResUp(in_channels, in_channels // 2, trilinear)\n",
    "        self.outc = OutDuoubleRes(in_channels // 2, n_classes)\n",
    "        \n",
    "\n",
    "class UResNet3D_2(AbstractUNet3D):\n",
    "    def __init__(self, n_channels, n_classes, trilinear=True):\n",
    "        super(UResNet3D_2, self).__init__()\n",
    "\n",
    "        self.inc = DoubleResBlock(n_channels, 64)\n",
    "        self.down1 = DoubleResDown(64, 128)\n",
    "        self.down2 = DoubleResDown(128, 256)\n",
    "        self.down3 = DoubleResDown(256, 512)\n",
    "        factor = 2 if trilinear else 1\n",
    "        self.down4 = DoubleResDown(512, 1024 // factor)\n",
    "        self.up1 = DoubleResUp(1024, 512 // factor, trilinear)\n",
    "        self.up2 = DoubleResUp(512, 256 // factor, trilinear)\n",
    "        self.up3 = DoubleResUp(256, 128 // factor, trilinear)\n",
    "        self.up4 = DoubleResUp(128, 64, trilinear)\n",
    "        self.outc = OutDuoubleRes(64, n_classes)\n",
    "        \n",
    "    def encoder(self, x): \n",
    "        x1 = self.inc(x)\n",
    "        x2 = self.down1(x1)\n",
    "        x3 = self.down2(x2)\n",
    "        x4 = self.down3(x3)\n",
    "        x5 = self.down4(x4)\n",
    "        return x1, x2, x3, x4, x5"
   ]
  },
  {
   "cell_type": "code",
   "execution_count": null,
   "metadata": {},
   "outputs": [
    {
     "data": {
      "text/plain": [
       "torch.Size([5, 2, 5, 50, 50])"
      ]
     },
     "execution_count": null,
     "metadata": {},
     "output_type": "execute_result"
    }
   ],
   "source": [
    "UResNet3D(resnet18_3d, n_channels=5, n_classes=2, trilinear=False)(torch.randn(5, 5, 5, 50, 50)).size()"
   ]
  },
  {
   "cell_type": "markdown",
   "metadata": {},
   "source": [
    "### Double UNet \n",
    "as describet by [Debesh et al.](https://arxiv.org/pdf/2006.04868.pdf), adapted for 3D.   \n",
    "The original architecture as published: \n",
    "\n",
    "![Double UNet Architecture](https://raw.githubusercontent.com/DebeshJha/2020-CBMS-DoubleU-Net/master/img/DoubleU-Net.png)\n",
    "\n",
    "ASPP is not yet implemented"
   ]
  },
  {
   "cell_type": "code",
   "execution_count": null,
   "metadata": {},
   "outputs": [],
   "source": [
    "# export\n",
    "class DoubleUNet3D(nn.Module):\n",
    "    def __init__(self, backbone, n_channels, n_classes, trilinear=False):\n",
    "        store_attr()\n",
    "        super(DoubleUNet3D, self).__init__()\n",
    "        self.encoder1=build_backbone(backbone, n_channels=self.n_channels, output_stride=16, BatchNorm=nn.BatchNorm3d)\n",
    "        self.encoder2=build_backbone(backbone, n_channels=self.n_channels, output_stride=16, BatchNorm=nn.BatchNorm3d)\n",
    "        \n",
    "        ## BasicBlock leads to smaller channelsize, how to correct this wisely??\n",
    "        in_channels = 512 if isinstance(self.encoder1.layer1[0], BasicBlock3d) else 2048\n",
    "        \n",
    "        self.up1a = Up(in_channels, in_channels // 2, self.trilinear)\n",
    "        self.up1b = Up(in_channels, in_channels // 2, self.trilinear)\n",
    "        in_channels = in_channels // 2\n",
    "        self.up2a = Up(in_channels, in_channels // 2, self.trilinear)\n",
    "        self.up2b = Up(in_channels, in_channels // 2, self.trilinear)\n",
    "        in_channels = in_channels // 2\n",
    "        self.up3a = Up(in_channels, in_channels // 2, self.trilinear)\n",
    "        self.up3b = Up(in_channels, in_channels // 2, self.trilinear)\n",
    "        in_channels = in_channels // 2\n",
    "        self.up4a = Up(in_channels, in_channels // 2, self.trilinear)\n",
    "        self.up4b = Up(in_channels, in_channels // 2, self.trilinear)\n",
    "        self.outc1 = OutConv(in_channels // 2, self.n_classes)\n",
    "        self.outc2 = OutConv(in_channels // 2, self.n_classes)\n",
    "        self.outc3 = OutConv(self.n_classes * 2, self.n_classes)\n",
    "        \n",
    "    def forward(self, input):\n",
    "        x1a, x2a, x3a, x4a, x5a = self.encoder1(input)\n",
    "        x = self.up1a(x5a, x4a)\n",
    "        x = self.up2a(x, x3a)\n",
    "        x = self.up3a(x, x2a)\n",
    "        x = self.up4a(x, x1a)\n",
    "        out1 = self.outc2(x)\n",
    "\n",
    "        input = torch.stack((torch.mean(out1, 1), )*self.n_channels, 1) * input\n",
    "        x1b, x2b, x3b, x4b, x5b = self.encoder2(input)\n",
    "        x = self.up1b(x5b, x4a*x4b)\n",
    "        x = self.up2b(x, x3a*x3b)\n",
    "        x = self.up3b(x, x2a*x2b)\n",
    "        x = self.up4b(x, x1a*x1b)\n",
    "        out2 = self.outc2(x)\n",
    "        \n",
    "        logits = self.outc3(torch.cat((out1, out2), 1))\n",
    "\n",
    "        return logits\n",
    "\n"
   ]
  },
  {
   "cell_type": "code",
   "execution_count": null,
   "metadata": {},
   "outputs": [
    {
     "data": {
      "text/plain": [
       "torch.Size([5, 2, 10, 80, 80])"
      ]
     },
     "execution_count": null,
     "metadata": {},
     "output_type": "execute_result"
    }
   ],
   "source": [
    "DoubleUNet3D(resnet18_3d, n_channels=5, n_classes=2, trilinear=False)(torch.randn(5, 5, 10, 80, 80)).size()"
   ]
  },
  {
   "cell_type": "code",
   "execution_count": null,
   "metadata": {},
   "outputs": [
    {
     "name": "stdout",
     "output_type": "stream",
     "text": [
      "Converted 01_basics.ipynb.\n",
      "Converted 02_transforms.ipynb.\n",
      "Converted 03_datablock.ipynb.\n",
      "Converted 04_datasets.ipynb.\n",
      "Converted 05a_models.modules.ipynb.\n",
      "Converted 05b_models.alexnet.ipynb.\n",
      "Converted 05b_models.deeplabv3.ipynb.\n",
      "Converted 05b_models.resnet.ipynb.\n",
      "Converted 05c_models.siamese.ipynb.\n",
      "Converted 05c_models.unet.ipynb.\n",
      "Converted 05d_models.losses.ipynb.\n",
      "Converted 06_callback.ipynb.\n",
      "Converted 99_tools.ipynb.\n",
      "Converted index.ipynb.\n"
     ]
    }
   ],
   "source": [
    "# hide\n",
    "from nbdev.export import *\n",
    "notebook2script()"
   ]
  },
  {
   "cell_type": "code",
   "execution_count": null,
   "metadata": {},
   "outputs": [],
   "source": []
  }
 ],
 "metadata": {
  "kernelspec": {
   "display_name": "Python 3 (fastai v2)",
   "language": "python",
   "name": "fastai-v2"
  }
 },
 "nbformat": 4,
 "nbformat_minor": 4
}
