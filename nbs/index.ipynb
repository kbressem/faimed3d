{
 "cells": [
  {
   "cell_type": "code",
   "execution_count": null,
   "metadata": {},
   "outputs": [],
   "source": [
    "#hide\n",
    "import sys\n",
    "sys.path.append(\"..\")"
   ]
  },
  {
   "cell_type": "markdown",
   "metadata": {},
   "source": [
    "# FAIMED 3D\n",
    "\n",
    "> fastai extension for medical 3d images including 3d transforms, datablocks and novel network architectures. "
   ]
  },
  {
   "cell_type": "markdown",
   "metadata": {},
   "source": [
    "## Install"
   ]
  },
  {
   "cell_type": "markdown",
   "metadata": {},
   "source": [
    "`pip install faimed3d`"
   ]
  },
  {
   "cell_type": "markdown",
   "metadata": {},
   "source": [
    "## Example Usage"
   ]
  },
  {
   "cell_type": "markdown",
   "metadata": {},
   "source": [
    "In contrast to fastai, which uses Pydicom to read medical images, faimed3d uses SimpleITK, as it supports more image formats.  \n",
    "Currently faimed3d is build using the following versions of fastai, fastcore, nbdev, PyTorch, torchvision and SimpleITK"
   ]
  },
  {
   "cell_type": "code",
   "execution_count": null,
   "metadata": {},
   "outputs": [
    {
     "name": "stdout",
     "output_type": "stream",
     "text": [
      "fastai: 2.1.10\n",
      "fastcore: 1.3.12\n",
      "nbdev: 1.1.5\n",
      "torch: 1.7.0\n",
      "torchvision: 0.8.1\n",
      "SimpleITK: 2.0.0rc3 (ITK 5.1) \n"
     ]
    }
   ],
   "source": [
    "import fastai\n",
    "import fastcore\n",
    "import nbdev\n",
    "import torch\n",
    "import torchvision\n",
    "\n",
    "print('fastai:', fastai.__version__)\n",
    "print('fastcore:' ,fastcore.__version__)\n",
    "print('nbdev:' ,nbdev.__version__)\n",
    "print('torch:' ,torch.__version__)\n",
    "print('torchvision:' ,torchvision.__version__)\n",
    "print('SimpleITK: 2.0.0rc3 (ITK 5.1) ')"
   ]
  },
  {
   "cell_type": "markdown",
   "metadata": {},
   "source": [
    "Example 3D classification on the MRNet Dataset"
   ]
  },
  {
   "cell_type": "code",
   "execution_count": null,
   "metadata": {},
   "outputs": [],
   "source": [
    "from faimed3d.all import *\n",
    "from torchvision.models.video import r3d_18"
   ]
  },
  {
   "cell_type": "code",
   "execution_count": null,
   "metadata": {},
   "outputs": [],
   "source": [
    "#hide\n",
    "mrnet_data = pd.read_csv('../../mri-spa/data/train_knee.csv')"
   ]
  },
  {
   "cell_type": "markdown",
   "metadata": {},
   "source": [
    "Defining paramteres for piecewise histogram scaling. Paramters can be obtained from dataloaders running `dls.standard_scale_from_dls()`"
   ]
  },
  {
   "cell_type": "code",
   "execution_count": null,
   "metadata": {},
   "outputs": [],
   "source": [
    "std = tensor([173.06963,184.85706,197.57706,210.63336,225.09673,241.43134,260.64816,285.0106,320.0079,386.4354,562.08795])\n",
    "percs = tensor([1,10,20,30,40,50,60,70,80,90,99,])"
   ]
  },
  {
   "cell_type": "markdown",
   "metadata": {},
   "source": [
    "`faimed3d` keeps track of the metadata and stores it in a temporary directory. To avoid clutter, the tmpdir is emptied each time a new Dataloader is constructed"
   ]
  },
  {
   "cell_type": "code",
   "execution_count": null,
   "metadata": {},
   "outputs": [],
   "source": [
    "dls = ImageDataLoaders3D.from_df(mrnet_data, '/media/..',\n",
    "                                 item_tfms = ResizeCrop3D(crop_by = (0., 0.1, 0.1), resize_to = (20, 112, 112), perc_crop = True),\n",
    "                                 rescale_method = PiecewiseHistScaling(percs, std),\n",
    "                                 valid_col = 'is_valid',\n",
    "                                 bs = 2, val_bs = 2)"
   ]
  },
  {
   "cell_type": "markdown",
   "metadata": {},
   "source": [
    "Construct a learner similar to fastai, even transfer learning is possible using the pretrained resnet18 from torchvision."
   ]
  },
  {
   "cell_type": "code",
   "execution_count": null,
   "metadata": {},
   "outputs": [],
   "source": [
    "learn = cnn_learner_3d(dls, \n",
    "                       r3d_18,  \n",
    "                       model_dir='/home/bressekk/Documents/faimed3d/nbs', \n",
    "                       metrics = [accuracy, RocAucBinary()])"
   ]
  },
  {
   "cell_type": "code",
   "execution_count": null,
   "metadata": {},
   "outputs": [],
   "source": [
    "learn.lr_find()"
   ]
  }
 ],
 "metadata": {
  "kernelspec": {
   "display_name": "Python 3 (fastai v2)",
   "language": "python",
   "name": "fastai-v2"
  }
 },
 "nbformat": 4,
 "nbformat_minor": 4
}
