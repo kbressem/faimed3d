{
 "cells": [
  {
   "cell_type": "markdown",
   "metadata": {},
   "source": [
    "# 3D AlexNet\n"
   ]
  },
  {
   "cell_type": "code",
   "execution_count": null,
   "metadata": {},
   "outputs": [],
   "source": [
    "# hide\n",
    "import sys\n",
    "sys.path.append(\"..\")\n",
    "from nbdev.showdoc import *"
   ]
  },
  {
   "cell_type": "code",
   "execution_count": null,
   "metadata": {},
   "outputs": [],
   "source": [
    "# default_exp models.alexnet\n",
    "# export\n",
    "import torch\n",
    "from torch import nn"
   ]
  },
  {
   "cell_type": "code",
   "execution_count": null,
   "metadata": {},
   "outputs": [],
   "source": [
    "# export\n",
    "class AlexNet3D(nn.Module):\n",
    "\n",
    "    def __init__(self, in_channels=3, num_classes=3):\n",
    "        super(AlexNet3D, self).__init__()\n",
    "\n",
    "        self.layer1 = self.block(in_channels, 64, kernel_size=11, stride=(1,4,4), padding=2, pool = True)\n",
    "        self.layer2 = self.block(64, 192, kernel_size=5, stride=1, padding=2, pool = True)\n",
    "        self.layer3 = self.block(192, 384, kernel_size=3, stride=1, padding=1)\n",
    "        self.layer4 = self.block(384, 256, kernel_size=3, stride=1, padding=1)\n",
    "        self.layer5 = self.block(256, 256, kernel_size=3, stride=1, padding=1, pool = True)\n",
    "\n",
    "        self.avgpool = nn.AdaptiveAvgPool3d((1,6,6))\n",
    "        self.classifier = nn.Sequential(\n",
    "            nn.Dropout(),\n",
    "            nn.Linear(256 * 6 * 6, 4096),\n",
    "            nn.ReLU(inplace=True),\n",
    "            nn.Dropout(),\n",
    "            nn.Linear(4096, 4096),\n",
    "            nn.ReLU(inplace=True),\n",
    "            nn.Linear(4096, num_classes),\n",
    "        )\n",
    "\n",
    "\n",
    "    def block(self, in_channels, out_channels, kernel_size, stride, padding, pool = False):\n",
    "        block = nn.Sequential(nn.Conv3d(in_channels, out_channels, kernel_size, stride, padding),\n",
    "                              nn.ReLU(inplace=True))\n",
    "        return block if not pool else nn.Sequential(block, nn.MaxPool3d(kernel_size=3, stride=(1,2,2)))\n",
    "\n",
    "    def encoder(self, x):\n",
    "        x1 = self.layer1(x)\n",
    "        x2 = self.layer2(x1)\n",
    "        x3 = self.layer3(x2)\n",
    "        x4 = self.layer4(x3)\n",
    "        x5 = self.layer5(x4)\n",
    "        return x1, x2, x3, x4, x5\n",
    "\n",
    "    def forward(self, x):\n",
    "        _, _, _, _, x = self.encoder(x)\n",
    "        x = self.avgpool(x)\n",
    "        x = torch.flatten(x, 1)\n",
    "        x = self.classifier(x)\n",
    "        return x"
   ]
  },
  {
   "cell_type": "code",
   "execution_count": null,
   "metadata": {},
   "outputs": [
    {
     "data": {
      "text/plain": [
       "torch.Size([10, 3])"
      ]
     },
     "execution_count": null,
     "metadata": {},
     "output_type": "execute_result"
    }
   ],
   "source": [
    "AlexNet3D()(torch.randn(10, 3, 15, 90, 90)).size()"
   ]
  },
  {
   "cell_type": "code",
   "execution_count": null,
   "metadata": {},
   "outputs": [
    {
     "name": "stdout",
     "output_type": "stream",
     "text": [
      "Converted 01_basics.ipynb.\n",
      "Converted 02_preprocessing.ipynb.\n",
      "Converted 03_transforms.ipynb.\n",
      "Converted 04_dataloaders.ipynb.\n",
      "Converted 05_layers.ipynb.\n",
      "Converted 06_learner.ipynb.\n",
      "Converted 06a_models.alexnet.ipynb.\n",
      "Converted 06b_models.resnet.ipynb.\n",
      "Converted 06d_models.unet.ipynb.\n",
      "Converted 06f_models.losses.ipynb.\n",
      "Converted 07_callback.ipynb.\n",
      "Converted index.ipynb.\n"
     ]
    }
   ],
   "source": [
    "# hide\n",
    "from nbdev.export import *\n",
    "notebook2script()"
   ]
  },
  {
   "cell_type": "code",
   "execution_count": null,
   "metadata": {},
   "outputs": [],
   "source": []
  }
 ],
 "metadata": {
  "kernelspec": {
   "display_name": "fastai",
   "language": "python",
   "name": "fastai"
  }
 },
 "nbformat": 4,
 "nbformat_minor": 4
}
