{
 "cells": [
  {
   "cell_type": "markdown",
   "metadata": {},
   "source": [
    "# Training a 3D CNN"
   ]
  },
  {
   "cell_type": "code",
   "execution_count": 1,
   "metadata": {},
   "outputs": [],
   "source": [
    "import re\n",
    "import pathlib\n",
    "import torchvision\n",
    "\n",
    "from fastai.basics import *\n",
    "from fastai.medical.imaging import *\n",
    "from fastai.vision.all import *\n",
    "from fastai.callback.all import *\n",
    "import fastai\n",
    "\n",
    "from faimed3d.basics import *\n",
    "from faimed3d.augment import *\n",
    "from faimed3d.models import *\n",
    "from faimed3d.data import *"
   ]
  },
  {
   "cell_type": "code",
   "execution_count": 2,
   "metadata": {},
   "outputs": [],
   "source": [
    "torch.cuda.set_device(1)"
   ]
  },
  {
   "cell_type": "markdown",
   "metadata": {},
   "source": [
    "## Create Pytorch Dataloaders"
   ]
  },
  {
   "cell_type": "code",
   "execution_count": 3,
   "metadata": {},
   "outputs": [],
   "source": [
    "train = pathlib.Path('../../dl-prostate-mapping/data/train')\n",
    "valid = pathlib.Path('../../dl-prostate-mapping/data/valid')\n",
    "test = pathlib.Path('../../dl-prostate-mapping/data/test')\n",
    "\n",
    "train_files = list(train.rglob('DICOM')) + list(train.rglob('T2W'))\n",
    "valid_files = list(valid.rglob('DICOM'))\n",
    "test_files = list(test.rglob('DICOM'))\n",
    "\n",
    "# take only T2 and T1 images for noe\n",
    "subset_train =[]\n",
    "for f in train_files: \n",
    "    m = re.search(r'T2', str(f)) \n",
    "    if hasattr(m, 'string'): subset_train.append(Path(m.string))\n",
    "        \n",
    "subset_valid =[]\n",
    "for f in valid_files: \n",
    "    m = re.search(r'T2', str(f)) \n",
    "    if hasattr(m, 'string'): subset_valid.append(Path(m.string))\n",
    "        \n",
    "subset_test = []\n",
    "for f in test_files: \n",
    "    m = re.search(r'T2', str(f)) \n",
    "    if hasattr(m, 'string'): subset_test.append(Path(m.string))\n",
    "        \n",
    "        \n",
    "def label_func(fn):\n",
    "    return re.findall(r'(Gesund|ProstataCa)', str(fn))[0]\n",
    "labels = ['Gesund', 'ProstataCa']"
   ]
  },
  {
   "cell_type": "code",
   "execution_count": 4,
   "metadata": {},
   "outputs": [],
   "source": [
    "gesund, krank = [], []\n",
    "for f in subset_train: \n",
    "    m = re.search(r'Gesund', str(f)) \n",
    "    if hasattr(m, 'string'): \n",
    "        gesund.append(f)\n",
    "    else: \n",
    "        krank.append(f)\n"
   ]
  },
  {
   "cell_type": "code",
   "execution_count": 6,
   "metadata": {},
   "outputs": [
    {
     "data": {
      "text/plain": [
       "(91, 41)"
      ]
     },
     "execution_count": 6,
     "metadata": {},
     "output_type": "execute_result"
    }
   ],
   "source": [
    "len(krank),len(gesund)"
   ]
  },
  {
   "cell_type": "code",
   "execution_count": 5,
   "metadata": {},
   "outputs": [],
   "source": [
    "oversampled_train = random.choices(gesund, k = len(krank)-len(gesund))+krank+subset_valid\n",
    "random.shuffle(oversampled_train)"
   ]
  },
  {
   "cell_type": "code",
   "execution_count": 6,
   "metadata": {},
   "outputs": [],
   "source": [
    "labels = ['Gesund', 'ProstataCa']\n",
    "def label_func(fn): return re.findall(r'(Gesund|ProstataCa)', str(fn))[0]"
   ]
  },
  {
   "cell_type": "code",
   "execution_count": 7,
   "metadata": {},
   "outputs": [],
   "source": [
    "class ProstateDataset(torch.utils.data.Dataset):\n",
    "    def __init__(self, files):\n",
    "        self.files = files\n",
    "        self.labels = [label_func(f) for f in files]\n",
    "        self.tcat = Categorize(vocab=labels)\n",
    "        self.c = len(labels)\n",
    "\n",
    "    def set_tfms(self, tfms):\n",
    "        self.tfms = tfms\n",
    "    \n",
    "    def load_3d_obj(self, fn=TensorDicom3D):\n",
    "        t = TensorDicom3D.create(fn)\n",
    "        return t.hist_scaled()\n",
    "    \n",
    "    def presize(self, t: TensorDicom3D):\n",
    "        return ResizeCrop3D(crop_by = (0., 0.15, 0.15), \n",
    "                            resize_to = (20, 150, 150), \n",
    "                            perc_crop = True)(t)\n",
    "    \n",
    "    def apply_tfms(self, t: TensorDicom3D):\n",
    "        return Pipeline([*self.tfms, \n",
    "                         RandomCrop3D((0, 15, 15), (0, 10, 10)), \n",
    "                         PseudoColor])(t)\n",
    "        \n",
    "    def __getitem__(self, i):\n",
    "        file = self.load_3d_obj(self.files[i])\n",
    "        cls = self.tcat(self.labels[i])\n",
    "        file = self.presize(file)\n",
    "        file = self.apply_tfms(file)\n",
    "        return (file, torch.Tensor([cls]).squeeze())\n",
    "    \n",
    "    def __len__(self): return len(self.files)\n",
    "    \n",
    "train_ds = ProstateDataset(oversampled_train) \n",
    "train_ds.set_tfms(aug_transforms_3d(p_all =.15))\n",
    "\n",
    "valid_ds = ProstateDataset(subset_valid)\n",
    "valid_ds.set_tfms([])\n",
    "test_ds = ProstateDataset(subset_test)"
   ]
  },
  {
   "cell_type": "code",
   "execution_count": 8,
   "metadata": {},
   "outputs": [],
   "source": [
    "train_dl = DataLoader(train_ds, \n",
    "          batch_size = 24, \n",
    "          pin_memory = False, \n",
    "                     )\n",
    "valid_dl = DataLoader(valid_ds, \n",
    "          batch_size = 24, \n",
    "          pin_memory = False, \n",
    "                     )\n",
    "test_dl = DataLoader(test_ds, \n",
    "          batch_size = 24, \n",
    "          pin_memory = False, \n",
    "                    )\n",
    "\n",
    "dls = DataLoaders(train_dl, valid_dl)\n",
    "dls = dls.cuda()"
   ]
  },
  {
   "cell_type": "code",
   "execution_count": 9,
   "metadata": {},
   "outputs": [],
   "source": [
    "def loss_func(out, targ):\n",
    "    return CrossEntropyLossFlat()(out, targ.long())"
   ]
  },
  {
   "cell_type": "code",
   "execution_count": 10,
   "metadata": {},
   "outputs": [],
   "source": [
    "from sklearn.metrics import roc_auc_score\n",
    "roc = RocAuc()\n",
    "\n",
    "def roc_auc_score_(\n",
    "    y_true,\n",
    "    y_score,\n",
    "    *,\n",
    "    average='macro',\n",
    "    sample_weight=None,\n",
    "    max_fpr=None,\n",
    "    multi_class='raise',\n",
    "    labels=None,\n",
    "):\n",
    "    y_score = y_score[:,1]\n",
    "    return roc_auc_score(y_true=y_true, \n",
    "                  y_score=y_score,\n",
    "                  average=average,\n",
    "                  sample_weight=sample_weight,\n",
    "                  max_fpr=max_fpr,\n",
    "                  multi_class=multi_class,\n",
    "                  labels=labels,)\n",
    "\n",
    "\n",
    "roc.func = roc_auc_score_"
   ]
  },
  {
   "cell_type": "code",
   "execution_count": 13,
   "metadata": {},
   "outputs": [],
   "source": [
    "learn = Learner(dls, \n",
    "                resnet_3d(n_classes = dls.c),\n",
    "                opt_func = SGD, \n",
    "                loss_func = loss_func, \n",
    "                metrics = [error_rate, roc],\n",
    "                model_dir = '../models/'\n",
    "               )\n",
    "learn = learn.to_fp16()\n",
    "learn.unfreeze()"
   ]
  },
  {
   "cell_type": "code",
   "execution_count": 14,
   "metadata": {},
   "outputs": [
    {
     "data": {
      "text/html": [
       "<table border=\"1\" class=\"dataframe\">\n",
       "  <thead>\n",
       "    <tr style=\"text-align: left;\">\n",
       "      <th>epoch</th>\n",
       "      <th>train_loss</th>\n",
       "      <th>valid_loss</th>\n",
       "      <th>error_rate</th>\n",
       "      <th>roc_auc_score_</th>\n",
       "      <th>time</th>\n",
       "    </tr>\n",
       "  </thead>\n",
       "  <tbody>\n",
       "    <tr>\n",
       "      <td>0</td>\n",
       "      <td>0.691292</td>\n",
       "      <td>0.693158</td>\n",
       "      <td>0.500000</td>\n",
       "      <td>0.450000</td>\n",
       "      <td>02:02</td>\n",
       "    </tr>\n",
       "  </tbody>\n",
       "</table>"
      ],
      "text/plain": [
       "<IPython.core.display.HTML object>"
      ]
     },
     "metadata": {},
     "output_type": "display_data"
    },
    {
     "data": {
      "text/html": [],
      "text/plain": [
       "<IPython.core.display.HTML object>"
      ]
     },
     "metadata": {},
     "output_type": "display_data"
    },
    {
     "data": {
      "image/png": "[encoded data removed]",
      "text/plain": [
       "<Figure size 432x288 with 1 Axes>"
      ]
     },
     "metadata": {
      "needs_background": "light"
     },
     "output_type": "display_data"
    }
   ],
   "source": [
    "learn.fit_one_cycle(n_epoch = 1, lr_max = 0.05)\n",
    "\n",
    "preds_1, target_1 = learn.get_preds()\n",
    "from sklearn.metrics import roc_curve, auc\n",
    "\n",
    "ns_fpr, ns_tpr, _ = roc_curve(target_1.numpy(), preds_1[:, 1])\n",
    "learn.save('custom-resnet') # \n",
    "\n",
    "plt.plot(ns_fpr, ns_tpr, linestyle='--', label='ROC Curve')\n",
    "plt.xlabel('False Positive Rate')\n",
    "plt.ylabel('True Positive Rate')\n",
    "plt.annotate('AUC: '+ str(auc(ns_fpr, ns_tpr)), (0.75, 0.05))\n",
    "plt.legend()\n",
    "plt.show()"
   ]
  },
  {
   "cell_type": "code",
   "execution_count": null,
   "metadata": {},
   "outputs": [],
   "source": []
  }
 ],
 "metadata": {
  "kernelspec": {
   "display_name": "Python 3 (fastai v2)",
   "language": "python",
   "name": "fastai-v2"
  },
  "language_info": {
   "codemirror_mode": {
    "name": "ipython",
    "version": 3
   },
   "file_extension": ".py",
   "mimetype": "text/x-python",
   "name": "python",
   "nbconvert_exporter": "python",
   "pygments_lexer": "ipython3",
   "version": "3.7.9"
  }
 },
 "nbformat": 4,
 "nbformat_minor": 4
}
