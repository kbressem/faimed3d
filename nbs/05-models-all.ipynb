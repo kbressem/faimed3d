{
 "cells": [
  {
   "cell_type": "code",
   "execution_count": null,
   "metadata": {},
   "outputs": [],
   "source": [
    "# hide\n",
    "import sys\n",
    "sys.path.append(\"..\")"
   ]
  },
  {
   "cell_type": "code",
   "execution_count": null,
   "metadata": {},
   "outputs": [],
   "source": [
    "# default_exp models.all\n",
    "# export \n",
    "from fastai.basics import *"
   ]
  },
  {
   "cell_type": "code",
   "execution_count": null,
   "metadata": {},
   "outputs": [],
   "source": [
    "# export\n",
    "from faimed3d.models.losses import *\n",
    "from faimed3d.models.unet import *\n",
    "from faimed3d.models.modules import *"
   ]
  },
  {
   "cell_type": "code",
   "execution_count": null,
   "metadata": {},
   "outputs": [
    {
     "name": "stdout",
     "output_type": "stream",
     "text": [
      "Converted 01-basics.ipynb.\n",
      "Converted 02-transforms.ipynb.\n",
      "Converted 03-datablock.ipynb.\n",
      "Converted 04-datasets.ipynb.\n",
      "Converted 05-models-all.ipynb.\n",
      "Converted 05a-models-modules.ipynb.\n",
      "Converted 05b-models-unet.ipynb.\n",
      "Converted 05c-models-losses.ipynb.\n",
      "Converted 06-callbacks.ipynb.\n",
      "Converted 06-various-tools.ipynb.\n"
     ]
    }
   ],
   "source": [
    "# hide\n",
    "from nbdev.export import *\n",
    "notebook2script()"
   ]
  },
  {
   "cell_type": "code",
   "execution_count": null,
   "metadata": {},
   "outputs": [],
   "source": [
    "import fastai"
   ]
  },
  {
   "cell_type": "code",
   "execution_count": null,
   "metadata": {},
   "outputs": [
    {
     "data": {
      "text/plain": [
       "\u001b[0;31mType:\u001b[0m        module\n",
       "\u001b[0;31mString form:\u001b[0m <module 'fastai' from '/home/bressekk/anaconda3/envs/fastai-v2/lib/python3.7/site-packages/fastai/__init__.py'>\n",
       "\u001b[0;31mFile:\u001b[0m        ~/anaconda3/envs/fastai-v2/lib/python3.7/site-packages/fastai/__init__.py\n",
       "\u001b[0;31mSource:\u001b[0m      \u001b[0m__version__\u001b[0m \u001b[0;34m=\u001b[0m \u001b[0;34m\"2.0.15\"\u001b[0m\u001b[0;34m\u001b[0m\u001b[0;34m\u001b[0m\u001b[0m\n"
      ]
     },
     "metadata": {},
     "output_type": "display_data"
    }
   ],
   "source": [
    "fastai."
   ]
  },
  {
   "cell_type": "code",
   "execution_count": null,
   "metadata": {},
   "outputs": [],
   "source": []
  }
 ],
 "metadata": {
  "kernelspec": {
   "display_name": "Python 3 (fastai v2)",
   "language": "python",
   "name": "fastai-v2"
  }
 },
 "nbformat": 4,
 "nbformat_minor": 4
}
