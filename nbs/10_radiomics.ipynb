{
 "cells": [
  {
   "cell_type": "code",
   "execution_count": null,
   "metadata": {},
   "outputs": [],
   "source": [
    "# hide\n",
    "import sys\n",
    "sys.path.append(\"..\")"
   ]
  },
  {
   "cell_type": "markdown",
   "metadata": {},
   "source": [
    "# Fast radiomics\n",
    "Implementing a Radiomics workflow into fastai.\n",
    "\n",
    "## Conventional Radiomics Workflow\n",
    "Radiomics is a method where qunatitative features are extracted from medical images, which have the potential to allow conclusions to disease characterics not appreciated by a human observer.\n",
    "A typical radiomics workflow usually consits out of several steps.\n",
    "\n",
    "### 1. Image segmentation\n",
    "Especially for radiomics analysis for cancer, the area of interest is maually segmented before the anlysis. An example is given below, where a T2w MRI sequence of the prostate has been segmented for the two different zones.\n",
    "![pixelwise prostate segmentation](../img/prostate_segmentation.PNG)\n",
    "\n",
    "### 2. Feature extraction\n",
    "In a second step quantitative imaging features are extracted for each labeled region and usually stored in a table. \n",
    "\n",
    "### 3. Feature cleaning\n",
    "Features are analyzed and highly correlationg features are usually excluded to reduce dimensionality of the data and redundancy of the features. \n",
    "\n",
    "### 4. Classification\n",
    "Using the extracted features several machine learning models can be trained. \n",
    "\n",
    "## Challenges in Radiomics\n",
    "Radiomics models are difficult to train and suffer from low generalizability on new data. The first challenge is accurate feature cleaning. Selecting the final features on the whole data, including the test dataset, likely leads to overfitting of the models. Instead features should only be extracted in the training dataset alone not on the validation or the test dataset. Also, there is a lack of augmentation strategies. Depending on the device used to aquire the medical image, imaging parameters (radiation dose, field strength, distance to device), reconstruction parameters and vendor specific post processig algorithms may differ and influene the pixel values. Using the conventional radiomics approach, this cannot be easily corrected for. \n",
    "\n",
    "## Proposed solution\n",
    "Impleneting feature extraction into a fastai callback could help slove the above mentioned issues, as before each training epoch images can be normalized and augmented and even feature selection can be repeated mutliple times. Leading to am overall more robust approach."
   ]
  },
  {
   "cell_type": "code",
   "execution_count": null,
   "metadata": {},
   "outputs": [
    {
     "ename": "ModuleNotFoundError",
     "evalue": "No module named 'radiomics'",
     "output_type": "error",
     "traceback": [
      "\u001b[0;31m---------------------------------------------------------------------------\u001b[0m",
      "\u001b[0;31mModuleNotFoundError\u001b[0m                       Traceback (most recent call last)",
      "\u001b[0;32m<ipython-input-16-6ad30f81d2ec>\u001b[0m in \u001b[0;36m<module>\u001b[0;34m\u001b[0m\n\u001b[0;32m----> 1\u001b[0;31m \u001b[0;32mimport\u001b[0m \u001b[0mradiomics\u001b[0m \u001b[0;32mas\u001b[0m \u001b[0mradiomics\u001b[0m\u001b[0;34m\u001b[0m\u001b[0;34m\u001b[0m\u001b[0m\n\u001b[0m",
      "\u001b[0;31mModuleNotFoundError\u001b[0m: No module named 'radiomics'"
     ]
    }
   ],
   "source": [
    "import pyradiomics as radiomics"
   ]
  },
  {
   "cell_type": "code",
   "execution_count": null,
   "metadata": {},
   "outputs": [
    {
     "name": "stdout",
     "output_type": "stream",
     "text": [
      "Converted 01_basics.ipynb.\n",
      "Converted 02_transforms.ipynb.\n",
      "Converted 03_datablock.ipynb.\n",
      "Converted 04_datasets.ipynb.\n",
      "Converted 05a_models.modules.ipynb.\n",
      "Converted 05b_models.cnn.ipynb.\n",
      "Converted 05c_models.unet.ipynb.\n",
      "Converted 05d_models.losses.ipynb.\n",
      "Converted 06_callback.ipynb.\n",
      "Converted 99_tools.ipynb.\n",
      "Converted index.ipynb.\n"
     ]
    }
   ],
   "source": [
    "# hide\n",
    "from nbdev.export import *\n",
    "notebook2script()"
   ]
  },
  {
   "cell_type": "code",
   "execution_count": null,
   "metadata": {},
   "outputs": [],
   "source": []
  }
 ],
 "metadata": {
  "kernelspec": {
   "display_name": "Python 3 (fastai v2)",
   "language": "python",
   "name": "fastai-v2"
  }
 },
 "nbformat": 4,
 "nbformat_minor": 4
}
