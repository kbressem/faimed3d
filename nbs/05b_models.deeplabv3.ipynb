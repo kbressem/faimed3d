{
 "cells": [
  {
   "cell_type": "markdown",
   "metadata": {},
   "source": [
    "# 3D DeepLabV3+\n"
   ]
  },
  {
   "cell_type": "code",
   "execution_count": null,
   "metadata": {},
   "outputs": [],
   "source": [
    "# hide\n",
    "import sys\n",
    "sys.path.append(\"..\")\n",
    "from nbdev.showdoc import *"
   ]
  },
  {
   "cell_type": "code",
   "execution_count": null,
   "metadata": {},
   "outputs": [],
   "source": [
    "# default_exp models.deeplabv3\n",
    "# export \n",
    "from fastai.basics import *\n",
    "from fastai.layers import *\n",
    "from warnings import warn\n",
    "from faimed3d.models.modules import Sequential_\n",
    "from faimed3d.models.resnet import *"
   ]
  },
  {
   "cell_type": "markdown",
   "metadata": {},
   "source": [
    "## DeepLabV3+\n",
    "\n",
    "Implementation of DeepLabV3+ for 3D. \n",
    "Credit to https://github.com/giovanniguidi/deeplabV3-PyTorch for providing the code for a 2D implementation of the model. \n",
    "Code is not optimized, as maybe synchronized Batchnorm will be implemented in the future, so some fragments of the original 2D code still remain. "
   ]
  },
  {
   "cell_type": "markdown",
   "metadata": {},
   "source": [
    "### ASPP\n",
    "\n",
    "could be usefull to also implement (synchronized BatchNorm)[https://github.com/vacancy/Synchronized-BatchNorm-PyTorch] as the batchsize gets very small in training 3D models  "
   ]
  },
  {
   "cell_type": "raw",
   "metadata": {},
   "source": [
    "# export\n",
    "\n",
    "class ASPPModule(nn.Module):\n",
    "    def __init__(self, inplanes, planes, kernel_size, padding, dilation, norm_layer):\n",
    "        super(ASPPModule, self).__init__()\n",
    "        self.atrous_conv = nn.Conv3d(inplanes, planes, kernel_size=kernel_size,\n",
    "                                            stride=1, padding=padding, dilation=dilation, bias=False)\n",
    "        self.bn = norm_layer(planes)\n",
    "        self.relu = nn.ReLU()\n",
    "\n",
    "        self._init_weight()\n",
    "\n",
    "    def forward(self, x):\n",
    "        x = self.atrous_conv(x)\n",
    "        x = self.bn(x)\n",
    "\n",
    "        return self.relu(x)\n",
    "\n",
    "    def _init_weight(self):\n",
    "        for m in self.modules():\n",
    "            if isinstance(m, nn.Conv3d):\n",
    "                torch.nn.init.kaiming_normal_(m.weight)\n",
    "            elif isinstance(m, nn.BatchNorm3d):\n",
    "                m.weight.data.fill_(1)\n",
    "                m.bias.data.zero_()\n",
    "            #   elif isinstance(m, SynchronizedBatchNorm3d):\n",
    "            #   m.weight.data.fill_(1)\n",
    "            #   m.bias.data.zero_()\n",
    "  \n",
    "\n",
    "class ASPP(nn.Module):\n",
    "    def __init__(self, inplanes, output_stride, dilations = [1, 12, 24, 36], norm_layer=nn.BatchNorm3d, out_size=256):\n",
    "        super(ASPP, self).__init__()\n",
    "\n",
    "        if output_stride == 16:\n",
    "            dilations = [1, 6, 12, 18]\n",
    "        elif output_stride == 8:\n",
    "            dilations = [1, 12, 24, 36]\n",
    "        else:\n",
    "            raise NotImplementedError\n",
    "\n",
    "        self.aspp1 = ASPPModule(inplanes, 256, 1, padding=0, dilation=dilations[0], norm_layer=norm_layer)\n",
    "        self.aspp2 = ASPPModule(inplanes, 256, 3, padding=dilations[1], dilation=dilations[1], norm_layer=norm_layer)\n",
    "        self.aspp3 = ASPPModule(inplanes, 256, 3, padding=dilations[2], dilation=dilations[2], norm_layer=norm_layer)\n",
    "        self.aspp4 = ASPPModule(inplanes, 256, 3, padding=dilations[3], dilation=dilations[3], norm_layer=norm_layer)\n",
    "\n",
    "        self.global_avg_pool = nn.Sequential(nn.AdaptiveAvgPool3d((1, 1, 1)),\n",
    "                                             nn.Conv3d(inplanes, 256, 1, stride=1, bias=False),\n",
    "                                             norm_layer(256),\n",
    "                                             nn.ReLU())\n",
    "        self.conv1 = nn.Conv3d(1280, out_size, 1, bias=False)\n",
    "        self.bn1 = norm_layer(out_size)\n",
    "        self.relu = nn.ReLU()\n",
    "        self.dropout = nn.Dropout(0.5)\n",
    "        self._init_weight()\n",
    "\n",
    "    def forward(self, x):\n",
    "        x1 = self.aspp1(x)\n",
    "        x2 = self.aspp2(x)\n",
    "        x3 = self.aspp3(x)\n",
    "        x4 = self.aspp4(x)\n",
    "        x5 = self.global_avg_pool(x)\n",
    "        x5 = F.interpolate(x5, size=x4.size()[2:], mode='trilinear', align_corners=True)\n",
    "        x = torch.cat((x1, x2, x3, x4, x5), dim=1)\n",
    "\n",
    "        x = self.conv1(x)\n",
    "        x = self.bn1(x)\n",
    "        x = self.relu(x)\n",
    "\n",
    "        return self.dropout(x)\n",
    "\n",
    "    def _init_weight(self):\n",
    "        for m in self.modules():\n",
    "            if isinstance(m, nn.Conv3d):\n",
    "                torch.nn.init.kaiming_normal_(m.weight)\n",
    "            elif isinstance(m, nn.BatchNorm3d):\n",
    "                m.weight.data.fill_(1)\n",
    "                m.bias.data.zero_()\n",
    "            elif isinstance(m, nn.InstanceNorm3d):\n",
    "                m.weight.data.fill_(1)\n",
    "                m.bias.data.zero_()\n",
    "    #        elif isinstance(m, SynchronizedBatchNorm3d):\n",
    "    #            m.weight.data.fill_(1)\n",
    "    #            m.bias.data.zero_()\n",
    "\n",
    "\n",
    "def build_aspp(inplanes, output_stride, norm_layer, out_size=256):\n",
    "    return ASPP(inplanes, output_stride, norm_layer, out_size)"
   ]
  },
  {
   "cell_type": "code",
   "execution_count": null,
   "metadata": {},
   "outputs": [],
   "source": [
    "class ASPPConv(nn.Sequential):\n",
    "    def __init__(self, in_channels, out_channels, dilation, norm_layer):\n",
    "        modules = [\n",
    "            nn.Conv3d(in_channels, out_channels, 3, padding=dilation, dilation=dilation, bias=False),\n",
    "            norm_layer(out_channels),\n",
    "            nn.ReLU()\n",
    "        ]\n",
    "        super(ASPPConv, self).__init__(*modules)\n",
    "\n",
    "\n",
    "class ASPPPooling(nn.Sequential):\n",
    "    def __init__(self, in_channels, out_channels, norm_layer):\n",
    "        super(ASPPPooling, self).__init__(\n",
    "            nn.AdaptiveAvgPool3d(1),\n",
    "            nn.Conv3d(in_channels, out_channels, 1, bias=False),\n",
    "            norm_layer(out_channels),\n",
    "            nn.ReLU())\n",
    "\n",
    "    def forward(self, x):\n",
    "        size = x.shape[-3:]\n",
    "        for mod in self:\n",
    "            x = mod(x)\n",
    "        return F.interpolate(x, size=size, mode='trilinear', align_corners=False)\n",
    "\n",
    "\n",
    "class ASPP(nn.Module):\n",
    "    def __init__(self, in_channels, dilations, out_channels=256, norm_layer=nn.BatchNorm3d):\n",
    "        super(ASPP, self).__init__()\n",
    "        modules = []\n",
    "        modules.append(nn.Sequential(\n",
    "            nn.Conv3d(in_channels, out_channels, 1, bias=False),\n",
    "            norm_layer(out_channels),\n",
    "            nn.ReLU()))\n",
    "\n",
    "        dilations = tuple(dilations)\n",
    "        for dilation in dilations:\n",
    "            modules.append(ASPPConv(in_channels, out_channels, dilation, norm_layer))\n",
    "\n",
    "        modules.append(ASPPPooling(in_channels, out_channels, norm_layer))\n",
    "\n",
    "        self.convs = nn.ModuleList(modules)\n",
    "\n",
    "        self.project = nn.Sequential(\n",
    "            nn.Conv3d(len(self.convs) * out_channels, out_channels, 1, bias=False),\n",
    "            norm_layer(out_channels),\n",
    "            nn.ReLU(),\n",
    "            nn.Dropout(0.5))\n",
    "\n",
    "    def forward(self, x):\n",
    "        res = []\n",
    "        for conv in self.convs:\n",
    "            res.append(conv(x))\n",
    "        res = torch.cat(res, dim=1)\n",
    "        return self.project(res)"
   ]
  },
  {
   "cell_type": "code",
   "execution_count": null,
   "metadata": {},
   "outputs": [
    {
     "data": {
      "text/plain": [
       "torch.Size([10, 256, 1, 3, 3])"
      ]
     },
     "execution_count": null,
     "metadata": {},
     "output_type": "execute_result"
    }
   ],
   "source": [
    "ASPP(in_channels=2048, dilations=[1, 6, 12, 18], out_channels=256, norm_layer=nn.BatchNorm3d)(torch.randn(10, 2048, 1, 3, 3)).size()"
   ]
  },
  {
   "cell_type": "code",
   "execution_count": null,
   "metadata": {},
   "outputs": [
    {
     "data": {
      "text/plain": [
       "torch.Size([10, 512, 1, 3, 3])"
      ]
     },
     "execution_count": null,
     "metadata": {},
     "output_type": "execute_result"
    }
   ],
   "source": [
    "ASPP(in_channels=2048, dilations=[1, 12, 24, 36], out_channels=512, norm_layer=nn.BatchNorm3d)(torch.randn(10, 2048, 1, 3, 3)).size()"
   ]
  },
  {
   "cell_type": "code",
   "execution_count": null,
   "metadata": {},
   "outputs": [],
   "source": [
    "# export\n",
    "class Decoder(nn.Module):\n",
    "    def __init__(self, num_classes, low_level_inplanes, norm_layer=nn.BatchNorm3d):\n",
    "        super(Decoder, self).__init__()\n",
    "\n",
    "\n",
    "        self.conv1 = nn.Conv3d(low_level_inplanes, 48, 1, bias=False)\n",
    "        self.bn1 = norm_layer(48)\n",
    "        self.relu = nn.ReLU()\n",
    "        self.last_conv = nn.Sequential(nn.Conv3d(304, 256, kernel_size=3, stride=1, padding=1, bias=False),\n",
    "                                       norm_layer(256),\n",
    "                                       nn.ReLU(),\n",
    "                                       nn.Dropout(0.5),\n",
    "                                       nn.Conv3d(256, 256, kernel_size=3, stride=1, padding=1, bias=False),\n",
    "                                       norm_layer(256),\n",
    "                                       nn.ReLU(),\n",
    "                                       nn.Dropout(0.1),\n",
    "                                       nn.Conv3d(256, num_classes, kernel_size=1, stride=1))\n",
    "        self._init_weight()\n",
    "\n",
    "\n",
    "    def forward(self, x, low_level_feat):\n",
    "        low_level_feat = self.conv1(low_level_feat)\n",
    "        low_level_feat = self.bn1(low_level_feat)\n",
    "        low_level_feat = self.relu(low_level_feat)\n",
    "\n",
    "        x = F.interpolate(x, size=low_level_feat.size()[2:], mode='trilinear', align_corners=True)\n",
    "        x = torch.cat((x, low_level_feat), dim=1)\n",
    "        x = self.last_conv(x)\n",
    "\n",
    "        return x\n",
    "\n",
    "    def _init_weight(self):\n",
    "        for m in self.modules():\n",
    "            if isinstance(m, nn.Conv3d):\n",
    "                torch.nn.init.kaiming_normal_(m.weight)\n",
    "     #       elif isinstance(m, SynchronizedBatchNorm2d):\n",
    "     #           m.weight.data.fill_(1)\n",
    "     #           m.bias.data.zero_()\n",
    "            elif isinstance(m, nn.BatchNorm3d):\n",
    "                m.weight.data.fill_(1)\n",
    "                m.bias.data.zero_()"
   ]
  },
  {
   "cell_type": "code",
   "execution_count": null,
   "metadata": {},
   "outputs": [
    {
     "data": {
      "text/plain": [
       "Decoder(\n",
       "  (conv1): Conv3d(256, 48, kernel_size=(1, 1, 1), stride=(1, 1, 1), bias=False)\n",
       "  (bn1): BatchNorm3d(48, eps=1e-05, momentum=0.1, affine=True, track_running_stats=True)\n",
       "  (relu): ReLU()\n",
       "  (last_conv): Sequential(\n",
       "    (0): Conv3d(304, 256, kernel_size=(3, 3, 3), stride=(1, 1, 1), padding=(1, 1, 1), bias=False)\n",
       "    (1): BatchNorm3d(256, eps=1e-05, momentum=0.1, affine=True, track_running_stats=True)\n",
       "    (2): ReLU()\n",
       "    (3): Dropout(p=0.5, inplace=False)\n",
       "    (4): Conv3d(256, 256, kernel_size=(3, 3, 3), stride=(1, 1, 1), padding=(1, 1, 1), bias=False)\n",
       "    (5): BatchNorm3d(256, eps=1e-05, momentum=0.1, affine=True, track_running_stats=True)\n",
       "    (6): ReLU()\n",
       "    (7): Dropout(p=0.1, inplace=False)\n",
       "    (8): Conv3d(256, 4, kernel_size=(1, 1, 1), stride=(1, 1, 1))\n",
       "  )\n",
       ")"
      ]
     },
     "execution_count": null,
     "metadata": {},
     "output_type": "execute_result"
    }
   ],
   "source": [
    "build_decoder(4, 256, nn.BatchNorm3d)"
   ]
  },
  {
   "cell_type": "code",
   "execution_count": null,
   "metadata": {},
   "outputs": [],
   "source": [
    "# export\n",
    "class DeepLab(nn.Module):\n",
    "    def __init__(self, backbone=resnet101_3d, output_stride=16, num_classes=4, n_channels=3,\n",
    "                 norm_layer=nn.BatchNorm3d):\n",
    "        super(DeepLab, self).__init__()\n",
    " \n",
    "        self.backbone = build_backbone(resnet101_3d, output_stride, norm_layer, n_channels)\n",
    "        self.aspp = ASPP(in_channels=2048, dilations=[1, 12, 24, 36], out_channels=256, norm_layer=norm_layer)\n",
    "        self.decoder = Decoder(num_classes, 256, norm_layer)\n",
    "        self.act = nn.Softmax(dim = 1)\n",
    "\n",
    "    def forward(self, input):\n",
    "        _, low_level_feat, _, _, x = self.backbone(input)\n",
    "        x = self.aspp(x)\n",
    "        x = self.decoder(x, low_level_feat)\n",
    "        x = self.act(x)\n",
    "        x = F.interpolate(x, size=input.size()[2:], mode='trilinear', align_corners=True)\n",
    "\n",
    "        return x"
   ]
  },
  {
   "cell_type": "code",
   "execution_count": null,
   "metadata": {},
   "outputs": [
    {
     "name": "stdout",
     "output_type": "stream",
     "text": [
      "torch.Size([2, 4, 3, 30, 30])\n"
     ]
    }
   ],
   "source": [
    "model = DeepLab(n_channels=4, num_classes=4, norm_layer=IdentityLayer)\n",
    "input = torch.rand(2, 4, 3, 30, 30)\n",
    "output = model(input)\n",
    "print(output.size())"
   ]
  },
  {
   "cell_type": "code",
   "execution_count": null,
   "metadata": {},
   "outputs": [
    {
     "name": "stdout",
     "output_type": "stream",
     "text": [
      "Converted 01_basics.ipynb.\n",
      "Converted 02_transforms.ipynb.\n",
      "Converted 03_datablock.ipynb.\n",
      "Converted 04_datasets.ipynb.\n",
      "Converted 05a_models.modules.ipynb.\n",
      "Converted 05b_models.alexnet.ipynb.\n",
      "Converted 05b_models.deeplabv3.ipynb.\n",
      "Converted 05b_models.densenet.ipynb.\n",
      "Converted 05b_models.resnet.ipynb.\n",
      "Converted 05c_models.siamese.ipynb.\n",
      "Converted 05c_models.unet.ipynb.\n",
      "Converted 05d_models.losses.ipynb.\n",
      "Converted 06_callback.ipynb.\n",
      "Converted 99_tools.ipynb.\n",
      "Converted index.ipynb.\n"
     ]
    }
   ],
   "source": [
    "# hide\n",
    "from nbdev.export import *\n",
    "notebook2script()"
   ]
  },
  {
   "cell_type": "code",
   "execution_count": null,
   "metadata": {},
   "outputs": [],
   "source": []
  }
 ],
 "metadata": {
  "kernelspec": {
   "display_name": "Python 3 (fastai v2)",
   "language": "python",
   "name": "fastai-v2"
  }
 },
 "nbformat": 4,
 "nbformat_minor": 4
}
