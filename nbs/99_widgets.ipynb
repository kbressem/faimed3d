{
 "cells": [
  {
   "cell_type": "markdown",
   "metadata": {},
   "source": [
    "# Widgets"
   ]
  },
  {
   "cell_type": "code",
   "execution_count": null,
   "metadata": {},
   "outputs": [],
   "source": [
    "# hide\n",
    "import sys\n",
    "sys.path.append(\"..\")"
   ]
  },
  {
   "cell_type": "code",
   "execution_count": null,
   "metadata": {},
   "outputs": [],
   "source": [
    "# export\n",
    "# default_exp widgets\n",
    "from faimed3d.basics import *\n",
    "from faimed3d.data import *\n",
    "from faimed3d.augment import *\n",
    "from faimed3d.learner import *\n",
    "from fastai.basics import *"
   ]
  },
  {
   "cell_type": "code",
   "execution_count": null,
   "metadata": {},
   "outputs": [],
   "source": [
    "# export\n",
    "class HookActivation():\n",
    "    def __init__(self, target_layer):\n",
    "        \"Initialize a Pytorch hook using `hook_activation` function.\"\n",
    "        self.hook = target_layer.register_forward_hook(self.hook_activation) \n",
    "        \n",
    "    def hook_activation(self, target_layer, activ_in, activ_out): \n",
    "        \"Create a copy of the layer output activations and save in `self.stored`.\"\n",
    "        self.stored = activ_out.detach().clone()\n",
    "        \n",
    "    def __enter__(self, *args): \n",
    "        return self\n",
    "    \n",
    "    def __exit__(self, *args): \n",
    "        self.hook.remove()\n",
    "\n",
    "        \n",
    "class HookGradient():\n",
    "    def __init__(self, target_layer):\n",
    "        \"Initialize a Pytorch hook using `hook_gradient` function.\"\n",
    "        self.hook = target_layer.register_backward_hook(self.hook_gradient)   \n",
    "        \n",
    "    def hook_gradient(self, target_layer, gradient_in, gradient_out): \n",
    "        \"Create a copy of the layer output gradients and save in `self.stored`.\"\n",
    "        self.stored = gradient_out[0].detach().clone()\n",
    "        \n",
    "    def __enter__(self, *args): \n",
    "        return self\n",
    "\n",
    "    def __exit__(self, *args): \n",
    "        self.hook.remove()"
   ]
  },
  {
   "cell_type": "raw",
   "metadata": {},
   "source": [
    "# hide \n",
    "from torchvision.models.video import r3d_18\n",
    "\n",
    "#hide\n",
    "mrnet_data = pd.read_csv('../../mri-spa/data/train_knee.csv')\n",
    "std = tensor([173.06963,184.85706,197.57706,210.63336,225.09673,241.43134,260.64816,285.0106,320.0079,386.4354,562.08795])\n",
    "percs = tensor([1,10,20,30,40,50,60,70,80,90,99,])\n",
    "\n",
    "\n",
    "dls = ImageDataLoaders3D.from_df(mrnet_data, '/media/..',\n",
    "                                 item_tfms = ResizeCrop3D(crop_by = (0., 0.1, 0.1), resize_to = (16, 112, 112), perc_crop = True),\n",
    "                                 batch_tfms = [*aug_transforms_3d(), RandomPerspective3D(112, p=0.1)],\n",
    "                                 valid_col = 'is_valid',\n",
    "                                 bs = 64, val_bs = 64)\n",
    "\n",
    "learn = cnn_learner_3d(dls, \n",
    "                       r3d_18,  \n",
    "                       model_dir='/home/bressekk/Documents/faimed3d/trashbin/', \n",
    "                       metrics = [accuracy, RocAucBinary()])\n",
    "learn = learn.to_fp16()"
   ]
  },
  {
   "cell_type": "raw",
   "metadata": {},
   "source": [
    "# hide\n",
    "#learn.save('knee')\n",
    "learn = learn.load('model')"
   ]
  },
  {
   "cell_type": "code",
   "execution_count": null,
   "metadata": {},
   "outputs": [],
   "source": [
    "from fastai.learner import Learner # for compatibility with show_docs"
   ]
  },
  {
   "cell_type": "code",
   "execution_count": null,
   "metadata": {},
   "outputs": [],
   "source": [
    "#export\n",
    "@patch\n",
    "def grad_cam(learn:Learner, img, target_class=None, target_layer=None, *args, **kwargs):\n",
    "    if target_layer is None: target_layer = learn.model[-2][4]\n",
    "    pred = learn.predict(img)\n",
    "    print('actual:',pred[0], '\\t predicted:', pred[1].numpy(), '\\t class probabilities:', *pred[2].numpy())\n",
    "    if target_class is None: target_class = pred[1].numpy()\n",
    "    # get images    \n",
    "    x,  = first(dls.test_dl([img])) \n",
    "    x = torch.stack((x, )*3, 1)\n",
    "    x_img = TensorDicom3D(dls.train.decode((x,))[0][0])\n",
    "    # create cam\n",
    "    with HookGradient(target_layer) as hookg:\n",
    "        with HookActivation(target_layer) as hook:\n",
    "            output = learn.model.eval()(x.cuda())\n",
    "            act = hook.stored\n",
    "        output[0, target_class].backward()\n",
    "        grad = hookg.stored\n",
    "        p0, p1 = output.cpu().detach()[0]\n",
    "        \n",
    "    w = grad[0].mean(dim=(1,2), keepdim=True)\n",
    "    gradcam_map = (w * act[0]).sum(0).detach().cpu()\n",
    "    gradcam_map = Resize3D(x_img[0].shape)(TensorDicom3D(gradcam_map))\n",
    "    # plot\n",
    "    x_img[0].show(*args, **kwargs)\n",
    "    gradcam_map.clamp(min=0).show(cmap='inferno', alpha = 0.5, add_to_existing = True,*args, **kwargs)"
   ]
  },
  {
   "cell_type": "raw",
   "metadata": {},
   "source": [
    "# hide\n",
    "img = TensorDicom3D.create(mrnet_data.file_names[0])\n",
    "learn.grad_cam(img, nrow = 5)"
   ]
  },
  {
   "cell_type": "code",
   "execution_count": null,
   "metadata": {},
   "outputs": [],
   "source": []
  }
 ],
 "metadata": {
  "kernelspec": {
   "display_name": "Python 3 (fastai v2)",
   "language": "python",
   "name": "fastai-v2"
  }
 },
 "nbformat": 4,
 "nbformat_minor": 4
}
