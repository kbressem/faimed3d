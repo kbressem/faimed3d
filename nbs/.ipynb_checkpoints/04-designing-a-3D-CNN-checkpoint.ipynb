{
 "cells": [
  {
   "cell_type": "markdown",
   "metadata": {},
   "source": [
    "# Designing a 3D CNN"
   ]
  },
  {
   "cell_type": "code",
   "execution_count": null,
   "metadata": {},
   "outputs": [],
   "source": [
    "# default_exp models\n",
    "# export \n",
    "\n",
    "import SimpleITK as sitk\n",
    "import re\n",
    "import pathlib\n",
    "import torchvision\n",
    "\n",
    "from fastai.basics import *\n",
    "from fastai.vision.all import *\n",
    "from fastai.callback.all import *\n",
    "import fastai\n",
    "from faimed3d.basics import *\n",
    "from faimed3d.augment import *"
   ]
  },
  {
   "cell_type": "code",
   "execution_count": 2,
   "metadata": {},
   "outputs": [],
   "source": [
    "# export\n",
    "# https://github.com/Ontheroad123/ImageNet/blob/master/torch-alexnet-3D.py\n",
    "\n",
    "class AlexNet_3D(nn.Module):\n",
    "\n",
    "    def __init__(self, num_classes=2):\n",
    "        super(AlexNet_3D, self).__init__()\n",
    "        self.features = nn.Sequential(\n",
    "            nn.Conv3d(7, 512, kernel_size=(5,5,1), stride=(2,2,1), padding=(2,2,1)),\n",
    "            nn.LeakyReLU(inplace = True), #    nn.ReLU(inplace=True),\n",
    "            nn.MaxPool3d(kernel_size=(3,3,1), stride=(2,2,1)),\n",
    "\n",
    "            nn.Conv3d(512, 256, kernel_size=(5,5,3), padding=(2,2,1)),\n",
    "            nn.LeakyReLU(inplace = True), #    nn.ReLU(inplace=True),\n",
    "            nn.Dropout(p = 0.8),\n",
    "            nn.MaxPool3d(kernel_size=(3,3,1), stride=(2,2,1)),\n",
    "            \n",
    "            nn.BatchNorm3d(256),\n",
    "            nn.Conv3d(256, 128, kernel_size=(5,5,3), padding=(2,2,1)),\n",
    "            nn.LeakyReLU(inplace = True), #    nn.ReLU(inplace=True),\n",
    "            nn.Dropout(p = 0.8),\n",
    "            nn.MaxPool3d(kernel_size=(3,3,1), stride=(2,2,1)),\n",
    "            \n",
    "            nn.BatchNorm3d(128),\n",
    "            nn.Conv3d(128, 384, kernel_size=(3,3,3), padding=(1,1,1)),\n",
    "            nn.LeakyReLU(inplace = True), #    nn.ReLU(inplace=True),\n",
    "           \n",
    "            nn.BatchNorm3d(384),\n",
    "            nn.Conv3d(384, 256, kernel_size=(3,3,3), padding=(1,1,1)),\n",
    "            nn.LeakyReLU(inplace = True), #    nn.ReLU(inplace=True),\n",
    "            \n",
    "            nn.BatchNorm3d(256),\n",
    "            nn.Conv3d(256, 256, kernel_size=(3,3,3), padding=(1,1,1)),\n",
    "            nn.LeakyReLU(inplace = True), #    nn.ReLU(inplace=True),\n",
    "            nn.MaxPool3d(kernel_size=(3,3,1), stride=(2,2,1)),\n",
    "        )\n",
    "        self.classifier = nn.Sequential(\n",
    "            nn.Linear(11520, 4096), #6 * 6* 4, 4096),\n",
    "            nn.LeakyReLU(inplace = True), #    nn.ReLU(inplace=True),\n",
    "            nn.Linear(4096, 512),\n",
    "            nn.LeakyReLU(inplace = True), #    nn.ReLU(inplace=True),\n",
    "            nn.Linear(512, num_classes),\n",
    "        )\n",
    "\n",
    "    def forward(self, x):\n",
    "        x = self.features(x)\n",
    "        x = x.view(x.size(0),x.size(1)*x.size(2)*x.size(3)*x.size(4) ) #6 * 6 * 4)\n",
    "        x = self.classifier(x)\n",
    "        return x\n",
    "    \n",
    "    \n",
    "def alexnet_3d(pretrained=False, progress=True, **kwargs):\n",
    "    r\"\"\"3D AlexNet model architecture, adapted from https://github.com/Ontheroad123/ImageNet/blob/master/torch-alexnet-3D.py\n",
    "    \n",
    "    Args:\n",
    "        pretrained (bool): If True, returns a model pre-trained on ImageNet\n",
    "        progress (bool): If True, displays a progress bar of the download to stderr\n",
    "    \"\"\"\n",
    "    model = AlexNet_3D(**kwargs)\n",
    "    if pretrained:\n",
    "        \"currently no pretained weights for 3D Alexnet available\"\n",
    "        pass \n",
    "    return model"
   ]
  }
 ],
 "metadata": {
  "kernelspec": {
   "display_name": "Python 3 (fastai v2)~",
   "language": "python",
   "name": "fastai-v2"
  },
  "language_info": {
   "codemirror_mode": {
    "name": "ipython",
    "version": 3
   },
   "file_extension": ".py",
   "mimetype": "text/x-python",
   "name": "python",
   "nbconvert_exporter": "python",
   "pygments_lexer": "ipython3",
   "version": "3.7.7"
  }
 },
 "nbformat": 4,
 "nbformat_minor": 4
}
